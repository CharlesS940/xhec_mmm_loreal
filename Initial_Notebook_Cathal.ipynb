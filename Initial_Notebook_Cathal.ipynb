{
 "cells": [
  {
   "cell_type": "markdown",
   "metadata": {},
   "source": [
    "## L'Oreal Project"
   ]
  },
  {
   "cell_type": "code",
   "execution_count": 1,
   "metadata": {},
   "outputs": [],
   "source": [
    "import pandas as pd \n",
    "import numpy as np \n",
    "import matplotlib.pyplot as plt\n",
    "import plotly.graph_objects as go "
   ]
  },
  {
   "cell_type": "code",
   "execution_count": 15,
   "metadata": {},
   "outputs": [],
   "source": [
    "# This is a df of the sales (units and GBP both online and offline)\n",
    "hair_sellout_df = pd.read_excel('Dataset_UK_Haircare_Product.xlsx')\n",
    "hair_sellout_df.set_index('Starting Week', inplace=True)\n",
    "hair_sellout_df.drop('Year', axis=1, inplace=True)"
   ]
  },
  {
   "cell_type": "code",
   "execution_count": 17,
   "metadata": {},
   "outputs": [
    {
     "data": {
      "application/vnd.plotly.v1+json": {
       "config": {
        "plotlyServerURL": "https://plot.ly"
       },
       "data": [
        {
         "mode": "lines",
         "name": "UK L'Oreal Paris Haircare Total Offline Sellout Value (in pound)",
         "type": "scatter",
         "y": [
          1583364.9000000001,
          1753588.2,
          1690696.8,
          1748572.8,
          1768055.9000000001,
          1752389.6,
          1669474.3,
          1773309.2,
          1793337,
          1798604.6,
          1795010.1,
          1892675.2,
          2092538.5,
          2143666.2,
          2216701.5,
          2169350.3000000003,
          2382257.8000000003,
          2051429.9000000001,
          1952048.8,
          1894197.5,
          1924118.3,
          1906674.9000000001,
          1945317.4000000001,
          1906531.9000000001,
          1950761.8,
          2342323.1,
          2290299.7,
          2205407.1,
          2231353.8000000003,
          2199271.1,
          2096307.2000000002,
          2016241.5,
          1964329.9000000001,
          1888598.4000000001,
          1919326.5,
          1900280.2,
          1913706.6,
          2006992,
          2134574,
          2046510.7000000002,
          1930840.6,
          1992331.9000000001,
          2143103.3000000003,
          2017805.4000000001,
          1999588.5,
          1990701.7,
          1911488.8,
          1986787.4000000001,
          1898280.8,
          2210139.1,
          2585718.2,
          1689646.4000000001,
          1927893.5,
          1928235.4000000001,
          1848236,
          1915716.4000000001,
          2075693.1,
          1953737.5,
          1944203.3,
          1998070.1,
          2203825,
          2287831,
          2594343.7,
          2750705.1,
          2823909.4,
          2608238.1,
          2488519.8000000003,
          2399761,
          2598297,
          2455083.8000000003,
          2173314,
          2109883.1,
          2224470.3000000003,
          2349594,
          2309400.6,
          2318686.5,
          2416271,
          2613592.8000000003,
          2554774.3000000003,
          2724541.3000000003,
          2648907.3000000003,
          2648605.7,
          2553348.2,
          2405538.2,
          2464536.1,
          2576757.3000000003,
          2469402,
          2443769.9,
          2590013.4,
          2469941.5,
          2562619.8000000003,
          2424553.3000000003,
          2425451.6,
          2333596.2,
          2539446,
          2568289.1,
          2469416.3000000003,
          2458116.7,
          2525190.2,
          2472870.4,
          2464104.5,
          2686708.7,
          3397529.2,
          2002780
         ]
        },
        {
         "mode": "lines",
         "name": "UK L'Oreal Paris Haircare Total Offline Sellout Units",
         "type": "scatter",
         "y": [
          681362.5,
          753049.7000000001,
          710890.7000000001,
          729487.2000000001,
          738346.7000000001,
          721747,
          687971.7000000001,
          686506.6,
          676341.9,
          716197.3,
          727920.7000000001,
          762286.2000000001,
          837019.3,
          874914.3,
          904820.8,
          890916,
          992607.2000000001,
          842598.9,
          795385.5,
          758225,
          759157.1,
          763674.6,
          783962.4,
          760676.8,
          772054.4,
          927754.1,
          921602.5,
          883716.6,
          884237.9,
          862002.7000000001,
          830810.5,
          797408.3,
          754785.2000000001,
          681340.4,
          663167.7000000001,
          660935.6,
          663187.2000000001,
          690790.1,
          742329.9,
          712025.6,
          668274.1,
          702599.3,
          764058.1,
          714316.2000000001,
          724170.2000000001,
          739043.5,
          705513.9,
          726557,
          699925.2000000001,
          793871,
          929146.4,
          571801.1,
          647163.4,
          629694,
          593487.7000000001,
          643908.2000000001,
          678607.8,
          648073.4,
          641403.1,
          632924.5,
          684620.3,
          704654.6,
          810101.5,
          885961.7000000001,
          926160.3,
          848272.1,
          832696.8,
          787125.3,
          826689.5,
          786401.2000000001,
          710785.4,
          694093.4,
          735787,
          750752.6,
          726895,
          723816.6,
          752791,
          803621,
          812134.7000000001,
          872465.1,
          860913.3,
          876738.2000000001,
          862416.1,
          806299,
          816203.7000000001,
          824280.6,
          779470.9,
          772319.6,
          836436.9,
          793695.5,
          808684.5,
          744472.3,
          737206.6,
          745260.1,
          829556,
          865679.1,
          840196.5,
          814798.4,
          826727.2000000001,
          806178.1,
          810641,
          878861.1,
          1069429.4000000001,
          606425.3
         ]
        },
        {
         "mode": "lines",
         "name": "UK L'Oreal Paris Haircare Total Online Sellout Value (in pound)",
         "type": "scatter",
         "y": [
          362750.18,
          385263.71,
          359523.06000000006,
          357843.85000000003,
          386416.94,
          312066.69,
          298770.29,
          327903.03,
          338474.11000000004,
          339298.05,
          339528.15,
          341334.5,
          391518.79,
          371639.06000000006,
          341294.85000000003,
          362646.7,
          402037.48,
          376893.92000000004,
          348526.88,
          340446.08,
          318285.11000000004,
          285521.99,
          266711.77,
          251166.88999999998,
          247006.37,
          262867.02,
          257183.55000000002,
          283667.8,
          262178.8,
          299255.83999999997,
          266164.86000000004,
          257675.99,
          290516.46,
          289509.48000000004,
          279415.5,
          247811.85,
          238876.82,
          238572.49,
          279544.33,
          300196,
          282595.43,
          275687.75,
          269640.67,
          304501.99,
          354997.76,
          290673.24,
          348530,
          314942.68,
          291503.03,
          301408.9,
          297545.17,
          223863.38,
          364314.07999999996,
          339281.41000000003,
          352332.89,
          379474.55,
          442713.96,
          358430.67000000004,
          375708.57999999996,
          416562.25,
          414958.57000000007,
          434528.51,
          490952.8,
          524015.44,
          534436.89,
          473500.43,
          503257.56000000006,
          528902.53,
          571712.9600000001,
          513921.46,
          442651.43,
          399869.86000000004,
          414063.39,
          442938.34,
          447714.27999999997,
          456463.41000000003,
          425870.12000000005,
          476649.81000000006,
          460438.55,
          568942.79,
          453810.89,
          493233.26,
          481543.27,
          407684.81000000006,
          422861.52999999997,
          413966.41000000003,
          399693.97000000003,
          359415.81000000006,
          403115.44,
          396386.64,
          441393.68,
          431467.52999999997,
          442944.57999999996,
          405273.18,
          441557.35000000003,
          480475.84,
          456328.99,
          451950.72000000003,
          554491.86,
          511228.38,
          483836.99,
          502614.45,
          463530.07999999996,
          416440.7
         ]
        },
        {
         "mode": "lines",
         "name": "UK L'Oreal Paris Haircare Total Online Sellout Units",
         "type": "scatter",
         "y": [
          111888.40000000001,
          129334.40000000001,
          119282.8,
          116281.1,
          116873.90000000001,
          97662.5,
          95447.3,
          100665.5,
          97814.6,
          101822.5,
          103248.6,
          104993.2,
          116660.7,
          119681.90000000001,
          111134.40000000001,
          121208.1,
          135267.6,
          119795,
          106388.1,
          106746.90000000001,
          94697.2,
          86950.5,
          75814.7,
          70986.5,
          71771.7,
          78319.8,
          80312.7,
          82581.2,
          75442.90000000001,
          88136.1,
          79162.2,
          74558.90000000001,
          80615.6,
          81627,
          78144.3,
          68599.7,
          62851.1,
          63034.4,
          74773.40000000001,
          81227.90000000001,
          76326.90000000001,
          77483.90000000001,
          77784.2,
          86988.2,
          97877,
          85813,
          99388.90000000001,
          92922.7,
          85218.90000000001,
          87776,
          91172.90000000001,
          67574,
          102042.2,
          94619.2,
          98208.5,
          102378.90000000001,
          121799.6,
          97454.5,
          97204.90000000001,
          108023.5,
          107751.8,
          110709.3,
          125613.8,
          128293.1,
          126145.5,
          117460.2,
          133526.9,
          137984.6,
          148163.6,
          131813.5,
          110740.5,
          100694.1,
          104304.2,
          112859.5,
          119602.6,
          120759.6,
          110979.7,
          120019.90000000001,
          117659.1,
          139826.7,
          120715.40000000001,
          133035.5,
          129945.40000000001,
          112122.40000000001,
          113695.40000000001,
          106983.5,
          103993.5,
          94445,
          108370.6,
          109643.3,
          117336.7,
          108973.8,
          108422.6,
          104119.6,
          118625,
          131939.6,
          126565.40000000001,
          125336.90000000001,
          145078.7,
          135547.1,
          127845.90000000001,
          131007.5,
          117670.8,
          87791.6
         ]
        }
       ],
       "layout": {
        "legend": {
         "title": {
          "text": "Columns"
         }
        },
        "template": {
         "data": {
          "bar": [
           {
            "error_x": {
             "color": "#2a3f5f"
            },
            "error_y": {
             "color": "#2a3f5f"
            },
            "marker": {
             "line": {
              "color": "#E5ECF6",
              "width": 0.5
             },
             "pattern": {
              "fillmode": "overlay",
              "size": 10,
              "solidity": 0.2
             }
            },
            "type": "bar"
           }
          ],
          "barpolar": [
           {
            "marker": {
             "line": {
              "color": "#E5ECF6",
              "width": 0.5
             },
             "pattern": {
              "fillmode": "overlay",
              "size": 10,
              "solidity": 0.2
             }
            },
            "type": "barpolar"
           }
          ],
          "carpet": [
           {
            "aaxis": {
             "endlinecolor": "#2a3f5f",
             "gridcolor": "white",
             "linecolor": "white",
             "minorgridcolor": "white",
             "startlinecolor": "#2a3f5f"
            },
            "baxis": {
             "endlinecolor": "#2a3f5f",
             "gridcolor": "white",
             "linecolor": "white",
             "minorgridcolor": "white",
             "startlinecolor": "#2a3f5f"
            },
            "type": "carpet"
           }
          ],
          "choropleth": [
           {
            "colorbar": {
             "outlinewidth": 0,
             "ticks": ""
            },
            "type": "choropleth"
           }
          ],
          "contour": [
           {
            "colorbar": {
             "outlinewidth": 0,
             "ticks": ""
            },
            "colorscale": [
             [
              0,
              "#0d0887"
             ],
             [
              0.1111111111111111,
              "#46039f"
             ],
             [
              0.2222222222222222,
              "#7201a8"
             ],
             [
              0.3333333333333333,
              "#9c179e"
             ],
             [
              0.4444444444444444,
              "#bd3786"
             ],
             [
              0.5555555555555556,
              "#d8576b"
             ],
             [
              0.6666666666666666,
              "#ed7953"
             ],
             [
              0.7777777777777778,
              "#fb9f3a"
             ],
             [
              0.8888888888888888,
              "#fdca26"
             ],
             [
              1,
              "#f0f921"
             ]
            ],
            "type": "contour"
           }
          ],
          "contourcarpet": [
           {
            "colorbar": {
             "outlinewidth": 0,
             "ticks": ""
            },
            "type": "contourcarpet"
           }
          ],
          "heatmap": [
           {
            "colorbar": {
             "outlinewidth": 0,
             "ticks": ""
            },
            "colorscale": [
             [
              0,
              "#0d0887"
             ],
             [
              0.1111111111111111,
              "#46039f"
             ],
             [
              0.2222222222222222,
              "#7201a8"
             ],
             [
              0.3333333333333333,
              "#9c179e"
             ],
             [
              0.4444444444444444,
              "#bd3786"
             ],
             [
              0.5555555555555556,
              "#d8576b"
             ],
             [
              0.6666666666666666,
              "#ed7953"
             ],
             [
              0.7777777777777778,
              "#fb9f3a"
             ],
             [
              0.8888888888888888,
              "#fdca26"
             ],
             [
              1,
              "#f0f921"
             ]
            ],
            "type": "heatmap"
           }
          ],
          "heatmapgl": [
           {
            "colorbar": {
             "outlinewidth": 0,
             "ticks": ""
            },
            "colorscale": [
             [
              0,
              "#0d0887"
             ],
             [
              0.1111111111111111,
              "#46039f"
             ],
             [
              0.2222222222222222,
              "#7201a8"
             ],
             [
              0.3333333333333333,
              "#9c179e"
             ],
             [
              0.4444444444444444,
              "#bd3786"
             ],
             [
              0.5555555555555556,
              "#d8576b"
             ],
             [
              0.6666666666666666,
              "#ed7953"
             ],
             [
              0.7777777777777778,
              "#fb9f3a"
             ],
             [
              0.8888888888888888,
              "#fdca26"
             ],
             [
              1,
              "#f0f921"
             ]
            ],
            "type": "heatmapgl"
           }
          ],
          "histogram": [
           {
            "marker": {
             "pattern": {
              "fillmode": "overlay",
              "size": 10,
              "solidity": 0.2
             }
            },
            "type": "histogram"
           }
          ],
          "histogram2d": [
           {
            "colorbar": {
             "outlinewidth": 0,
             "ticks": ""
            },
            "colorscale": [
             [
              0,
              "#0d0887"
             ],
             [
              0.1111111111111111,
              "#46039f"
             ],
             [
              0.2222222222222222,
              "#7201a8"
             ],
             [
              0.3333333333333333,
              "#9c179e"
             ],
             [
              0.4444444444444444,
              "#bd3786"
             ],
             [
              0.5555555555555556,
              "#d8576b"
             ],
             [
              0.6666666666666666,
              "#ed7953"
             ],
             [
              0.7777777777777778,
              "#fb9f3a"
             ],
             [
              0.8888888888888888,
              "#fdca26"
             ],
             [
              1,
              "#f0f921"
             ]
            ],
            "type": "histogram2d"
           }
          ],
          "histogram2dcontour": [
           {
            "colorbar": {
             "outlinewidth": 0,
             "ticks": ""
            },
            "colorscale": [
             [
              0,
              "#0d0887"
             ],
             [
              0.1111111111111111,
              "#46039f"
             ],
             [
              0.2222222222222222,
              "#7201a8"
             ],
             [
              0.3333333333333333,
              "#9c179e"
             ],
             [
              0.4444444444444444,
              "#bd3786"
             ],
             [
              0.5555555555555556,
              "#d8576b"
             ],
             [
              0.6666666666666666,
              "#ed7953"
             ],
             [
              0.7777777777777778,
              "#fb9f3a"
             ],
             [
              0.8888888888888888,
              "#fdca26"
             ],
             [
              1,
              "#f0f921"
             ]
            ],
            "type": "histogram2dcontour"
           }
          ],
          "mesh3d": [
           {
            "colorbar": {
             "outlinewidth": 0,
             "ticks": ""
            },
            "type": "mesh3d"
           }
          ],
          "parcoords": [
           {
            "line": {
             "colorbar": {
              "outlinewidth": 0,
              "ticks": ""
             }
            },
            "type": "parcoords"
           }
          ],
          "pie": [
           {
            "automargin": true,
            "type": "pie"
           }
          ],
          "scatter": [
           {
            "fillpattern": {
             "fillmode": "overlay",
             "size": 10,
             "solidity": 0.2
            },
            "type": "scatter"
           }
          ],
          "scatter3d": [
           {
            "line": {
             "colorbar": {
              "outlinewidth": 0,
              "ticks": ""
             }
            },
            "marker": {
             "colorbar": {
              "outlinewidth": 0,
              "ticks": ""
             }
            },
            "type": "scatter3d"
           }
          ],
          "scattercarpet": [
           {
            "marker": {
             "colorbar": {
              "outlinewidth": 0,
              "ticks": ""
             }
            },
            "type": "scattercarpet"
           }
          ],
          "scattergeo": [
           {
            "marker": {
             "colorbar": {
              "outlinewidth": 0,
              "ticks": ""
             }
            },
            "type": "scattergeo"
           }
          ],
          "scattergl": [
           {
            "marker": {
             "colorbar": {
              "outlinewidth": 0,
              "ticks": ""
             }
            },
            "type": "scattergl"
           }
          ],
          "scattermapbox": [
           {
            "marker": {
             "colorbar": {
              "outlinewidth": 0,
              "ticks": ""
             }
            },
            "type": "scattermapbox"
           }
          ],
          "scatterpolar": [
           {
            "marker": {
             "colorbar": {
              "outlinewidth": 0,
              "ticks": ""
             }
            },
            "type": "scatterpolar"
           }
          ],
          "scatterpolargl": [
           {
            "marker": {
             "colorbar": {
              "outlinewidth": 0,
              "ticks": ""
             }
            },
            "type": "scatterpolargl"
           }
          ],
          "scatterternary": [
           {
            "marker": {
             "colorbar": {
              "outlinewidth": 0,
              "ticks": ""
             }
            },
            "type": "scatterternary"
           }
          ],
          "surface": [
           {
            "colorbar": {
             "outlinewidth": 0,
             "ticks": ""
            },
            "colorscale": [
             [
              0,
              "#0d0887"
             ],
             [
              0.1111111111111111,
              "#46039f"
             ],
             [
              0.2222222222222222,
              "#7201a8"
             ],
             [
              0.3333333333333333,
              "#9c179e"
             ],
             [
              0.4444444444444444,
              "#bd3786"
             ],
             [
              0.5555555555555556,
              "#d8576b"
             ],
             [
              0.6666666666666666,
              "#ed7953"
             ],
             [
              0.7777777777777778,
              "#fb9f3a"
             ],
             [
              0.8888888888888888,
              "#fdca26"
             ],
             [
              1,
              "#f0f921"
             ]
            ],
            "type": "surface"
           }
          ],
          "table": [
           {
            "cells": {
             "fill": {
              "color": "#EBF0F8"
             },
             "line": {
              "color": "white"
             }
            },
            "header": {
             "fill": {
              "color": "#C8D4E3"
             },
             "line": {
              "color": "white"
             }
            },
            "type": "table"
           }
          ]
         },
         "layout": {
          "annotationdefaults": {
           "arrowcolor": "#2a3f5f",
           "arrowhead": 0,
           "arrowwidth": 1
          },
          "autotypenumbers": "strict",
          "coloraxis": {
           "colorbar": {
            "outlinewidth": 0,
            "ticks": ""
           }
          },
          "colorscale": {
           "diverging": [
            [
             0,
             "#8e0152"
            ],
            [
             0.1,
             "#c51b7d"
            ],
            [
             0.2,
             "#de77ae"
            ],
            [
             0.3,
             "#f1b6da"
            ],
            [
             0.4,
             "#fde0ef"
            ],
            [
             0.5,
             "#f7f7f7"
            ],
            [
             0.6,
             "#e6f5d0"
            ],
            [
             0.7,
             "#b8e186"
            ],
            [
             0.8,
             "#7fbc41"
            ],
            [
             0.9,
             "#4d9221"
            ],
            [
             1,
             "#276419"
            ]
           ],
           "sequential": [
            [
             0,
             "#0d0887"
            ],
            [
             0.1111111111111111,
             "#46039f"
            ],
            [
             0.2222222222222222,
             "#7201a8"
            ],
            [
             0.3333333333333333,
             "#9c179e"
            ],
            [
             0.4444444444444444,
             "#bd3786"
            ],
            [
             0.5555555555555556,
             "#d8576b"
            ],
            [
             0.6666666666666666,
             "#ed7953"
            ],
            [
             0.7777777777777778,
             "#fb9f3a"
            ],
            [
             0.8888888888888888,
             "#fdca26"
            ],
            [
             1,
             "#f0f921"
            ]
           ],
           "sequentialminus": [
            [
             0,
             "#0d0887"
            ],
            [
             0.1111111111111111,
             "#46039f"
            ],
            [
             0.2222222222222222,
             "#7201a8"
            ],
            [
             0.3333333333333333,
             "#9c179e"
            ],
            [
             0.4444444444444444,
             "#bd3786"
            ],
            [
             0.5555555555555556,
             "#d8576b"
            ],
            [
             0.6666666666666666,
             "#ed7953"
            ],
            [
             0.7777777777777778,
             "#fb9f3a"
            ],
            [
             0.8888888888888888,
             "#fdca26"
            ],
            [
             1,
             "#f0f921"
            ]
           ]
          },
          "colorway": [
           "#636efa",
           "#EF553B",
           "#00cc96",
           "#ab63fa",
           "#FFA15A",
           "#19d3f3",
           "#FF6692",
           "#B6E880",
           "#FF97FF",
           "#FECB52"
          ],
          "font": {
           "color": "#2a3f5f"
          },
          "geo": {
           "bgcolor": "white",
           "lakecolor": "white",
           "landcolor": "#E5ECF6",
           "showlakes": true,
           "showland": true,
           "subunitcolor": "white"
          },
          "hoverlabel": {
           "align": "left"
          },
          "hovermode": "closest",
          "mapbox": {
           "style": "light"
          },
          "paper_bgcolor": "white",
          "plot_bgcolor": "#E5ECF6",
          "polar": {
           "angularaxis": {
            "gridcolor": "white",
            "linecolor": "white",
            "ticks": ""
           },
           "bgcolor": "#E5ECF6",
           "radialaxis": {
            "gridcolor": "white",
            "linecolor": "white",
            "ticks": ""
           }
          },
          "scene": {
           "xaxis": {
            "backgroundcolor": "#E5ECF6",
            "gridcolor": "white",
            "gridwidth": 2,
            "linecolor": "white",
            "showbackground": true,
            "ticks": "",
            "zerolinecolor": "white"
           },
           "yaxis": {
            "backgroundcolor": "#E5ECF6",
            "gridcolor": "white",
            "gridwidth": 2,
            "linecolor": "white",
            "showbackground": true,
            "ticks": "",
            "zerolinecolor": "white"
           },
           "zaxis": {
            "backgroundcolor": "#E5ECF6",
            "gridcolor": "white",
            "gridwidth": 2,
            "linecolor": "white",
            "showbackground": true,
            "ticks": "",
            "zerolinecolor": "white"
           }
          },
          "shapedefaults": {
           "line": {
            "color": "#2a3f5f"
           }
          },
          "ternary": {
           "aaxis": {
            "gridcolor": "white",
            "linecolor": "white",
            "ticks": ""
           },
           "baxis": {
            "gridcolor": "white",
            "linecolor": "white",
            "ticks": ""
           },
           "bgcolor": "#E5ECF6",
           "caxis": {
            "gridcolor": "white",
            "linecolor": "white",
            "ticks": ""
           }
          },
          "title": {
           "x": 0.05
          },
          "xaxis": {
           "automargin": true,
           "gridcolor": "white",
           "linecolor": "white",
           "ticks": "",
           "title": {
            "standoff": 15
           },
           "zerolinecolor": "white",
           "zerolinewidth": 2
          },
          "yaxis": {
           "automargin": true,
           "gridcolor": "white",
           "linecolor": "white",
           "ticks": "",
           "title": {
            "standoff": 15
           },
           "zerolinecolor": "white",
           "zerolinewidth": 2
          }
         }
        },
        "title": {
         "text": "Plot of Four Columns"
        },
        "xaxis": {
         "title": {
          "text": "Index"
         }
        },
        "yaxis": {
         "title": {
          "text": "Value"
         }
        }
       }
      }
     },
     "metadata": {},
     "output_type": "display_data"
    }
   ],
   "source": [
    "# Assuming df has four numerical columns\n",
    "fig = go.Figure()\n",
    "\n",
    "# Add traces for each column\n",
    "for col in hair_sellout_df.columns:\n",
    "    fig.add_trace(go.Scatter(y=hair_sellout_df[col], mode='lines', name=col))\n",
    "\n",
    "# Customize layout\n",
    "fig.update_layout(\n",
    "    title=\"Online and Offline Sell Columns\",\n",
    "    xaxis_title=\"Index\",\n",
    "    yaxis_title=\"Value\",\n",
    "    legend_title=\"Columns\",\n",
    ")\n",
    "\n",
    "# Show figure\n",
    "fig.show()\n"
   ]
  }
 ],
 "metadata": {
  "kernelspec": {
   "display_name": "base",
   "language": "python",
   "name": "python3"
  },
  "language_info": {
   "codemirror_mode": {
    "name": "ipython",
    "version": 3
   },
   "file_extension": ".py",
   "mimetype": "text/x-python",
   "name": "python",
   "nbconvert_exporter": "python",
   "pygments_lexer": "ipython3",
   "version": "3.11.4"
  }
 },
 "nbformat": 4,
 "nbformat_minor": 2
}
