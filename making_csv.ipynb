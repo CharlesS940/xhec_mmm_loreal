{
 "cells": [
  {
   "cell_type": "code",
   "execution_count": 4,
   "metadata": {},
   "outputs": [],
   "source": [
    "import pandas as pd\n",
    "\n",
    "# Load the Excel file\n",
    "file_path = \"Dataset UK L'Oreal Paris Haircare - HEC Training.xlsx\"\n",
    "xls = pd.ExcelFile(file_path)\n",
    "\n",
    "# Iterate over each sheet\n",
    "for sheet_name in xls.sheet_names:\n",
    "    # Read the sheet into a DataFrame\n",
    "    df = xls.parse(sheet_name)\n",
    "    \n",
    "    # Drop completely empty rows and columns\n",
    "    df.dropna(how='all', inplace=True)\n",
    "    df.dropna(axis=1, how='all', inplace=True)\n",
    "    \n",
    "    # Convert sheet name to lowercase and replace spaces with underscores\n",
    "    safe_sheet_name = sheet_name.replace(\" \", \"_\").lower()\n",
    "    \n",
    "    # Save to CSV without empty cells\n",
    "    df.to_csv(f\"data/{safe_sheet_name}.csv\", index=False)"
   ]
  }
 ],
 "metadata": {
  "kernelspec": {
   "display_name": ".venv",
   "language": "python",
   "name": "python3"
  },
  "language_info": {
   "codemirror_mode": {
    "name": "ipython",
    "version": 3
   },
   "file_extension": ".py",
   "mimetype": "text/x-python",
   "name": "python",
   "nbconvert_exporter": "python",
   "pygments_lexer": "ipython3",
   "version": "3.10.11"
  }
 },
 "nbformat": 4,
 "nbformat_minor": 2
}
