{
 "cells": [
  {
   "cell_type": "markdown",
   "metadata": {},
   "source": [
    "# Statsmodels"
   ]
  },
  {
   "cell_type": "code",
   "execution_count": 18,
   "metadata": {},
   "outputs": [],
   "source": [
    "import pandas as pd"
   ]
  },
  {
   "cell_type": "code",
   "execution_count": 19,
   "metadata": {},
   "outputs": [],
   "source": [
    "df = pd.read_csv('data/merged_data.csv')\n",
    "\n",
    "df.drop(columns=[\"UK L'Oreal Paris Haircare Total Online Sellout Units\",\n",
    "                \"UK L'Oreal Paris Haircare Online Average Price (in pound)\",\n",
    "                 \"UK L'Oreal Paris Haircare Total Online Sellout Value (in pound)\"], inplace=True)\n",
    "\n",
    "df.rename(columns={\"UK L'Oreal Paris Haircare Total Offline Sellout Units\": \"offline_units\",\n",
    "                   \"UK L'Oreal Paris Haircare Offline Average Price (in pound)\": \"offline_average_price\",\n",
    "                   \"UK L'Oreal Paris Haircare Total Offline Sellout Value (in pound)\": \"offline_sellout_value\",\n",
    "                   \"UK L'Oreal Paris Haircare Total Weigheted Promotion Distribution (%)\": \"weighted_promotion_distribution\"},\n",
    "                    inplace=True)"
   ]
  },
  {
   "cell_type": "code",
   "execution_count": 21,
   "metadata": {},
   "outputs": [],
   "source": [
    "MMM_CATEGORIES = {\n",
    "    \"search\": [\"google\", \"amazon\"],\n",
    "    \"retail_media\": [\"amazon_retail\", \"tesco\", \"citrus\", \"the_hut_group\"],\n",
    "    \"video\": [\"google_video\", \"youtube\", \"bvod\", \"linear\"],\n",
    "    \"social\": [\"meta\", \"pinterest\", \"tik_tok\", \"meta_collab_ads\", \"influencer_management\"],\n",
    "    \"display\": [\"criteo\"],\n",
    "    \"other\": [\"testers_and_merchandising\"]\n",
    "}"
   ]
  },
  {
   "cell_type": "code",
   "execution_count": 22,
   "metadata": {},
   "outputs": [
    {
     "name": "stderr",
     "output_type": "stream",
     "text": [
      "/tmp/ipykernel_4326/2087693819.py:14: FutureWarning: Setting an item of incompatible dtype is deprecated and will raise an error in a future version of pandas. Value '537.2169434971748' has dtype incompatible with int64, please explicitly cast to a compatible dtype first.\n",
      "  df.at[index, f\"{category}_impression\"] += row[\"execution\"]\n",
      "/tmp/ipykernel_4326/2087693819.py:15: FutureWarning: Setting an item of incompatible dtype is deprecated and will raise an error in a future version of pandas. Value '107.43801653' has dtype incompatible with int64, please explicitly cast to a compatible dtype first.\n",
      "  df.at[index, f\"{category}_spend\"] += row[\"investment (in pound)\"]\n",
      "/tmp/ipykernel_4326/2087693819.py:14: FutureWarning: Setting an item of incompatible dtype is deprecated and will raise an error in a future version of pandas. Value '815102.08' has dtype incompatible with int64, please explicitly cast to a compatible dtype first.\n",
      "  df.at[index, f\"{category}_impression\"] += row[\"execution\"]\n",
      "/tmp/ipykernel_4326/2087693819.py:15: FutureWarning: Setting an item of incompatible dtype is deprecated and will raise an error in a future version of pandas. Value '16158.5130096' has dtype incompatible with int64, please explicitly cast to a compatible dtype first.\n",
      "  df.at[index, f\"{category}_spend\"] += row[\"investment (in pound)\"]\n",
      "/tmp/ipykernel_4326/2087693819.py:14: FutureWarning: Setting an item of incompatible dtype is deprecated and will raise an error in a future version of pandas. Value '193246.3' has dtype incompatible with int64, please explicitly cast to a compatible dtype first.\n",
      "  df.at[index, f\"{category}_impression\"] += row[\"execution\"]\n",
      "/tmp/ipykernel_4326/2087693819.py:15: FutureWarning: Setting an item of incompatible dtype is deprecated and will raise an error in a future version of pandas. Value '613.431' has dtype incompatible with int64, please explicitly cast to a compatible dtype first.\n",
      "  df.at[index, f\"{category}_spend\"] += row[\"investment (in pound)\"]\n",
      "/tmp/ipykernel_4326/2087693819.py:14: FutureWarning: Setting an item of incompatible dtype is deprecated and will raise an error in a future version of pandas. Value '4067.7' has dtype incompatible with int64, please explicitly cast to a compatible dtype first.\n",
      "  df.at[index, f\"{category}_impression\"] += row[\"execution\"]\n",
      "/tmp/ipykernel_4326/2087693819.py:15: FutureWarning: Setting an item of incompatible dtype is deprecated and will raise an error in a future version of pandas. Value '374.88467406000007' has dtype incompatible with int64, please explicitly cast to a compatible dtype first.\n",
      "  df.at[index, f\"{category}_spend\"] += row[\"investment (in pound)\"]\n",
      "/tmp/ipykernel_4326/2087693819.py:14: FutureWarning: Setting an item of incompatible dtype is deprecated and will raise an error in a future version of pandas. Value '156076.7' has dtype incompatible with int64, please explicitly cast to a compatible dtype first.\n",
      "  df.at[index, f\"{category}_impression\"] += row[\"execution\"]\n",
      "/tmp/ipykernel_4326/2087693819.py:15: FutureWarning: Setting an item of incompatible dtype is deprecated and will raise an error in a future version of pandas. Value '3053.20964' has dtype incompatible with int64, please explicitly cast to a compatible dtype first.\n",
      "  df.at[index, f\"{category}_spend\"] += row[\"investment (in pound)\"]\n",
      "/tmp/ipykernel_4326/2087693819.py:14: FutureWarning: Setting an item of incompatible dtype is deprecated and will raise an error in a future version of pandas. Value '330.57142859' has dtype incompatible with int64, please explicitly cast to a compatible dtype first.\n",
      "  df.at[index, f\"{category}_impression\"] += row[\"execution\"]\n",
      "/tmp/ipykernel_4326/2087693819.py:15: FutureWarning: Setting an item of incompatible dtype is deprecated and will raise an error in a future version of pandas. Value '5303.0665259' has dtype incompatible with int64, please explicitly cast to a compatible dtype first.\n",
      "  df.at[index, f\"{category}_spend\"] += row[\"investment (in pound)\"]\n"
     ]
    }
   ],
   "source": [
    "growth_columns = [\"growth_driver_l1\", \"growth_driver_l2\", \"growth_driver_l3\", \"growth_driver_l4\", \"growth_driver_l5\"]\n",
    "\n",
    "df['Starting Week'] = pd.to_datetime(df['Starting Week'])\n",
    "\n",
    "# Initialize columns to store execution and investment for each category\n",
    "for category in MMM_CATEGORIES:\n",
    "    df[f\"{category}_impression\"] = 0\n",
    "    df[f\"{category}_spend\"] = 0\n",
    "\n",
    "for index, row in df.iterrows():\n",
    "    driver = row[\"growth_driver_l5\"]\n",
    "    for category, drivers in MMM_CATEGORIES.items():\n",
    "        if driver in drivers:\n",
    "            df.at[index, f\"{category}_impression\"] += row[\"execution\"]\n",
    "            df.at[index, f\"{category}_spend\"] += row[\"investment (in pound)\"]\n",
    "\n",
    "df = df.drop(columns=growth_columns + [\"metric\", \"Year_x\", \"Year_y\"])\n",
    "\n",
    "df_grouped = df.groupby(\"Starting Week\").agg({\n",
    "    'execution': 'first',\n",
    "    'offline_average_price': 'first',\n",
    "    'weighted_promotion_distribution': 'first',\n",
    "    'offline_sellout_value': 'first',\n",
    "    'offline_units': 'first',\n",
    "    'search_impression': 'sum',\n",
    "    'search_spend': 'sum',\n",
    "    'retail_media_impression': 'sum',\n",
    "    'retail_media_spend': 'sum',\n",
    "    'video_impression': 'sum',\n",
    "    'video_spend': 'sum',\n",
    "    'social_impression': 'sum',\n",
    "    'social_spend': 'sum',\n",
    "    'display_impression': 'sum',\n",
    "    'display_spend': 'sum'\n",
    "}).reset_index()"
   ]
  },
  {
   "cell_type": "code",
   "execution_count": 23,
   "metadata": {},
   "outputs": [
    {
     "ename": "ModuleNotFoundError",
     "evalue": "No module named 'holidays'",
     "output_type": "error",
     "traceback": [
      "\u001b[0;31m---------------------------------------------------------------------------\u001b[0m",
      "\u001b[0;31mModuleNotFoundError\u001b[0m                       Traceback (most recent call last)",
      "Cell \u001b[0;32mIn[23], line 1\u001b[0m\n\u001b[0;32m----> 1\u001b[0m \u001b[38;5;28;01mimport\u001b[39;00m\u001b[38;5;250m \u001b[39m\u001b[38;5;21;01mholidays\u001b[39;00m\n\u001b[1;32m      3\u001b[0m \u001b[38;5;66;03m# Get UK holidays for 2022 and 2023\u001b[39;00m\n\u001b[1;32m      4\u001b[0m uk_holidays \u001b[38;5;241m=\u001b[39m holidays\u001b[38;5;241m.\u001b[39mUnitedKingdom(years\u001b[38;5;241m=\u001b[39m[\u001b[38;5;241m2022\u001b[39m, \u001b[38;5;241m2023\u001b[39m])\n",
      "\u001b[0;31mModuleNotFoundError\u001b[0m: No module named 'holidays'"
     ]
    }
   ],
   "source": [
    "import holidays\n",
    "\n",
    "# Get UK holidays for 2022 and 2023\n",
    "uk_holidays = holidays.UnitedKingdom(years=[2022, 2023])\n",
    "\n",
    "# Convert to DataFrame for better visualization\n",
    "holiday_data = pd.DataFrame(list(uk_holidays.items()), columns=[\"Date\", \"Holiday\"])\n",
    "\n",
    "# Sort the holidays by date\n",
    "holiday_data['Date'] = pd.to_datetime(holiday_data['Date'])\n",
    "holiday_data = holiday_data.sort_values(by='Date')\n",
    "\n",
    "# Add a week number column\n",
    "holiday_data['Week'] = holiday_data['Date'].dt.strftime('%Y-W%U')"
   ]
  },
  {
   "cell_type": "code",
   "execution_count": 40,
   "metadata": {},
   "outputs": [
    {
     "data": {
      "text/plain": [
       "12"
      ]
     },
     "execution_count": 40,
     "metadata": {},
     "output_type": "execute_result"
    }
   ],
   "source": [
    "# Add a column to df_grouped to indicate if there is a holiday that week\n",
    "df_grouped['is_holiday'] = df_grouped['Starting Week'].dt.strftime('%Y-W%U').isin(holiday_data['Week']).astype(int)\n",
    "\n",
    "# Display the updated DataFrame\n",
    "df_grouped[\"is_holiday\"].sum()"
   ]
  },
  {
   "cell_type": "code",
   "execution_count": 41,
   "metadata": {},
   "outputs": [
    {
     "ename": "ModuleNotFoundError",
     "evalue": "No module named 'statsmodels'",
     "output_type": "error",
     "traceback": [
      "\u001b[1;31m---------------------------------------------------------------------------\u001b[0m",
      "\u001b[1;31mModuleNotFoundError\u001b[0m                       Traceback (most recent call last)",
      "Cell \u001b[1;32mIn[41], line 1\u001b[0m\n\u001b[1;32m----> 1\u001b[0m \u001b[38;5;28;01mimport\u001b[39;00m\u001b[38;5;250m \u001b[39m\u001b[38;5;21;01mstatsmodels\u001b[39;00m\u001b[38;5;21;01m.\u001b[39;00m\u001b[38;5;21;01mapi\u001b[39;00m\u001b[38;5;250m \u001b[39m\u001b[38;5;28;01mas\u001b[39;00m\u001b[38;5;250m \u001b[39m\u001b[38;5;21;01msm\u001b[39;00m\n\u001b[0;32m      3\u001b[0m \u001b[38;5;66;03m# Define the target variable and the channels\u001b[39;00m\n\u001b[0;32m      4\u001b[0m target \u001b[38;5;241m=\u001b[39m \u001b[38;5;124m'\u001b[39m\u001b[38;5;124mexecution\u001b[39m\u001b[38;5;124m'\u001b[39m\n",
      "\u001b[1;31mModuleNotFoundError\u001b[0m: No module named 'statsmodels'"
     ]
    }
   ],
   "source": [
    "import statsmodels.api as sm\n",
    "\n",
    "# Define the target variable and the channels\n",
    "target = 'execution'\n",
    "channels = list(MMM_CATEGORIES.keys())\n",
    "\n",
    "# Prepare the data for the model\n",
    "X = df_grouped[channels]\n",
    "y = df_grouped[target]\n",
    "\n",
    "# Add a constant to the model (intercept)\n",
    "X = sm.add_constant(X)\n",
    "\n",
    "# Fit the OLS model\n",
    "model = sm.OLS(y, X).fit()\n",
    "\n",
    "# Print the model summary\n",
    "print(model.summary())"
   ]
  },
  {
   "cell_type": "markdown",
   "metadata": {},
   "source": [
    "# Meridian"
   ]
  },
  {
   "cell_type": "code",
   "execution_count": 24,
   "metadata": {},
   "outputs": [],
   "source": [
    "df_grouped[\"geo\"] = \"Geo0\"\n",
    "df_grouped.to_csv(\"data/offline_binned.csv\", index=False)"
   ]
  },
  {
   "cell_type": "code",
   "execution_count": 25,
   "metadata": {},
   "outputs": [
    {
     "name": "stderr",
     "output_type": "stream",
     "text": [
      "/home/charlot/Documents/work/xhec_mmm_loreal/.venv/lib/python3.12/site-packages/meridian/data/load.py:1020: FutureWarning: Downcasting behavior in `replace` is deprecated and will be removed in a future version. To retain the old behavior, explicitly call `result.infer_objects(copy=False)`. To opt-in to the future behavior, set `pd.set_option('future.no_silent_downcasting', True)`\n",
      "  self.df[geo_column_name] = self.df[geo_column_name].replace(\n",
      "/home/charlot/Documents/work/xhec_mmm_loreal/.venv/lib/python3.12/site-packages/meridian/data/load.py:201: FutureWarning: The return type of `Dataset.dims` will be changed to return a set of dimension names in future, in order to be more consistent with `DataArray.dims`. To access a mapping from dimension names to lengths, please use `Dataset.sizes`.\n",
      "  if (constants.GEO) not in self.dataset.dims.keys():\n",
      "/home/charlot/Documents/work/xhec_mmm_loreal/.venv/lib/python3.12/site-packages/meridian/data/load.py:206: UserWarning: The `population` argument is ignored in a nationally aggregated model. It will be reset to [1]\n",
      "  warnings.warn(\n",
      "/home/charlot/Documents/work/xhec_mmm_loreal/.venv/lib/python3.12/site-packages/meridian/data/load.py:231: FutureWarning: The return type of `Dataset.dims` will be changed to return a set of dimension names in future, in order to be more consistent with `DataArray.dims`. To access a mapping from dimension names to lengths, please use `Dataset.sizes`.\n",
      "  if constants.MEDIA_TIME not in self.dataset.dims.keys():\n"
     ]
    }
   ],
   "source": [
    "import numpy as np\n",
    "import pandas as pd\n",
    "import tensorflow as tf\n",
    "import tensorflow_probability as tfp\n",
    "import arviz as az\n",
    "\n",
    "import IPython\n",
    "\n",
    "from meridian import constants\n",
    "from meridian.data import load\n",
    "from meridian.data import test_utils\n",
    "from meridian.model import model\n",
    "from meridian.model import spec\n",
    "from meridian.model import prior_distribution\n",
    "from meridian.analysis import optimizer\n",
    "from meridian.analysis import analyzer\n",
    "from meridian.analysis import visualizer\n",
    "from meridian.analysis import summarizer\n",
    "from meridian.analysis import formatter\n",
    "\n",
    "coord_to_columns = load.CoordToColumns(\n",
    "    time='Starting Week',\n",
    "    geo='geo',\n",
    "    controls=['weighted_promotion_distribution'],\n",
    "    #population='population',\n",
    "    kpi='offline_units',\n",
    "    revenue_per_kpi='offline_average_price',\n",
    "    media=[\n",
    "        'search_impression',\n",
    "        'retail_media_impression',\n",
    "        'video_impression',\n",
    "        'social_impression',\n",
    "        'display_impression',\n",
    "    ],\n",
    "    media_spend=[\n",
    "        'search_spend',\n",
    "        'retail_media_spend',\n",
    "        'video_spend',\n",
    "        'social_spend',\n",
    "        'display_spend',\n",
    "    ],\n",
    "    #organic_media=['Organic_channel0_impression'],\n",
    "    #non_media_treatments=['Promo'],\n",
    ")\n",
    "\n",
    "correct_media_to_channel = {\n",
    "    'search_impression': 'search',\n",
    "    'retail_media_impression': 'retail_media',\n",
    "    'video_impression': 'video',\n",
    "    'social_impression': 'social',\n",
    "    'display_impression': 'display',\n",
    "}\n",
    "\n",
    "correct_media_spend_to_channel = {\n",
    "    'search_spend' : \"search\",\n",
    "    'retail_media_spend': \"retail_media\",\n",
    "    'video_spend': \"video\",\n",
    "    'social_spend': \"social\",\n",
    "    'display_spend': \"display\",\n",
    "}\n",
    "\n",
    "loader = load.CsvDataLoader(\n",
    "    csv_path=\"data/offline_binned.csv\",\n",
    "    kpi_type='non_revenue',\n",
    "    coord_to_columns=coord_to_columns,\n",
    "    media_to_channel=correct_media_to_channel,\n",
    "    media_spend_to_channel=correct_media_spend_to_channel,\n",
    ")\n",
    "data = loader.load()\n"
   ]
  },
  {
   "cell_type": "code",
   "execution_count": 33,
   "metadata": {},
   "outputs": [
    {
     "name": "stderr",
     "output_type": "stream",
     "text": [
      "/home/charlot/Documents/work/xhec_mmm_loreal/.venv/lib/python3.12/site-packages/meridian/model/model.py:67: UserWarning: In a nationally aggregated model, the `media_effects_dist` will be reset to `normal`.\n",
      "  warnings.warn(\n",
      "/home/charlot/Documents/work/xhec_mmm_loreal/.venv/lib/python3.12/site-packages/meridian/model/prior_distribution.py:846: UserWarning: Hierarchical distribution parameters must be deterministically zero for national models. tau_g_excl_baseline has been automatically set to Deterministic(0).\n",
      "  warnings.warn(\n",
      "/home/charlot/Documents/work/xhec_mmm_loreal/.venv/lib/python3.12/site-packages/meridian/model/prior_distribution.py:846: UserWarning: Hierarchical distribution parameters must be deterministically zero for national models. eta_m has been automatically set to Deterministic(0).\n",
      "  warnings.warn(\n",
      "/home/charlot/Documents/work/xhec_mmm_loreal/.venv/lib/python3.12/site-packages/meridian/model/prior_distribution.py:846: UserWarning: Hierarchical distribution parameters must be deterministically zero for national models. eta_rf has been automatically set to Deterministic(0).\n",
      "  warnings.warn(\n",
      "/home/charlot/Documents/work/xhec_mmm_loreal/.venv/lib/python3.12/site-packages/meridian/model/prior_distribution.py:846: UserWarning: Hierarchical distribution parameters must be deterministically zero for national models. eta_om has been automatically set to Deterministic(0).\n",
      "  warnings.warn(\n",
      "/home/charlot/Documents/work/xhec_mmm_loreal/.venv/lib/python3.12/site-packages/meridian/model/prior_distribution.py:846: UserWarning: Hierarchical distribution parameters must be deterministically zero for national models. eta_orf has been automatically set to Deterministic(0).\n",
      "  warnings.warn(\n",
      "/home/charlot/Documents/work/xhec_mmm_loreal/.venv/lib/python3.12/site-packages/meridian/model/prior_distribution.py:846: UserWarning: Hierarchical distribution parameters must be deterministically zero for national models. xi_c has been automatically set to Deterministic(0).\n",
      "  warnings.warn(\n",
      "/home/charlot/Documents/work/xhec_mmm_loreal/.venv/lib/python3.12/site-packages/meridian/model/prior_distribution.py:846: UserWarning: Hierarchical distribution parameters must be deterministically zero for national models. xi_n has been automatically set to Deterministic(0).\n",
      "  warnings.warn(\n",
      "W0000 00:00:1738872517.068846    4326 assert_op.cc:38] Ignoring Assert operator mcmc_retry_init/assert_equal_1/Assert/AssertGuard/Assert\n",
      "/home/charlot/Documents/work/xhec_mmm_loreal/.venv/lib/python3.12/site-packages/arviz/data/inference_data.py:157: UserWarning: trace group is not defined in the InferenceData scheme\n",
      "  warnings.warn(\n",
      "/home/charlot/Documents/work/xhec_mmm_loreal/.venv/lib/python3.12/site-packages/arviz/data/inference_data.py:1655: UserWarning: trace group is not defined in the InferenceData scheme\n",
      "  warnings.warn(\n",
      "/home/charlot/Documents/work/xhec_mmm_loreal/.venv/lib/python3.12/site-packages/meridian/analysis/analyzer.py:182: UserWarning: The `aggregate_geos` argument is ignored in the national model. It will be reset to `True`.\n",
      "  warnings.warn(\n"
     ]
    }
   ],
   "source": [
    "import numpy as np\n",
    "\n",
    "mu = 0.3\n",
    "sigma = 0.8\n",
    "\n",
    "prior = prior_distribution.PriorDistribution(\n",
    "    roi_m=tfp.distributions.LogNormal(mu, sigma, name=constants.ROI_M)\n",
    ")\n",
    "model_spec = spec.ModelSpec(prior=prior, knots=50,max_lag=10, media_effects_dist=\"log_normal\")\n",
    "\n",
    "mmm = model.Meridian(input_data=data, model_spec=model_spec)\n",
    "\n",
    "mmm.sample_prior(250)\n",
    "mmm.sample_posterior(n_chains=7, n_adapt=500, n_burnin=500, n_keep=1000)\n",
    "\n",
    "model_diagnostics = visualizer.ModelDiagnostics(mmm)\n",
    "rsquared = model_diagnostics.predictive_accuracy_table()"
   ]
  },
  {
   "cell_type": "code",
   "execution_count": 34,
   "metadata": {},
   "outputs": [
    {
     "name": "stderr",
     "output_type": "stream",
     "text": [
      "/home/charlot/Documents/work/xhec_mmm_loreal/.venv/lib/python3.12/site-packages/meridian/analysis/analyzer.py:182: UserWarning: The `aggregate_geos` argument is ignored in the national model. It will be reset to `True`.\n",
      "  warnings.warn(\n"
     ]
    },
    {
     "data": {
      "text/html": [
       "<div>\n",
       "<style scoped>\n",
       "    .dataframe tbody tr th:only-of-type {\n",
       "        vertical-align: middle;\n",
       "    }\n",
       "\n",
       "    .dataframe tbody tr th {\n",
       "        vertical-align: top;\n",
       "    }\n",
       "\n",
       "    .dataframe thead th {\n",
       "        text-align: right;\n",
       "    }\n",
       "</style>\n",
       "<table border=\"1\" class=\"dataframe\">\n",
       "  <thead>\n",
       "    <tr style=\"text-align: right;\">\n",
       "      <th></th>\n",
       "      <th>metric</th>\n",
       "      <th>geo_granularity</th>\n",
       "      <th>value</th>\n",
       "    </tr>\n",
       "  </thead>\n",
       "  <tbody>\n",
       "    <tr>\n",
       "      <th>0</th>\n",
       "      <td>R_Squared</td>\n",
       "      <td>national</td>\n",
       "      <td>0.857032</td>\n",
       "    </tr>\n",
       "    <tr>\n",
       "      <th>1</th>\n",
       "      <td>MAPE</td>\n",
       "      <td>national</td>\n",
       "      <td>0.028468</td>\n",
       "    </tr>\n",
       "    <tr>\n",
       "      <th>2</th>\n",
       "      <td>wMAPE</td>\n",
       "      <td>national</td>\n",
       "      <td>0.028735</td>\n",
       "    </tr>\n",
       "  </tbody>\n",
       "</table>\n",
       "</div>"
      ],
      "text/plain": [
       "      metric geo_granularity     value\n",
       "0  R_Squared        national  0.857032\n",
       "1       MAPE        national  0.028468\n",
       "2      wMAPE        national  0.028735"
      ]
     },
     "execution_count": 34,
     "metadata": {},
     "output_type": "execute_result"
    }
   ],
   "source": [
    "model_diagnostics = visualizer.ModelDiagnostics(mmm)\n",
    "model_diagnostics.predictive_accuracy_table()"
   ]
  },
  {
   "cell_type": "code",
   "execution_count": 35,
   "metadata": {},
   "outputs": [
    {
     "name": "stderr",
     "output_type": "stream",
     "text": [
      "/home/charlot/Documents/work/xhec_mmm_loreal/.venv/lib/python3.12/site-packages/meridian/analysis/analyzer.py:182: UserWarning: The `aggregate_geos` argument is ignored in the national model. It will be reset to `True`.\n",
      "  warnings.warn(\n",
      "/home/charlot/Documents/work/xhec_mmm_loreal/.venv/lib/python3.12/site-packages/altair/utils/core.py:384: FutureWarning: the convert_dtype parameter is deprecated and will be removed in a future version.  Do ``ser.astype(object).apply()`` instead if you want ``convert_dtype=False``.\n",
      "  col = df[col_name].apply(to_list_if_array, convert_dtype=False)\n",
      "/home/charlot/Documents/work/xhec_mmm_loreal/.venv/lib/python3.12/site-packages/altair/utils/core.py:384: FutureWarning: the convert_dtype parameter is deprecated and will be removed in a future version.  Do ``ser.astype(object).apply()`` instead if you want ``convert_dtype=False``.\n",
      "  col = df[col_name].apply(to_list_if_array, convert_dtype=False)\n"
     ]
    },
    {
     "data": {
      "text/html": [
       "\n",
       "<div id=\"altair-viz-4f2bcb1a7a4b4747a4a26ca484ca4a24\"></div>\n",
       "<script type=\"text/javascript\">\n",
       "  var VEGA_DEBUG = (typeof VEGA_DEBUG == \"undefined\") ? {} : VEGA_DEBUG;\n",
       "  (function(spec, embedOpt){\n",
       "    let outputDiv = document.currentScript.previousElementSibling;\n",
       "    if (outputDiv.id !== \"altair-viz-4f2bcb1a7a4b4747a4a26ca484ca4a24\") {\n",
       "      outputDiv = document.getElementById(\"altair-viz-4f2bcb1a7a4b4747a4a26ca484ca4a24\");\n",
       "    }\n",
       "    const paths = {\n",
       "      \"vega\": \"https://cdn.jsdelivr.net/npm//vega@5?noext\",\n",
       "      \"vega-lib\": \"https://cdn.jsdelivr.net/npm//vega-lib?noext\",\n",
       "      \"vega-lite\": \"https://cdn.jsdelivr.net/npm//vega-lite@4.17.0?noext\",\n",
       "      \"vega-embed\": \"https://cdn.jsdelivr.net/npm//vega-embed@6?noext\",\n",
       "    };\n",
       "\n",
       "    function maybeLoadScript(lib, version) {\n",
       "      var key = `${lib.replace(\"-\", \"\")}_version`;\n",
       "      return (VEGA_DEBUG[key] == version) ?\n",
       "        Promise.resolve(paths[lib]) :\n",
       "        new Promise(function(resolve, reject) {\n",
       "          var s = document.createElement('script');\n",
       "          document.getElementsByTagName(\"head\")[0].appendChild(s);\n",
       "          s.async = true;\n",
       "          s.onload = () => {\n",
       "            VEGA_DEBUG[key] = version;\n",
       "            return resolve(paths[lib]);\n",
       "          };\n",
       "          s.onerror = () => reject(`Error loading script: ${paths[lib]}`);\n",
       "          s.src = paths[lib];\n",
       "        });\n",
       "    }\n",
       "\n",
       "    function showError(err) {\n",
       "      outputDiv.innerHTML = `<div class=\"error\" style=\"color:red;\">${err}</div>`;\n",
       "      throw err;\n",
       "    }\n",
       "\n",
       "    function displayChart(vegaEmbed) {\n",
       "      vegaEmbed(outputDiv, spec, embedOpt)\n",
       "        .catch(err => showError(`Javascript Error: ${err.message}<br>This usually means there's a typo in your chart specification. See the javascript console for the full traceback.`));\n",
       "    }\n",
       "\n",
       "    if(typeof define === \"function\" && define.amd) {\n",
       "      requirejs.config({paths});\n",
       "      require([\"vega-embed\"], displayChart, err => showError(`Error loading script: ${err.message}`));\n",
       "    } else {\n",
       "      maybeLoadScript(\"vega\", \"5\")\n",
       "        .then(() => maybeLoadScript(\"vega-lite\", \"4.17.0\"))\n",
       "        .then(() => maybeLoadScript(\"vega-embed\", \"6\"))\n",
       "        .catch(showError)\n",
       "        .then(() => displayChart(vegaEmbed));\n",
       "    }\n",
       "  })({\"config\": {\"view\": {\"continuousWidth\": 400, \"continuousHeight\": 300}, \"axis\": {\"labelColor\": \"#5F6368\", \"labelFont\": \"Roboto\", \"labelFontSize\": 12, \"titleColor\": \"#5F6368\", \"titleFont\": \"Roboto\", \"titleFontSize\": 12, \"titleFontWeight\": \"normal\"}}, \"layer\": [{\"mark\": \"line\", \"encoding\": {\"color\": {\"field\": \"type\", \"scale\": {\"domain\": [\"expected\", \"actual\", \"baseline\"], \"range\": [\"#1A73E8\", \"#81C995\", \"#F9AB00\"]}, \"type\": \"nominal\"}, \"x\": {\"axis\": {\"domainColor\": \"#DADCE0\", \"format\": \"%Y %b\", \"grid\": false, \"tickCount\": 8}, \"field\": \"time\", \"title\": \"Time period\", \"type\": \"temporal\"}, \"y\": {\"axis\": {\"domain\": false, \"labelExpr\": \"replace(format(datum.value, '.3~s'), 'G', 'B')\", \"labelPadding\": 10, \"tickCount\": 5, \"ticks\": false, \"titleAlign\": \"left\", \"titleAngle\": 0, \"titleY\": -20}, \"field\": \"mean\", \"title\": \"Revenue\", \"type\": \"quantitative\"}}}, {\"mark\": {\"type\": \"area\", \"opacity\": 0.3}, \"encoding\": {\"color\": {\"field\": \"type\", \"legend\": null, \"scale\": {\"domain\": [\"expected\"], \"range\": [\"#1A73E8\"]}, \"type\": \"nominal\"}, \"x\": {\"field\": \"time\", \"type\": \"temporal\"}, \"y\": {\"field\": \"ci_hi\", \"type\": \"quantitative\"}, \"y2\": {\"field\": \"ci_lo\"}}}], \"data\": {\"name\": \"data-b7243f269ae4ff3be14b0d7b4719bddd\"}, \"resolve\": {\"scale\": {\"color\": \"independent\"}}, \"title\": {\"text\": \"Expected revenue vs. actual revenue\", \"anchor\": \"start\", \"color\": \"#3C4043\", \"font\": \"Google Sans Display\", \"fontSize\": 18, \"fontWeight\": \"normal\", \"offset\": 10}, \"$schema\": \"https://vega.github.io/schema/vega-lite/v4.17.0.json\", \"datasets\": {\"data-b7243f269ae4ff3be14b0d7b4719bddd\": [{\"time\": \"2022-01-03\", \"type\": \"actual\", \"ci_hi\": 1583364.875, \"ci_lo\": 1583364.875, \"mean\": 1583364.875}, {\"time\": \"2022-01-03\", \"type\": \"baseline\", \"ci_hi\": 1800972.875, \"ci_lo\": 1414680.9875, \"mean\": 1609117.375}, {\"time\": \"2022-01-03\", \"type\": \"expected\", \"ci_hi\": 1822963.8812499999, \"ci_lo\": 1436263.71875, \"mean\": 1631023.125}, {\"time\": \"2022-01-10\", \"type\": \"actual\", \"ci_hi\": 1753588.25, \"ci_lo\": 1753588.25, \"mean\": 1753588.25}, {\"time\": \"2022-01-10\", \"type\": \"baseline\", \"ci_hi\": 1758703.75, \"ci_lo\": 1511133.95625, \"mean\": 1633606.625}, {\"time\": \"2022-01-10\", \"type\": \"expected\", \"ci_hi\": 1789636.34375, \"ci_lo\": 1549179.4125, \"mean\": 1667929.5}, {\"time\": \"2022-01-17\", \"type\": \"actual\", \"ci_hi\": 1690696.75, \"ci_lo\": 1690696.75, \"mean\": 1690696.75}, {\"time\": \"2022-01-17\", \"type\": \"baseline\", \"ci_hi\": 1886428.86875, \"ci_lo\": 1506930.56875, \"mean\": 1696342.75}, {\"time\": \"2022-01-17\", \"type\": \"expected\", \"ci_hi\": 1925866.65625, \"ci_lo\": 1561780.0375, \"mean\": 1742086.625}, {\"time\": \"2022-01-24\", \"type\": \"actual\", \"ci_hi\": 1748572.875, \"ci_lo\": 1748572.875, \"mean\": 1748572.875}, {\"time\": \"2022-01-24\", \"type\": \"baseline\", \"ci_hi\": 1790036.09375, \"ci_lo\": 1518714.29375, \"mean\": 1656754.875}, {\"time\": \"2022-01-24\", \"type\": \"expected\", \"ci_hi\": 1864816.7874999999, \"ci_lo\": 1613887.10625, \"mean\": 1739103.875}, {\"time\": \"2022-01-31\", \"type\": \"actual\", \"ci_hi\": 1768055.875, \"ci_lo\": 1768055.875, \"mean\": 1768055.875}, {\"time\": \"2022-01-31\", \"type\": \"baseline\", \"ci_hi\": 1887457.7375, \"ci_lo\": 1475890.01875, \"mean\": 1683325.375}, {\"time\": \"2022-01-31\", \"type\": \"expected\", \"ci_hi\": 1979482.26875, \"ci_lo\": 1589631.96875, \"mean\": 1783203.25}, {\"time\": \"2022-02-07\", \"type\": \"actual\", \"ci_hi\": 1752389.625, \"ci_lo\": 1752389.625, \"mean\": 1752389.625}, {\"time\": \"2022-02-07\", \"type\": \"baseline\", \"ci_hi\": 1764500.55625, \"ci_lo\": 1473197.35625, \"mean\": 1622118.25}, {\"time\": \"2022-02-07\", \"type\": \"expected\", \"ci_hi\": 1857386.6249999998, \"ci_lo\": 1608248.40625, \"mean\": 1733320.25}, {\"time\": \"2022-02-14\", \"type\": \"actual\", \"ci_hi\": 1669474.25, \"ci_lo\": 1669474.25, \"mean\": 1669474.25}, {\"time\": \"2022-02-14\", \"type\": \"baseline\", \"ci_hi\": 1737072.51875, \"ci_lo\": 1313228.4375, \"mean\": 1526947.25}, {\"time\": \"2022-02-14\", \"type\": \"expected\", \"ci_hi\": 1863753.74375, \"ci_lo\": 1473033.96875, \"mean\": 1667583.0}, {\"time\": \"2022-02-21\", \"type\": \"actual\", \"ci_hi\": 1773309.25, \"ci_lo\": 1773309.25, \"mean\": 1773309.25}, {\"time\": \"2022-02-21\", \"type\": \"baseline\", \"ci_hi\": 1783505.825, \"ci_lo\": 1451717.125, \"mean\": 1625038.875}, {\"time\": \"2022-02-21\", \"type\": \"expected\", \"ci_hi\": 1948358.54375, \"ci_lo\": 1678058.59375, \"mean\": 1813692.5}, {\"time\": \"2022-02-28\", \"type\": \"actual\", \"ci_hi\": 1793336.875, \"ci_lo\": 1793336.875, \"mean\": 1793336.875}, {\"time\": \"2022-02-28\", \"type\": \"baseline\", \"ci_hi\": 1862035.8312499996, \"ci_lo\": 1390102.2125, \"mean\": 1629011.5}, {\"time\": \"2022-02-28\", \"type\": \"expected\", \"ci_hi\": 2021466.9, \"ci_lo\": 1614063.14375, \"mean\": 1817379.375}, {\"time\": \"2022-03-07\", \"type\": \"actual\", \"ci_hi\": 1798604.625, \"ci_lo\": 1798604.625, \"mean\": 1798604.625}, {\"time\": \"2022-03-07\", \"type\": \"baseline\", \"ci_hi\": 1727076.7374999998, \"ci_lo\": 1401218.95625, \"mean\": 1565285.625}, {\"time\": \"2022-03-07\", \"type\": \"expected\", \"ci_hi\": 1860177.5, \"ci_lo\": 1597233.6125, \"mean\": 1727849.375}, {\"time\": \"2022-03-14\", \"type\": \"actual\", \"ci_hi\": 1795010.125, \"ci_lo\": 1795010.125, \"mean\": 1795010.125}, {\"time\": \"2022-03-14\", \"type\": \"baseline\", \"ci_hi\": 1859834.25625, \"ci_lo\": 1430599.30625, \"mean\": 1644148.0}, {\"time\": \"2022-03-14\", \"type\": \"expected\", \"ci_hi\": 2006127.6312499999, \"ci_lo\": 1623250.54375, \"mean\": 1814407.125}, {\"time\": \"2022-03-21\", \"type\": \"actual\", \"ci_hi\": 1892675.25, \"ci_lo\": 1892675.25, \"mean\": 1892675.25}, {\"time\": \"2022-03-21\", \"type\": \"baseline\", \"ci_hi\": 1895162.29375, \"ci_lo\": 1560552.7, \"mean\": 1733072.5}, {\"time\": \"2022-03-21\", \"type\": \"expected\", \"ci_hi\": 2066095.2562499999, \"ci_lo\": 1809082.00625, \"mean\": 1935377.875}, {\"time\": \"2022-03-28\", \"type\": \"actual\", \"ci_hi\": 2092538.5, \"ci_lo\": 2092538.5, \"mean\": 2092538.5}, {\"time\": \"2022-03-28\", \"type\": \"baseline\", \"ci_hi\": 2071297.1999999997, \"ci_lo\": 1597981.11875, \"mean\": 1839752.75}, {\"time\": \"2022-03-28\", \"type\": \"expected\", \"ci_hi\": 2272296.3, \"ci_lo\": 1878759.5875, \"mean\": 2072863.0}, {\"time\": \"2022-04-04\", \"type\": \"actual\", \"ci_hi\": 2143666.25, \"ci_lo\": 2143666.25, \"mean\": 2143666.25}, {\"time\": \"2022-04-04\", \"type\": \"baseline\", \"ci_hi\": 2074223.35, \"ci_lo\": 1699783.40625, \"mean\": 1901666.75}, {\"time\": \"2022-04-04\", \"type\": \"expected\", \"ci_hi\": 2271940.3625, \"ci_lo\": 2016889.99375, \"mean\": 2143568.5}, {\"time\": \"2022-04-11\", \"type\": \"actual\", \"ci_hi\": 2216701.5, \"ci_lo\": 2216701.5, \"mean\": 2216701.5}, {\"time\": \"2022-04-11\", \"type\": \"baseline\", \"ci_hi\": 2175123.0624999995, \"ci_lo\": 1695613.925, \"mean\": 1946373.25}, {\"time\": \"2022-04-11\", \"type\": \"expected\", \"ci_hi\": 2377455.4374999995, \"ci_lo\": 1988192.88125, \"mean\": 2184516.25}, {\"time\": \"2022-04-18\", \"type\": \"actual\", \"ci_hi\": 2169350.25, \"ci_lo\": 2169350.25, \"mean\": 2169350.25}, {\"time\": \"2022-04-18\", \"type\": \"baseline\", \"ci_hi\": 2185551.7125, \"ci_lo\": 1814988.275, \"mean\": 2013187.625}, {\"time\": \"2022-04-18\", \"type\": \"expected\", \"ci_hi\": 2356611.9375, \"ci_lo\": 2094668.5, \"mean\": 2225569.25}, {\"time\": \"2022-04-25\", \"type\": \"actual\", \"ci_hi\": 2382257.75, \"ci_lo\": 2382257.75, \"mean\": 2382257.75}, {\"time\": \"2022-04-25\", \"type\": \"baseline\", \"ci_hi\": 2357931.6874999995, \"ci_lo\": 1905254.825, \"mean\": 2139905.5}, {\"time\": \"2022-04-25\", \"type\": \"expected\", \"ci_hi\": 2512389.6374999997, \"ci_lo\": 2139263.5375, \"mean\": 2327466.5}, {\"time\": \"2022-05-02\", \"type\": \"actual\", \"ci_hi\": 2051429.875, \"ci_lo\": 2051429.875, \"mean\": 2051429.875}, {\"time\": \"2022-05-02\", \"type\": \"baseline\", \"ci_hi\": 2090449.64375, \"ci_lo\": 1752387.6625, \"mean\": 1933221.0}, {\"time\": \"2022-05-02\", \"type\": \"expected\", \"ci_hi\": 2217486.4499999997, \"ci_lo\": 1985029.075, \"mean\": 2102237.5}, {\"time\": \"2022-05-09\", \"type\": \"actual\", \"ci_hi\": 1952048.75, \"ci_lo\": 1952048.75, \"mean\": 1952048.75}, {\"time\": \"2022-05-09\", \"type\": \"baseline\", \"ci_hi\": 1964544.46875, \"ci_lo\": 1530675.8125, \"mean\": 1751663.5}, {\"time\": \"2022-05-09\", \"type\": \"expected\", \"ci_hi\": 2083057.21875, \"ci_lo\": 1725131.5062499999, \"mean\": 1904699.125}, {\"time\": \"2022-05-16\", \"type\": \"actual\", \"ci_hi\": 1894197.5, \"ci_lo\": 1894197.5, \"mean\": 1894197.5}, {\"time\": \"2022-05-16\", \"type\": \"baseline\", \"ci_hi\": 1938935.6312499999, \"ci_lo\": 1604186.9375, \"mean\": 1781900.875}, {\"time\": \"2022-05-16\", \"type\": \"expected\", \"ci_hi\": 2045991.2, \"ci_lo\": 1800627.49375, \"mean\": 1923062.625}, {\"time\": \"2022-05-23\", \"type\": \"actual\", \"ci_hi\": 1924118.375, \"ci_lo\": 1924118.375, \"mean\": 1924118.375}, {\"time\": \"2022-05-23\", \"type\": \"baseline\", \"ci_hi\": 1957777.4125, \"ci_lo\": 1637967.54375, \"mean\": 1808341.75}, {\"time\": \"2022-05-23\", \"type\": \"expected\", \"ci_hi\": 2061527.91875, \"ci_lo\": 1816225.19375, \"mean\": 1938759.0}, {\"time\": \"2022-05-30\", \"type\": \"actual\", \"ci_hi\": 1906675.0, \"ci_lo\": 1906675.0, \"mean\": 1906675.0}, {\"time\": \"2022-05-30\", \"type\": \"baseline\", \"ci_hi\": 1991336.0187499993, \"ci_lo\": 1594371.28125, \"mean\": 1798424.75}, {\"time\": \"2022-05-30\", \"type\": \"expected\", \"ci_hi\": 2090614.80625, \"ci_lo\": 1738748.4875, \"mean\": 1915852.125}, {\"time\": \"2022-06-06\", \"type\": \"actual\", \"ci_hi\": 1945317.375, \"ci_lo\": 1945317.375, \"mean\": 1945317.375}, {\"time\": \"2022-06-06\", \"type\": \"baseline\", \"ci_hi\": 1925542.7562499999, \"ci_lo\": 1629311.45, \"mean\": 1782169.0}, {\"time\": \"2022-06-06\", \"type\": \"expected\", \"ci_hi\": 2013160.19375, \"ci_lo\": 1771974.43125, \"mean\": 1893474.25}, {\"time\": \"2022-06-13\", \"type\": \"actual\", \"ci_hi\": 1906532.0, \"ci_lo\": 1906532.0, \"mean\": 1906532.0}, {\"time\": \"2022-06-13\", \"type\": \"baseline\", \"ci_hi\": 1973676.925, \"ci_lo\": 1546942.75, \"mean\": 1763208.0}, {\"time\": \"2022-06-13\", \"type\": \"expected\", \"ci_hi\": 2059215.48125, \"ci_lo\": 1667662.69375, \"mean\": 1864496.75}, {\"time\": \"2022-06-20\", \"type\": \"actual\", \"ci_hi\": 1950761.75, \"ci_lo\": 1950761.75, \"mean\": 1950761.75}, {\"time\": \"2022-06-20\", \"type\": \"baseline\", \"ci_hi\": 2143567.85, \"ci_lo\": 1851583.95625, \"mean\": 1998553.5}, {\"time\": \"2022-06-20\", \"type\": \"expected\", \"ci_hi\": 2222224.7875, \"ci_lo\": 1965213.1, \"mean\": 2092415.875}, {\"time\": \"2022-06-27\", \"type\": \"actual\", \"ci_hi\": 2342323.0, \"ci_lo\": 2342323.0, \"mean\": 2342323.0}, {\"time\": \"2022-06-27\", \"type\": \"baseline\", \"ci_hi\": 2400966.4, \"ci_lo\": 1991817.18125, \"mean\": 2196037.25}, {\"time\": \"2022-06-27\", \"type\": \"expected\", \"ci_hi\": 2500268.0, \"ci_lo\": 2109328.4625, \"mean\": 2305558.0}, {\"time\": \"2022-07-04\", \"type\": \"actual\", \"ci_hi\": 2290299.75, \"ci_lo\": 2290299.75, \"mean\": 2290299.75}, {\"time\": \"2022-07-04\", \"type\": \"baseline\", \"ci_hi\": 2222600.8499999996, \"ci_lo\": 1919011.61875, \"mean\": 2074455.375}, {\"time\": \"2022-07-04\", \"type\": \"expected\", \"ci_hi\": 2344663.8375, \"ci_lo\": 2084785.79375, \"mean\": 2214042.5}, {\"time\": \"2022-07-11\", \"type\": \"actual\", \"ci_hi\": 2205407.25, \"ci_lo\": 2205407.25, \"mean\": 2205407.25}, {\"time\": \"2022-07-11\", \"type\": \"baseline\", \"ci_hi\": 2279289.1, \"ci_lo\": 1838279.3625, \"mean\": 2057003.875}, {\"time\": \"2022-07-11\", \"type\": \"expected\", \"ci_hi\": 2435211.725, \"ci_lo\": 2039600.01875, \"mean\": 2235533.25}, {\"time\": \"2022-07-18\", \"type\": \"actual\", \"ci_hi\": 2231353.75, \"ci_lo\": 2231353.75, \"mean\": 2231353.75}, {\"time\": \"2022-07-18\", \"type\": \"baseline\", \"ci_hi\": 2196073.85, \"ci_lo\": 1862872.75, \"mean\": 2034993.875}, {\"time\": \"2022-07-18\", \"type\": \"expected\", \"ci_hi\": 2370424.6875, \"ci_lo\": 2119616.3, \"mean\": 2245185.0}, {\"time\": \"2022-07-25\", \"type\": \"actual\", \"ci_hi\": 2199271.0, \"ci_lo\": 2199271.0, \"mean\": 2199271.0}, {\"time\": \"2022-07-25\", \"type\": \"baseline\", \"ci_hi\": 2204906.5, \"ci_lo\": 1740367.90625, \"mean\": 1976403.0}, {\"time\": \"2022-07-25\", \"type\": \"expected\", \"ci_hi\": 2389162.625, \"ci_lo\": 1997767.45, \"mean\": 2190443.5}, {\"time\": \"2022-08-01\", \"type\": \"actual\", \"ci_hi\": 2096307.25, \"ci_lo\": 2096307.25, \"mean\": 2096307.25}, {\"time\": \"2022-08-01\", \"type\": \"baseline\", \"ci_hi\": 2063234.5499999998, \"ci_lo\": 1710526.33125, \"mean\": 1897523.875}, {\"time\": \"2022-08-01\", \"type\": \"expected\", \"ci_hi\": 2226318.3875, \"ci_lo\": 1968329.48125, \"mean\": 2098785.0}, {\"time\": \"2022-08-08\", \"type\": \"actual\", \"ci_hi\": 2016241.5, \"ci_lo\": 2016241.5, \"mean\": 2016241.5}, {\"time\": \"2022-08-08\", \"type\": \"baseline\", \"ci_hi\": 2064437.53125, \"ci_lo\": 1604763.46875, \"mean\": 1837570.0}, {\"time\": \"2022-08-08\", \"type\": \"expected\", \"ci_hi\": 2231026.525, \"ci_lo\": 1840736.50625, \"mean\": 2038817.625}, {\"time\": \"2022-08-15\", \"type\": \"actual\", \"ci_hi\": 1964329.875, \"ci_lo\": 1964329.875, \"mean\": 1964329.875}, {\"time\": \"2022-08-15\", \"type\": \"baseline\", \"ci_hi\": 1889060.1749999998, \"ci_lo\": 1517518.5374999999, \"mean\": 1710747.25}, {\"time\": \"2022-08-15\", \"type\": \"expected\", \"ci_hi\": 2054168.74375, \"ci_lo\": 1788075.3375, \"mean\": 1920786.375}, {\"time\": \"2022-08-22\", \"type\": \"actual\", \"ci_hi\": 1888598.375, \"ci_lo\": 1888598.375, \"mean\": 1888598.375}, {\"time\": \"2022-08-22\", \"type\": \"baseline\", \"ci_hi\": 1924715.8437499998, \"ci_lo\": 1415111.75, \"mean\": 1673901.25}, {\"time\": \"2022-08-22\", \"type\": \"expected\", \"ci_hi\": 2108958.1624999996, \"ci_lo\": 1688610.29375, \"mean\": 1899189.625}, {\"time\": \"2022-08-29\", \"type\": \"actual\", \"ci_hi\": 1919326.5, \"ci_lo\": 1919326.5, \"mean\": 1919326.5}, {\"time\": \"2022-08-29\", \"type\": \"baseline\", \"ci_hi\": 1945828.6125, \"ci_lo\": 1538753.20625, \"mean\": 1752999.875}, {\"time\": \"2022-08-29\", \"type\": \"expected\", \"ci_hi\": 2113295.25, \"ci_lo\": 1817159.7875, \"mean\": 1965932.125}, {\"time\": \"2022-09-05\", \"type\": \"actual\", \"ci_hi\": 1900280.25, \"ci_lo\": 1900280.25, \"mean\": 1900280.25}, {\"time\": \"2022-09-05\", \"type\": \"baseline\", \"ci_hi\": 1948948.0374999999, \"ci_lo\": 1428379.875, \"mean\": 1691319.625}, {\"time\": \"2022-09-05\", \"type\": \"expected\", \"ci_hi\": 2096949.9124999999, \"ci_lo\": 1647175.425, \"mean\": 1869985.625}, {\"time\": \"2022-09-12\", \"type\": \"actual\", \"ci_hi\": 1913706.625, \"ci_lo\": 1913706.625, \"mean\": 1913706.625}, {\"time\": \"2022-09-12\", \"type\": \"baseline\", \"ci_hi\": 1982188.7874999999, \"ci_lo\": 1582506.1125, \"mean\": 1796531.75}, {\"time\": \"2022-09-12\", \"type\": \"expected\", \"ci_hi\": 2090242.11875, \"ci_lo\": 1798356.6375, \"mean\": 1942480.875}, {\"time\": \"2022-09-19\", \"type\": \"actual\", \"ci_hi\": 2006992.0, \"ci_lo\": 2006992.0, \"mean\": 2006992.0}, {\"time\": \"2022-09-19\", \"type\": \"baseline\", \"ci_hi\": 2162652.6374999997, \"ci_lo\": 1623800.51875, \"mean\": 1898893.625}, {\"time\": \"2022-09-19\", \"type\": \"expected\", \"ci_hi\": 2285577.8625, \"ci_lo\": 1828460.2125, \"mean\": 2053291.5}, {\"time\": \"2022-09-26\", \"type\": \"actual\", \"ci_hi\": 2134574.0, \"ci_lo\": 2134574.0, \"mean\": 2134574.0}, {\"time\": \"2022-09-26\", \"type\": \"baseline\", \"ci_hi\": 2045771.80625, \"ci_lo\": 1672198.8875, \"mean\": 1868314.375}, {\"time\": \"2022-09-26\", \"type\": \"expected\", \"ci_hi\": 2165873.4499999997, \"ci_lo\": 1878838.8625, \"mean\": 2021892.25}, {\"time\": \"2022-10-03\", \"type\": \"actual\", \"ci_hi\": 2046510.75, \"ci_lo\": 2046510.75, \"mean\": 2046510.75}, {\"time\": \"2022-10-03\", \"type\": \"baseline\", \"ci_hi\": 2104054.025, \"ci_lo\": 1628616.64375, \"mean\": 1869767.5}, {\"time\": \"2022-10-03\", \"type\": \"expected\", \"ci_hi\": 2201418.0124999997, \"ci_lo\": 1784846.06875, \"mean\": 1993006.125}, {\"time\": \"2022-10-10\", \"type\": \"actual\", \"ci_hi\": 1930840.625, \"ci_lo\": 1930840.625, \"mean\": 1930840.625}, {\"time\": \"2022-10-10\", \"type\": \"baseline\", \"ci_hi\": 2090905.23125, \"ci_lo\": 1713864.8125, \"mean\": 1910718.75}, {\"time\": \"2022-10-10\", \"type\": \"expected\", \"ci_hi\": 2253895.0875, \"ci_lo\": 1951139.4125, \"mean\": 2099775.25}, {\"time\": \"2022-10-17\", \"type\": \"actual\", \"ci_hi\": 1992331.875, \"ci_lo\": 1992331.875, \"mean\": 1992331.875}, {\"time\": \"2022-10-17\", \"type\": \"baseline\", \"ci_hi\": 1967881.8437499998, \"ci_lo\": 1565052.2, \"mean\": 1774016.5}, {\"time\": \"2022-10-17\", \"type\": \"expected\", \"ci_hi\": 2153857.725, \"ci_lo\": 1842640.625, \"mean\": 2000204.5}, {\"time\": \"2022-10-24\", \"type\": \"actual\", \"ci_hi\": 2143103.25, \"ci_lo\": 2143103.25, \"mean\": 2143103.25}, {\"time\": \"2022-10-24\", \"type\": \"baseline\", \"ci_hi\": 2056584.3124999998, \"ci_lo\": 1554458.9625, \"mean\": 1818523.25}, {\"time\": \"2022-10-24\", \"type\": \"expected\", \"ci_hi\": 2255320.5124999997, \"ci_lo\": 1858718.4749999999, \"mean\": 2059887.75}, {\"time\": \"2022-10-31\", \"type\": \"actual\", \"ci_hi\": 2017805.375, \"ci_lo\": 2017805.375, \"mean\": 2017805.375}, {\"time\": \"2022-10-31\", \"type\": \"baseline\", \"ci_hi\": 2003065.1375, \"ci_lo\": 1612055.7125, \"mean\": 1818408.625}, {\"time\": \"2022-10-31\", \"type\": \"expected\", \"ci_hi\": 2209426.8625, \"ci_lo\": 1939373.68125, \"mean\": 2074492.25}, {\"time\": \"2022-11-07\", \"type\": \"actual\", \"ci_hi\": 1999588.5, \"ci_lo\": 1999588.5, \"mean\": 1999588.5}, {\"time\": \"2022-11-07\", \"type\": \"baseline\", \"ci_hi\": 2005957.375, \"ci_lo\": 1511039.8, \"mean\": 1761073.75}, {\"time\": \"2022-11-07\", \"type\": \"expected\", \"ci_hi\": 2201278.4, \"ci_lo\": 1778323.6125, \"mean\": 1987888.25}, {\"time\": \"2022-11-14\", \"type\": \"actual\", \"ci_hi\": 1990701.625, \"ci_lo\": 1990701.625, \"mean\": 1990701.625}, {\"time\": \"2022-11-14\", \"type\": \"baseline\", \"ci_hi\": 1943334.4874999998, \"ci_lo\": 1556799.175, \"mean\": 1757875.875}, {\"time\": \"2022-11-14\", \"type\": \"expected\", \"ci_hi\": 2110026.8874999997, \"ci_lo\": 1831232.7125, \"mean\": 1969066.0}, {\"time\": \"2022-11-21\", \"type\": \"actual\", \"ci_hi\": 1911488.75, \"ci_lo\": 1911488.75, \"mean\": 1911488.75}, {\"time\": \"2022-11-21\", \"type\": \"baseline\", \"ci_hi\": 1988556.26875, \"ci_lo\": 1493956.76875, \"mean\": 1743537.875}, {\"time\": \"2022-11-21\", \"type\": \"expected\", \"ci_hi\": 2170076.775, \"ci_lo\": 1737093.55, \"mean\": 1952510.875}, {\"time\": \"2022-11-28\", \"type\": \"actual\", \"ci_hi\": 1986787.375, \"ci_lo\": 1986787.375, \"mean\": 1986787.375}, {\"time\": \"2022-11-28\", \"type\": \"baseline\", \"ci_hi\": 1911107.325, \"ci_lo\": 1525928.8125, \"mean\": 1724659.0}, {\"time\": \"2022-11-28\", \"type\": \"expected\", \"ci_hi\": 2090373.2499999998, \"ci_lo\": 1801493.9124999999, \"mean\": 1945130.0}, {\"time\": \"2022-12-05\", \"type\": \"actual\", \"ci_hi\": 1898280.75, \"ci_lo\": 1898280.75, \"mean\": 1898280.75}, {\"time\": \"2022-12-05\", \"type\": \"baseline\", \"ci_hi\": 1978054.86875, \"ci_lo\": 1476376.8125, \"mean\": 1731564.75}, {\"time\": \"2022-12-05\", \"type\": \"expected\", \"ci_hi\": 2147095.9374999995, \"ci_lo\": 1719838.1, \"mean\": 1930969.125}, {\"time\": \"2022-12-12\", \"type\": \"actual\", \"ci_hi\": 2210139.0, \"ci_lo\": 2210139.0, \"mean\": 2210139.0}, {\"time\": \"2022-12-12\", \"type\": \"baseline\", \"ci_hi\": 2209987.7625, \"ci_lo\": 1824236.73125, \"mean\": 2027722.125}, {\"time\": \"2022-12-12\", \"type\": \"expected\", \"ci_hi\": 2343060.15, \"ci_lo\": 2061683.9, \"mean\": 2200307.75}, {\"time\": \"2022-12-19\", \"type\": \"actual\", \"ci_hi\": 2585718.25, \"ci_lo\": 2585718.25, \"mean\": 2585718.25}, {\"time\": \"2022-12-19\", \"type\": \"baseline\", \"ci_hi\": 2496232.3625, \"ci_lo\": 1975894.60625, \"mean\": 2241972.25}, {\"time\": \"2022-12-19\", \"type\": \"expected\", \"ci_hi\": 2615080.6125, \"ci_lo\": 2185116.65, \"mean\": 2397199.0}, {\"time\": \"2022-12-26\", \"type\": \"actual\", \"ci_hi\": 1689646.5, \"ci_lo\": 1689646.5, \"mean\": 1689646.5}, {\"time\": \"2022-12-26\", \"type\": \"baseline\", \"ci_hi\": 2149106.4875, \"ci_lo\": 1730540.75, \"mean\": 1948892.875}, {\"time\": \"2022-12-26\", \"type\": \"expected\", \"ci_hi\": 2255479.7125, \"ci_lo\": 1939638.5999999999, \"mean\": 2096995.75}, {\"time\": \"2023-01-02\", \"type\": \"actual\", \"ci_hi\": 1927893.375, \"ci_lo\": 1927893.375, \"mean\": 1927893.375}, {\"time\": \"2023-01-02\", \"type\": \"baseline\", \"ci_hi\": 1887954.5999999999, \"ci_lo\": 1348607.15, \"mean\": 1624493.625}, {\"time\": \"2023-01-02\", \"type\": \"expected\", \"ci_hi\": 2002134.80625, \"ci_lo\": 1525647.25625, \"mean\": 1767187.75}, {\"time\": \"2023-01-09\", \"type\": \"actual\", \"ci_hi\": 1928235.375, \"ci_lo\": 1928235.375, \"mean\": 1928235.375}, {\"time\": \"2023-01-09\", \"type\": \"baseline\", \"ci_hi\": 1919631.6875, \"ci_lo\": 1524412.1625, \"mean\": 1732290.875}, {\"time\": \"2023-01-09\", \"type\": \"expected\", \"ci_hi\": 2013864.2374999998, \"ci_lo\": 1698613.875, \"mean\": 1858511.375}, {\"time\": \"2023-01-16\", \"type\": \"actual\", \"ci_hi\": 1848236.0, \"ci_lo\": 1848236.0, \"mean\": 1848236.0}, {\"time\": \"2023-01-16\", \"type\": \"baseline\", \"ci_hi\": 2075056.86875, \"ci_lo\": 1553159.7562499999, \"mean\": 1816941.0}, {\"time\": \"2023-01-16\", \"type\": \"expected\", \"ci_hi\": 2173540.325, \"ci_lo\": 1689626.6375, \"mean\": 1933788.875}, {\"time\": \"2023-01-23\", \"type\": \"actual\", \"ci_hi\": 1915716.25, \"ci_lo\": 1915716.25, \"mean\": 1915716.25}, {\"time\": \"2023-01-23\", \"type\": \"baseline\", \"ci_hi\": 1899598.2874999999, \"ci_lo\": 1533583.9, \"mean\": 1722295.75}, {\"time\": \"2023-01-23\", \"type\": \"expected\", \"ci_hi\": 2002626.6562499998, \"ci_lo\": 1684429.125, \"mean\": 1843431.0}, {\"time\": \"2023-01-30\", \"type\": \"actual\", \"ci_hi\": 2075693.25, \"ci_lo\": 2075693.25, \"mean\": 2075693.25}, {\"time\": \"2023-01-30\", \"type\": \"baseline\", \"ci_hi\": 2113584.0999999996, \"ci_lo\": 1587103.9875, \"mean\": 1854288.875}, {\"time\": \"2023-01-30\", \"type\": \"expected\", \"ci_hi\": 2333037.85, \"ci_lo\": 1861031.61875, \"mean\": 2096661.5}, {\"time\": \"2023-02-06\", \"type\": \"actual\", \"ci_hi\": 1953737.5, \"ci_lo\": 1953737.5, \"mean\": 1953737.5}, {\"time\": \"2023-02-06\", \"type\": \"baseline\", \"ci_hi\": 1933578.9562499998, \"ci_lo\": 1521587.6875, \"mean\": 1736483.25}, {\"time\": \"2023-02-06\", \"type\": \"expected\", \"ci_hi\": 2149173.05, \"ci_lo\": 1847092.93125, \"mean\": 1998612.375}, {\"time\": \"2023-02-13\", \"type\": \"actual\", \"ci_hi\": 1944203.375, \"ci_lo\": 1944203.375, \"mean\": 1944203.375}, {\"time\": \"2023-02-13\", \"type\": \"baseline\", \"ci_hi\": 1902439.84375, \"ci_lo\": 1330559.3499999999, \"mean\": 1626212.25}, {\"time\": \"2023-02-13\", \"type\": \"expected\", \"ci_hi\": 2146233.5875, \"ci_lo\": 1660056.04375, \"mean\": 1904887.5}, {\"time\": \"2023-02-20\", \"type\": \"actual\", \"ci_hi\": 1998070.125, \"ci_lo\": 1998070.125, \"mean\": 1998070.125}, {\"time\": \"2023-02-20\", \"type\": \"baseline\", \"ci_hi\": 1971991.5687499999, \"ci_lo\": 1530044.575, \"mean\": 1763075.125}, {\"time\": \"2023-02-20\", \"type\": \"expected\", \"ci_hi\": 2209992.0625, \"ci_lo\": 1902010.2875, \"mean\": 2057326.625}, {\"time\": \"2023-02-27\", \"type\": \"actual\", \"ci_hi\": 2203825.0, \"ci_lo\": 2203825.0, \"mean\": 2203825.0}, {\"time\": \"2023-02-27\", \"type\": \"baseline\", \"ci_hi\": 2119995.5, \"ci_lo\": 1557329.89375, \"mean\": 1849339.125}, {\"time\": \"2023-02-27\", \"type\": \"expected\", \"ci_hi\": 2361621.65, \"ci_lo\": 1895943.3125, \"mean\": 2130348.25}, {\"time\": \"2023-03-06\", \"type\": \"actual\", \"ci_hi\": 2287831.0, \"ci_lo\": 2287831.0, \"mean\": 2287831.0}, {\"time\": \"2023-03-06\", \"type\": \"baseline\", \"ci_hi\": 2276043.675, \"ci_lo\": 1801764.40625, \"mean\": 2056618.125}, {\"time\": \"2023-03-06\", \"type\": \"expected\", \"ci_hi\": 2508081.8625, \"ci_lo\": 2183017.7625, \"mean\": 2347940.25}, {\"time\": \"2023-03-13\", \"type\": \"actual\", \"ci_hi\": 2594343.75, \"ci_lo\": 2594343.75, \"mean\": 2594343.75}, {\"time\": \"2023-03-13\", \"type\": \"baseline\", \"ci_hi\": 2556773.7874999996, \"ci_lo\": 2073964.8375, \"mean\": 2334297.5}, {\"time\": \"2023-03-13\", \"type\": \"expected\", \"ci_hi\": 2791593.225, \"ci_lo\": 2465866.2875, \"mean\": 2629282.0}, {\"time\": \"2023-03-20\", \"type\": \"actual\", \"ci_hi\": 2750705.0, \"ci_lo\": 2750705.0, \"mean\": 2750705.0}, {\"time\": \"2023-03-20\", \"type\": \"baseline\", \"ci_hi\": 2732232.2, \"ci_lo\": 2157731.575, \"mean\": 2458440.5}, {\"time\": \"2023-03-20\", \"type\": \"expected\", \"ci_hi\": 3007188.75, \"ci_lo\": 2563374.025, \"mean\": 2785924.5}, {\"time\": \"2023-03-27\", \"type\": \"actual\", \"ci_hi\": 2823909.5, \"ci_lo\": 2823909.5, \"mean\": 2823909.5}, {\"time\": \"2023-03-27\", \"type\": \"baseline\", \"ci_hi\": 2572565.7875, \"ci_lo\": 2096099.7249999999, \"mean\": 2348863.5}, {\"time\": \"2023-03-27\", \"type\": \"expected\", \"ci_hi\": 2826962.0625, \"ci_lo\": 2525457.55, \"mean\": 2676257.25}, {\"time\": \"2023-04-03\", \"type\": \"actual\", \"ci_hi\": 2608238.25, \"ci_lo\": 2608238.25, \"mean\": 2608238.25}, {\"time\": \"2023-04-03\", \"type\": \"baseline\", \"ci_hi\": 2649605.95, \"ci_lo\": 2017947.69375, \"mean\": 2343483.0}, {\"time\": \"2023-04-03\", \"type\": \"expected\", \"ci_hi\": 2916576.2375, \"ci_lo\": 2434822.475, \"mean\": 2677160.75}, {\"time\": \"2023-04-10\", \"type\": \"actual\", \"ci_hi\": 2488520.0, \"ci_lo\": 2488520.0, \"mean\": 2488520.0}, {\"time\": \"2023-04-10\", \"type\": \"baseline\", \"ci_hi\": 2397703.425, \"ci_lo\": 1921881.925, \"mean\": 2174116.5}, {\"time\": \"2023-04-10\", \"type\": \"expected\", \"ci_hi\": 2658102.4375, \"ci_lo\": 2341103.3, \"mean\": 2497569.75}, {\"time\": \"2023-04-17\", \"type\": \"actual\", \"ci_hi\": 2399761.0, \"ci_lo\": 2399761.0, \"mean\": 2399761.0}, {\"time\": \"2023-04-17\", \"type\": \"baseline\", \"ci_hi\": 2425697.2874999996, \"ci_lo\": 1812228.7, \"mean\": 2128427.5}, {\"time\": \"2023-04-17\", \"type\": \"expected\", \"ci_hi\": 2675209.2375, \"ci_lo\": 2188150.075, \"mean\": 2428960.75}, {\"time\": \"2023-04-24\", \"type\": \"actual\", \"ci_hi\": 2598297.0, \"ci_lo\": 2598297.0, \"mean\": 2598297.0}, {\"time\": \"2023-04-24\", \"type\": \"baseline\", \"ci_hi\": 2499896.6874999995, \"ci_lo\": 1999503.74375, \"mean\": 2266837.25}, {\"time\": \"2023-04-24\", \"type\": \"expected\", \"ci_hi\": 2709532.6374999997, \"ci_lo\": 2362103.55, \"mean\": 2535683.25}, {\"time\": \"2023-05-01\", \"type\": \"actual\", \"ci_hi\": 2455083.75, \"ci_lo\": 2455083.75, \"mean\": 2455083.75}, {\"time\": \"2023-05-01\", \"type\": \"baseline\", \"ci_hi\": 2468810.4999999995, \"ci_lo\": 1876687.0374999999, \"mean\": 2189019.0}, {\"time\": \"2023-05-01\", \"type\": \"expected\", \"ci_hi\": 2690567.6375, \"ci_lo\": 2211122.05, \"mean\": 2451567.25}, {\"time\": \"2023-05-08\", \"type\": \"actual\", \"ci_hi\": 2173314.0, \"ci_lo\": 2173314.0, \"mean\": 2173314.0}, {\"time\": \"2023-05-08\", \"type\": \"baseline\", \"ci_hi\": 2175781.125, \"ci_lo\": 1732198.65625, \"mean\": 1969582.75}, {\"time\": \"2023-05-08\", \"type\": \"expected\", \"ci_hi\": 2405554.025, \"ci_lo\": 2093972.46875, \"mean\": 2248941.5}, {\"time\": \"2023-05-15\", \"type\": \"actual\", \"ci_hi\": 2109883.0, \"ci_lo\": 2109883.0, \"mean\": 2109883.0}, {\"time\": \"2023-05-15\", \"type\": \"baseline\", \"ci_hi\": 2082136.3562499997, \"ci_lo\": 1505974.5125, \"mean\": 1798876.625}, {\"time\": \"2023-05-15\", \"type\": \"expected\", \"ci_hi\": 2332864.65, \"ci_lo\": 1867368.54375, \"mean\": 2099174.75}, {\"time\": \"2023-05-22\", \"type\": \"actual\", \"ci_hi\": 2224470.25, \"ci_lo\": 2224470.25, \"mean\": 2224470.25}, {\"time\": \"2023-05-22\", \"type\": \"baseline\", \"ci_hi\": 2101942.0875, \"ci_lo\": 1664461.46875, \"mean\": 1895033.0}, {\"time\": \"2023-05-22\", \"type\": \"expected\", \"ci_hi\": 2340343.75, \"ci_lo\": 2037534.6625, \"mean\": 2191000.0}, {\"time\": \"2023-05-29\", \"type\": \"actual\", \"ci_hi\": 2349594.0, \"ci_lo\": 2349594.0, \"mean\": 2349594.0}, {\"time\": \"2023-05-29\", \"type\": \"baseline\", \"ci_hi\": 2366062.5749999997, \"ci_lo\": 1778311.01875, \"mean\": 2075542.125}, {\"time\": \"2023-05-29\", \"type\": \"expected\", \"ci_hi\": 2600665.15, \"ci_lo\": 2112343.2875, \"mean\": 2356093.0}, {\"time\": \"2023-06-05\", \"type\": \"actual\", \"ci_hi\": 2309400.5, \"ci_lo\": 2309400.5, \"mean\": 2309400.5}, {\"time\": \"2023-06-05\", \"type\": \"baseline\", \"ci_hi\": 2272368.3625, \"ci_lo\": 1809532.28125, \"mean\": 2053903.375}, {\"time\": \"2023-06-05\", \"type\": \"expected\", \"ci_hi\": 2503062.3874999997, \"ci_lo\": 2189709.675, \"mean\": 2343493.25}, {\"time\": \"2023-06-12\", \"type\": \"actual\", \"ci_hi\": 2318686.5, \"ci_lo\": 2318686.5, \"mean\": 2318686.5}, {\"time\": \"2023-06-12\", \"type\": \"baseline\", \"ci_hi\": 2279593.225, \"ci_lo\": 1667861.1375, \"mean\": 1987629.375}, {\"time\": \"2023-06-12\", \"type\": \"expected\", \"ci_hi\": 2542200.8375, \"ci_lo\": 2045487.8, \"mean\": 2292557.75}, {\"time\": \"2023-06-19\", \"type\": \"actual\", \"ci_hi\": 2416271.0, \"ci_lo\": 2416271.0, \"mean\": 2416271.0}, {\"time\": \"2023-06-19\", \"type\": \"baseline\", \"ci_hi\": 2365430.9499999997, \"ci_lo\": 1907843.00625, \"mean\": 2149323.5}, {\"time\": \"2023-06-19\", \"type\": \"expected\", \"ci_hi\": 2612362.7624999997, \"ci_lo\": 2293410.1875, \"mean\": 2451625.75}, {\"time\": \"2023-06-26\", \"type\": \"actual\", \"ci_hi\": 2613592.75, \"ci_lo\": 2613592.75, \"mean\": 2613592.75}, {\"time\": \"2023-06-26\", \"type\": \"baseline\", \"ci_hi\": 2629276.9875, \"ci_lo\": 2030401.28125, \"mean\": 2337661.0}, {\"time\": \"2023-06-26\", \"type\": \"expected\", \"ci_hi\": 2851181.925, \"ci_lo\": 2348695.8, \"mean\": 2599495.5}, {\"time\": \"2023-07-03\", \"type\": \"actual\", \"ci_hi\": 2554774.25, \"ci_lo\": 2554774.25, \"mean\": 2554774.25}, {\"time\": \"2023-07-03\", \"type\": \"baseline\", \"ci_hi\": 2516754.075, \"ci_lo\": 2064448.30625, \"mean\": 2301213.5}, {\"time\": \"2023-07-03\", \"type\": \"expected\", \"ci_hi\": 2724568.9625, \"ci_lo\": 2391375.6, \"mean\": 2556394.25}, {\"time\": \"2023-07-10\", \"type\": \"actual\", \"ci_hi\": 2724541.5, \"ci_lo\": 2724541.5, \"mean\": 2724541.5}, {\"time\": \"2023-07-10\", \"type\": \"baseline\", \"ci_hi\": 2699943.375, \"ci_lo\": 2121739.4125, \"mean\": 2417550.0}, {\"time\": \"2023-07-10\", \"type\": \"expected\", \"ci_hi\": 2948872.8125, \"ci_lo\": 2458570.45, \"mean\": 2704212.25}, {\"time\": \"2023-07-17\", \"type\": \"actual\", \"ci_hi\": 2648907.5, \"ci_lo\": 2648907.5, \"mean\": 2648907.5}, {\"time\": \"2023-07-17\", \"type\": \"baseline\", \"ci_hi\": 2611525.1875, \"ci_lo\": 2169717.5125, \"mean\": 2403387.0}, {\"time\": \"2023-07-17\", \"type\": \"expected\", \"ci_hi\": 2846989.7624999997, \"ci_lo\": 2531788.825, \"mean\": 2691994.5}, {\"time\": \"2023-07-24\", \"type\": \"actual\", \"ci_hi\": 2648605.75, \"ci_lo\": 2648605.75, \"mean\": 2648605.75}, {\"time\": \"2023-07-24\", \"type\": \"baseline\", \"ci_hi\": 2598220.4, \"ci_lo\": 2054918.8812499999, \"mean\": 2336624.25}, {\"time\": \"2023-07-24\", \"type\": \"expected\", \"ci_hi\": 2840010.3874999997, \"ci_lo\": 2403415.8375, \"mean\": 2620948.25}, {\"time\": \"2023-07-31\", \"type\": \"actual\", \"ci_hi\": 2553348.25, \"ci_lo\": 2553348.25, \"mean\": 2553348.25}, {\"time\": \"2023-07-31\", \"type\": \"baseline\", \"ci_hi\": 2449159.8125, \"ci_lo\": 2039933.675, \"mean\": 2255768.5}, {\"time\": \"2023-07-31\", \"type\": \"expected\", \"ci_hi\": 2681117.2875, \"ci_lo\": 2390513.925, \"mean\": 2534717.25}, {\"time\": \"2023-08-07\", \"type\": \"actual\", \"ci_hi\": 2405538.25, \"ci_lo\": 2405538.25, \"mean\": 2405538.25}, {\"time\": \"2023-08-07\", \"type\": \"baseline\", \"ci_hi\": 2429737.7375, \"ci_lo\": 2016074.89375, \"mean\": 2234635.0}, {\"time\": \"2023-08-07\", \"type\": \"expected\", \"ci_hi\": 2619772.05, \"ci_lo\": 2329128.9875, \"mean\": 2474339.75}, {\"time\": \"2023-08-14\", \"type\": \"actual\", \"ci_hi\": 2464536.0, \"ci_lo\": 2464536.0, \"mean\": 2464536.0}, {\"time\": \"2023-08-14\", \"type\": \"baseline\", \"ci_hi\": 2505683.7375, \"ci_lo\": 1977133.45, \"mean\": 2250807.75}, {\"time\": \"2023-08-14\", \"type\": \"expected\", \"ci_hi\": 2672304.0124999997, \"ci_lo\": 2235036.05, \"mean\": 2454787.5}, {\"time\": \"2023-08-21\", \"type\": \"actual\", \"ci_hi\": 2576757.5, \"ci_lo\": 2576757.5, \"mean\": 2576757.5}, {\"time\": \"2023-08-21\", \"type\": \"baseline\", \"ci_hi\": 2545487.8749999995, \"ci_lo\": 2100815.8375, \"mean\": 2339693.75}, {\"time\": \"2023-08-21\", \"type\": \"expected\", \"ci_hi\": 2681074.3, \"ci_lo\": 2359194.675, \"mean\": 2519696.75}, {\"time\": \"2023-08-28\", \"type\": \"actual\", \"ci_hi\": 2469402.0, \"ci_lo\": 2469402.0, \"mean\": 2469402.0}, {\"time\": \"2023-08-28\", \"type\": \"baseline\", \"ci_hi\": 2594516.975, \"ci_lo\": 2024797.1, \"mean\": 2317592.25}, {\"time\": \"2023-08-28\", \"type\": \"expected\", \"ci_hi\": 2723320.65, \"ci_lo\": 2227096.8, \"mean\": 2476128.75}, {\"time\": \"2023-09-04\", \"type\": \"actual\", \"ci_hi\": 2443770.0, \"ci_lo\": 2443770.0, \"mean\": 2443770.0}, {\"time\": \"2023-09-04\", \"type\": \"baseline\", \"ci_hi\": 2535231.2875, \"ci_lo\": 2103234.4625, \"mean\": 2326545.0}, {\"time\": \"2023-09-04\", \"type\": \"expected\", \"ci_hi\": 2662085.2625, \"ci_lo\": 2334891.0, \"mean\": 2495180.0}, {\"time\": \"2023-09-11\", \"type\": \"actual\", \"ci_hi\": 2590013.25, \"ci_lo\": 2590013.25, \"mean\": 2590013.25}, {\"time\": \"2023-09-11\", \"type\": \"baseline\", \"ci_hi\": 2637428.4625, \"ci_lo\": 2086137.875, \"mean\": 2364362.75}, {\"time\": \"2023-09-11\", \"type\": \"expected\", \"ci_hi\": 2791350.6875, \"ci_lo\": 2305334.525, \"mean\": 2546833.0}, {\"time\": \"2023-09-18\", \"type\": \"actual\", \"ci_hi\": 2469941.5, \"ci_lo\": 2469941.5, \"mean\": 2469941.5}, {\"time\": \"2023-09-18\", \"type\": \"baseline\", \"ci_hi\": 2510741.2375, \"ci_lo\": 2110700.9125, \"mean\": 2320966.0}, {\"time\": \"2023-09-18\", \"type\": \"expected\", \"ci_hi\": 2661054.1999999997, \"ci_lo\": 2349793.0, \"mean\": 2504895.75}, {\"time\": \"2023-09-25\", \"type\": \"actual\", \"ci_hi\": 2562620.0, \"ci_lo\": 2562620.0, \"mean\": 2562620.0}, {\"time\": \"2023-09-25\", \"type\": \"baseline\", \"ci_hi\": 2613364.875, \"ci_lo\": 2053746.41875, \"mean\": 2336671.25}, {\"time\": \"2023-09-25\", \"type\": \"expected\", \"ci_hi\": 2765399.4, \"ci_lo\": 2259303.025, \"mean\": 2510737.75}, {\"time\": \"2023-10-02\", \"type\": \"actual\", \"ci_hi\": 2424553.25, \"ci_lo\": 2424553.25, \"mean\": 2424553.25}, {\"time\": \"2023-10-02\", \"type\": \"baseline\", \"ci_hi\": 2482816.6374999997, \"ci_lo\": 2069390.0625, \"mean\": 2286685.0}, {\"time\": \"2023-10-02\", \"type\": \"expected\", \"ci_hi\": 2682277.3125, \"ci_lo\": 2331531.825, \"mean\": 2506628.5}, {\"time\": \"2023-10-09\", \"type\": \"actual\", \"ci_hi\": 2425451.5, \"ci_lo\": 2425451.5, \"mean\": 2425451.5}, {\"time\": \"2023-10-09\", \"type\": \"baseline\", \"ci_hi\": 2422278.0124999997, \"ci_lo\": 1834035.75, \"mean\": 2137321.25}, {\"time\": \"2023-10-09\", \"type\": \"expected\", \"ci_hi\": 2637715.5624999995, \"ci_lo\": 2120190.7875, \"mean\": 2379910.25}, {\"time\": \"2023-10-16\", \"type\": \"actual\", \"ci_hi\": 2333596.25, \"ci_lo\": 2333596.25, \"mean\": 2333596.25}, {\"time\": \"2023-10-16\", \"type\": \"baseline\", \"ci_hi\": 2341673.7875, \"ci_lo\": 1888812.46875, \"mean\": 2122320.25}, {\"time\": \"2023-10-16\", \"type\": \"expected\", \"ci_hi\": 2540503.7125, \"ci_lo\": 2182849.825, \"mean\": 2359184.5}, {\"time\": \"2023-10-23\", \"type\": \"actual\", \"ci_hi\": 2539446.0, \"ci_lo\": 2539446.0, \"mean\": 2539446.0}, {\"time\": \"2023-10-23\", \"type\": \"baseline\", \"ci_hi\": 2610193.7875, \"ci_lo\": 2052824.45625, \"mean\": 2333807.75}, {\"time\": \"2023-10-23\", \"type\": \"expected\", \"ci_hi\": 2810825.2249999996, \"ci_lo\": 2324912.75, \"mean\": 2569340.0}, {\"time\": \"2023-10-30\", \"type\": \"actual\", \"ci_hi\": 2568289.25, \"ci_lo\": 2568289.25, \"mean\": 2568289.25}, {\"time\": \"2023-10-30\", \"type\": \"baseline\", \"ci_hi\": 2479335.1875, \"ci_lo\": 2090990.525, \"mean\": 2291231.5}, {\"time\": \"2023-10-30\", \"type\": \"expected\", \"ci_hi\": 2641491.15, \"ci_lo\": 2335828.175, \"mean\": 2488735.5}, {\"time\": \"2023-11-06\", \"type\": \"actual\", \"ci_hi\": 2469416.25, \"ci_lo\": 2469416.25, \"mean\": 2469416.25}, {\"time\": \"2023-11-06\", \"type\": \"baseline\", \"ci_hi\": 2576806.325, \"ci_lo\": 2058201.71875, \"mean\": 2320434.25}, {\"time\": \"2023-11-06\", \"type\": \"expected\", \"ci_hi\": 2714169.45, \"ci_lo\": 2253474.45, \"mean\": 2482749.75}, {\"time\": \"2023-11-13\", \"type\": \"actual\", \"ci_hi\": 2458116.75, \"ci_lo\": 2458116.75, \"mean\": 2458116.75}, {\"time\": \"2023-11-13\", \"type\": \"baseline\", \"ci_hi\": 2562945.9, \"ci_lo\": 2163736.9625, \"mean\": 2370173.75}, {\"time\": \"2023-11-13\", \"type\": \"expected\", \"ci_hi\": 2677815.8874999997, \"ci_lo\": 2359076.4875, \"mean\": 2519077.5}, {\"time\": \"2023-11-20\", \"type\": \"actual\", \"ci_hi\": 2525190.25, \"ci_lo\": 2525190.25, \"mean\": 2525190.25}, {\"time\": \"2023-11-20\", \"type\": \"baseline\", \"ci_hi\": 2573420.65, \"ci_lo\": 2031723.8625, \"mean\": 2308836.25}, {\"time\": \"2023-11-20\", \"type\": \"expected\", \"ci_hi\": 2693542.4, \"ci_lo\": 2209409.1625, \"mean\": 2451767.5}, {\"time\": \"2023-11-27\", \"type\": \"actual\", \"ci_hi\": 2472870.5, \"ci_lo\": 2472870.5, \"mean\": 2472870.5}, {\"time\": \"2023-11-27\", \"type\": \"baseline\", \"ci_hi\": 2617276.15, \"ci_lo\": 2222812.75, \"mean\": 2427186.75}, {\"time\": \"2023-11-27\", \"type\": \"expected\", \"ci_hi\": 2719840.1, \"ci_lo\": 2399785.4875, \"mean\": 2560308.0}, {\"time\": \"2023-12-04\", \"type\": \"actual\", \"ci_hi\": 2464104.5, \"ci_lo\": 2464104.5, \"mean\": 2464104.5}, {\"time\": \"2023-12-04\", \"type\": \"baseline\", \"ci_hi\": 2836177.7124999994, \"ci_lo\": 2347861.425, \"mean\": 2595591.0}, {\"time\": \"2023-12-04\", \"type\": \"expected\", \"ci_hi\": 2939421.8874999997, \"ci_lo\": 2495788.85, \"mean\": 2717968.75}, {\"time\": \"2023-12-11\", \"type\": \"actual\", \"ci_hi\": 2686708.75, \"ci_lo\": 2686708.75, \"mean\": 2686708.75}, {\"time\": \"2023-12-11\", \"type\": \"baseline\", \"ci_hi\": 2682021.2125, \"ci_lo\": 2321463.6375, \"mean\": 2510655.5}, {\"time\": \"2023-12-11\", \"type\": \"expected\", \"ci_hi\": 2770372.4, \"ci_lo\": 2473142.825, \"mean\": 2621595.75}, {\"time\": \"2023-12-18\", \"type\": \"actual\", \"ci_hi\": 3397529.25, \"ci_lo\": 3397529.25, \"mean\": 3397529.25}, {\"time\": \"2023-12-18\", \"type\": \"baseline\", \"ci_hi\": 2684198.8625, \"ci_lo\": 2301247.5875, \"mean\": 2494949.75}, {\"time\": \"2023-12-18\", \"type\": \"expected\", \"ci_hi\": 2765410.5374999996, \"ci_lo\": 2433863.2, \"mean\": 2596109.25}, {\"time\": \"2023-12-25\", \"type\": \"actual\", \"ci_hi\": 2002780.0, \"ci_lo\": 2002780.0, \"mean\": 2002780.0}, {\"time\": \"2023-12-25\", \"type\": \"baseline\", \"ci_hi\": 2769677.5374999996, \"ci_lo\": 2215336.2375, \"mean\": 2492446.75}, {\"time\": \"2023-12-25\", \"type\": \"expected\", \"ci_hi\": 2847483.65, \"ci_lo\": 2321108.2625, \"mean\": 2584059.25}]}}, {\"mode\": \"vega-lite\"});\n",
       "</script>"
      ],
      "text/plain": [
       "alt.LayerChart(...)"
      ]
     },
     "execution_count": 35,
     "metadata": {},
     "output_type": "execute_result"
    }
   ],
   "source": [
    "model_fit = visualizer.ModelFit(mmm)\n",
    "model_fit.plot_model_fit()"
   ]
  },
  {
   "cell_type": "code",
   "execution_count": 36,
   "metadata": {},
   "outputs": [],
   "source": [
    "mmm_summarizer = summarizer.Summarizer(mmm)"
   ]
  },
  {
   "cell_type": "code",
   "execution_count": 37,
   "metadata": {},
   "outputs": [
    {
     "name": "stderr",
     "output_type": "stream",
     "text": [
      "/home/charlot/Documents/work/xhec_mmm_loreal/.venv/lib/python3.12/site-packages/meridian/analysis/analyzer.py:182: UserWarning: The `aggregate_geos` argument is ignored in the national model. It will be reset to `True`.\n",
      "  warnings.warn(\n",
      "/home/charlot/Documents/work/xhec_mmm_loreal/.venv/lib/python3.12/site-packages/altair/utils/core.py:384: FutureWarning: the convert_dtype parameter is deprecated and will be removed in a future version.  Do ``ser.astype(object).apply()`` instead if you want ``convert_dtype=False``.\n",
      "  col = df[col_name].apply(to_list_if_array, convert_dtype=False)\n",
      "/home/charlot/Documents/work/xhec_mmm_loreal/.venv/lib/python3.12/site-packages/altair/utils/core.py:384: FutureWarning: the convert_dtype parameter is deprecated and will be removed in a future version.  Do ``ser.astype(object).apply()`` instead if you want ``convert_dtype=False``.\n",
      "  col = df[col_name].apply(to_list_if_array, convert_dtype=False)\n",
      "/home/charlot/Documents/work/xhec_mmm_loreal/.venv/lib/python3.12/site-packages/meridian/analysis/analyzer.py:182: UserWarning: The `aggregate_geos` argument is ignored in the national model. It will be reset to `True`.\n",
      "  warnings.warn(\n",
      "/home/charlot/Documents/work/xhec_mmm_loreal/.venv/lib/python3.12/site-packages/altair/utils/core.py:384: FutureWarning: the convert_dtype parameter is deprecated and will be removed in a future version.  Do ``ser.astype(object).apply()`` instead if you want ``convert_dtype=False``.\n",
      "  col = df[col_name].apply(to_list_if_array, convert_dtype=False)\n",
      "/home/charlot/Documents/work/xhec_mmm_loreal/.venv/lib/python3.12/site-packages/altair/utils/core.py:384: FutureWarning: the convert_dtype parameter is deprecated and will be removed in a future version.  Do ``ser.astype(object).apply()`` instead if you want ``convert_dtype=False``.\n",
      "  col = df[col_name].apply(to_list_if_array, convert_dtype=False)\n",
      "/home/charlot/Documents/work/xhec_mmm_loreal/.venv/lib/python3.12/site-packages/altair/utils/core.py:384: FutureWarning: the convert_dtype parameter is deprecated and will be removed in a future version.  Do ``ser.astype(object).apply()`` instead if you want ``convert_dtype=False``.\n",
      "  col = df[col_name].apply(to_list_if_array, convert_dtype=False)\n",
      "/home/charlot/Documents/work/xhec_mmm_loreal/.venv/lib/python3.12/site-packages/altair/utils/core.py:384: FutureWarning: the convert_dtype parameter is deprecated and will be removed in a future version.  Do ``ser.astype(object).apply()`` instead if you want ``convert_dtype=False``.\n",
      "  col = df[col_name].apply(to_list_if_array, convert_dtype=False)\n",
      "/home/charlot/Documents/work/xhec_mmm_loreal/.venv/lib/python3.12/site-packages/altair/utils/core.py:384: FutureWarning: the convert_dtype parameter is deprecated and will be removed in a future version.  Do ``ser.astype(object).apply()`` instead if you want ``convert_dtype=False``.\n",
      "  col = df[col_name].apply(to_list_if_array, convert_dtype=False)\n",
      "/home/charlot/Documents/work/xhec_mmm_loreal/.venv/lib/python3.12/site-packages/altair/utils/core.py:384: FutureWarning: the convert_dtype parameter is deprecated and will be removed in a future version.  Do ``ser.astype(object).apply()`` instead if you want ``convert_dtype=False``.\n",
      "  col = df[col_name].apply(to_list_if_array, convert_dtype=False)\n",
      "/home/charlot/Documents/work/xhec_mmm_loreal/.venv/lib/python3.12/site-packages/altair/utils/core.py:384: FutureWarning: the convert_dtype parameter is deprecated and will be removed in a future version.  Do ``ser.astype(object).apply()`` instead if you want ``convert_dtype=False``.\n",
      "  col = df[col_name].apply(to_list_if_array, convert_dtype=False)\n",
      "/home/charlot/Documents/work/xhec_mmm_loreal/.venv/lib/python3.12/site-packages/altair/utils/core.py:384: FutureWarning: the convert_dtype parameter is deprecated and will be removed in a future version.  Do ``ser.astype(object).apply()`` instead if you want ``convert_dtype=False``.\n",
      "  col = df[col_name].apply(to_list_if_array, convert_dtype=False)\n",
      "/home/charlot/Documents/work/xhec_mmm_loreal/.venv/lib/python3.12/site-packages/altair/utils/core.py:384: FutureWarning: the convert_dtype parameter is deprecated and will be removed in a future version.  Do ``ser.astype(object).apply()`` instead if you want ``convert_dtype=False``.\n",
      "  col = df[col_name].apply(to_list_if_array, convert_dtype=False)\n",
      "/home/charlot/Documents/work/xhec_mmm_loreal/.venv/lib/python3.12/site-packages/altair/utils/core.py:384: FutureWarning: the convert_dtype parameter is deprecated and will be removed in a future version.  Do ``ser.astype(object).apply()`` instead if you want ``convert_dtype=False``.\n",
      "  col = df[col_name].apply(to_list_if_array, convert_dtype=False)\n",
      "/home/charlot/Documents/work/xhec_mmm_loreal/.venv/lib/python3.12/site-packages/altair/utils/core.py:384: FutureWarning: the convert_dtype parameter is deprecated and will be removed in a future version.  Do ``ser.astype(object).apply()`` instead if you want ``convert_dtype=False``.\n",
      "  col = df[col_name].apply(to_list_if_array, convert_dtype=False)\n"
     ]
    }
   ],
   "source": [
    "mmm_summarizer.output_model_results_summary('summary_output.html', filepath='output')"
   ]
  },
  {
   "cell_type": "code",
   "execution_count": null,
   "metadata": {},
   "outputs": [],
   "source": [
    "def durbin_watson_manual(residuals):\n",
    "    numerator = np.sum(np.diff(residuals) ** 2)\n",
    "    denominator = np.sum(residuals ** 2)\n",
    "    return numerator / denominator\n",
    "\n",
    "durbin_watson = durbin_watson_manual()"
   ]
  },
  {
   "cell_type": "code",
   "execution_count": null,
   "metadata": {},
   "outputs": [
    {
     "ename": "JSONDecodeError",
     "evalue": "Expecting value: line 1 column 1 (char 0)",
     "output_type": "error",
     "traceback": [
      "\u001b[0;31m---------------------------------------------------------------------------\u001b[0m",
      "\u001b[0;31mJSONDecodeError\u001b[0m                           Traceback (most recent call last)",
      "Cell \u001b[0;32mIn[1], line 5\u001b[0m\n\u001b[1;32m      3\u001b[0m \u001b[38;5;66;03m# Load JSON data from file\u001b[39;00m\n\u001b[1;32m      4\u001b[0m \u001b[38;5;28;01mwith\u001b[39;00m \u001b[38;5;28mopen\u001b[39m(\u001b[38;5;124m\"\u001b[39m\u001b[38;5;124mjson_data.json\u001b[39m\u001b[38;5;124m\"\u001b[39m, \u001b[38;5;124m\"\u001b[39m\u001b[38;5;124mr\u001b[39m\u001b[38;5;124m\"\u001b[39m) \u001b[38;5;28;01mas\u001b[39;00m file:\n\u001b[0;32m----> 5\u001b[0m     json_data \u001b[38;5;241m=\u001b[39m \u001b[43mjson\u001b[49m\u001b[38;5;241;43m.\u001b[39;49m\u001b[43mload\u001b[49m\u001b[43m(\u001b[49m\u001b[43mfile\u001b[49m\u001b[43m)\u001b[49m\n\u001b[1;32m      8\u001b[0m \u001b[38;5;66;03m# Extract dataset\u001b[39;00m\n\u001b[1;32m      9\u001b[0m dataset_key \u001b[38;5;241m=\u001b[39m \u001b[38;5;28mlist\u001b[39m(json_data[\u001b[38;5;124m\"\u001b[39m\u001b[38;5;124mdatasets\u001b[39m\u001b[38;5;124m\"\u001b[39m]\u001b[38;5;241m.\u001b[39mkeys())[\u001b[38;5;241m0\u001b[39m]  \u001b[38;5;66;03m# Get dataset key dynamically\u001b[39;00m\n",
      "File \u001b[0;32m/usr/lib/python3.12/json/__init__.py:293\u001b[0m, in \u001b[0;36mload\u001b[0;34m(fp, cls, object_hook, parse_float, parse_int, parse_constant, object_pairs_hook, **kw)\u001b[0m\n\u001b[1;32m    274\u001b[0m \u001b[38;5;28;01mdef\u001b[39;00m\u001b[38;5;250m \u001b[39m\u001b[38;5;21mload\u001b[39m(fp, \u001b[38;5;241m*\u001b[39m, \u001b[38;5;28mcls\u001b[39m\u001b[38;5;241m=\u001b[39m\u001b[38;5;28;01mNone\u001b[39;00m, object_hook\u001b[38;5;241m=\u001b[39m\u001b[38;5;28;01mNone\u001b[39;00m, parse_float\u001b[38;5;241m=\u001b[39m\u001b[38;5;28;01mNone\u001b[39;00m,\n\u001b[1;32m    275\u001b[0m         parse_int\u001b[38;5;241m=\u001b[39m\u001b[38;5;28;01mNone\u001b[39;00m, parse_constant\u001b[38;5;241m=\u001b[39m\u001b[38;5;28;01mNone\u001b[39;00m, object_pairs_hook\u001b[38;5;241m=\u001b[39m\u001b[38;5;28;01mNone\u001b[39;00m, \u001b[38;5;241m*\u001b[39m\u001b[38;5;241m*\u001b[39mkw):\n\u001b[1;32m    276\u001b[0m \u001b[38;5;250m    \u001b[39m\u001b[38;5;124;03m\"\"\"Deserialize ``fp`` (a ``.read()``-supporting file-like object containing\u001b[39;00m\n\u001b[1;32m    277\u001b[0m \u001b[38;5;124;03m    a JSON document) to a Python object.\u001b[39;00m\n\u001b[1;32m    278\u001b[0m \n\u001b[0;32m   (...)\u001b[0m\n\u001b[1;32m    291\u001b[0m \u001b[38;5;124;03m    kwarg; otherwise ``JSONDecoder`` is used.\u001b[39;00m\n\u001b[1;32m    292\u001b[0m \u001b[38;5;124;03m    \"\"\"\u001b[39;00m\n\u001b[0;32m--> 293\u001b[0m     \u001b[38;5;28;01mreturn\u001b[39;00m \u001b[43mloads\u001b[49m\u001b[43m(\u001b[49m\u001b[43mfp\u001b[49m\u001b[38;5;241;43m.\u001b[39;49m\u001b[43mread\u001b[49m\u001b[43m(\u001b[49m\u001b[43m)\u001b[49m\u001b[43m,\u001b[49m\n\u001b[1;32m    294\u001b[0m \u001b[43m        \u001b[49m\u001b[38;5;28;43mcls\u001b[39;49m\u001b[38;5;241;43m=\u001b[39;49m\u001b[38;5;28;43mcls\u001b[39;49m\u001b[43m,\u001b[49m\u001b[43m \u001b[49m\u001b[43mobject_hook\u001b[49m\u001b[38;5;241;43m=\u001b[39;49m\u001b[43mobject_hook\u001b[49m\u001b[43m,\u001b[49m\n\u001b[1;32m    295\u001b[0m \u001b[43m        \u001b[49m\u001b[43mparse_float\u001b[49m\u001b[38;5;241;43m=\u001b[39;49m\u001b[43mparse_float\u001b[49m\u001b[43m,\u001b[49m\u001b[43m \u001b[49m\u001b[43mparse_int\u001b[49m\u001b[38;5;241;43m=\u001b[39;49m\u001b[43mparse_int\u001b[49m\u001b[43m,\u001b[49m\n\u001b[1;32m    296\u001b[0m \u001b[43m        \u001b[49m\u001b[43mparse_constant\u001b[49m\u001b[38;5;241;43m=\u001b[39;49m\u001b[43mparse_constant\u001b[49m\u001b[43m,\u001b[49m\u001b[43m \u001b[49m\u001b[43mobject_pairs_hook\u001b[49m\u001b[38;5;241;43m=\u001b[39;49m\u001b[43mobject_pairs_hook\u001b[49m\u001b[43m,\u001b[49m\u001b[43m \u001b[49m\u001b[38;5;241;43m*\u001b[39;49m\u001b[38;5;241;43m*\u001b[39;49m\u001b[43mkw\u001b[49m\u001b[43m)\u001b[49m\n",
      "File \u001b[0;32m/usr/lib/python3.12/json/__init__.py:346\u001b[0m, in \u001b[0;36mloads\u001b[0;34m(s, cls, object_hook, parse_float, parse_int, parse_constant, object_pairs_hook, **kw)\u001b[0m\n\u001b[1;32m    341\u001b[0m     s \u001b[38;5;241m=\u001b[39m s\u001b[38;5;241m.\u001b[39mdecode(detect_encoding(s), \u001b[38;5;124m'\u001b[39m\u001b[38;5;124msurrogatepass\u001b[39m\u001b[38;5;124m'\u001b[39m)\n\u001b[1;32m    343\u001b[0m \u001b[38;5;28;01mif\u001b[39;00m (\u001b[38;5;28mcls\u001b[39m \u001b[38;5;129;01mis\u001b[39;00m \u001b[38;5;28;01mNone\u001b[39;00m \u001b[38;5;129;01mand\u001b[39;00m object_hook \u001b[38;5;129;01mis\u001b[39;00m \u001b[38;5;28;01mNone\u001b[39;00m \u001b[38;5;129;01mand\u001b[39;00m\n\u001b[1;32m    344\u001b[0m         parse_int \u001b[38;5;129;01mis\u001b[39;00m \u001b[38;5;28;01mNone\u001b[39;00m \u001b[38;5;129;01mand\u001b[39;00m parse_float \u001b[38;5;129;01mis\u001b[39;00m \u001b[38;5;28;01mNone\u001b[39;00m \u001b[38;5;129;01mand\u001b[39;00m\n\u001b[1;32m    345\u001b[0m         parse_constant \u001b[38;5;129;01mis\u001b[39;00m \u001b[38;5;28;01mNone\u001b[39;00m \u001b[38;5;129;01mand\u001b[39;00m object_pairs_hook \u001b[38;5;129;01mis\u001b[39;00m \u001b[38;5;28;01mNone\u001b[39;00m \u001b[38;5;129;01mand\u001b[39;00m \u001b[38;5;129;01mnot\u001b[39;00m kw):\n\u001b[0;32m--> 346\u001b[0m     \u001b[38;5;28;01mreturn\u001b[39;00m \u001b[43m_default_decoder\u001b[49m\u001b[38;5;241;43m.\u001b[39;49m\u001b[43mdecode\u001b[49m\u001b[43m(\u001b[49m\u001b[43ms\u001b[49m\u001b[43m)\u001b[49m\n\u001b[1;32m    347\u001b[0m \u001b[38;5;28;01mif\u001b[39;00m \u001b[38;5;28mcls\u001b[39m \u001b[38;5;129;01mis\u001b[39;00m \u001b[38;5;28;01mNone\u001b[39;00m:\n\u001b[1;32m    348\u001b[0m     \u001b[38;5;28mcls\u001b[39m \u001b[38;5;241m=\u001b[39m JSONDecoder\n",
      "File \u001b[0;32m/usr/lib/python3.12/json/decoder.py:338\u001b[0m, in \u001b[0;36mJSONDecoder.decode\u001b[0;34m(self, s, _w)\u001b[0m\n\u001b[1;32m    333\u001b[0m \u001b[38;5;28;01mdef\u001b[39;00m\u001b[38;5;250m \u001b[39m\u001b[38;5;21mdecode\u001b[39m(\u001b[38;5;28mself\u001b[39m, s, _w\u001b[38;5;241m=\u001b[39mWHITESPACE\u001b[38;5;241m.\u001b[39mmatch):\n\u001b[1;32m    334\u001b[0m \u001b[38;5;250m    \u001b[39m\u001b[38;5;124;03m\"\"\"Return the Python representation of ``s`` (a ``str`` instance\u001b[39;00m\n\u001b[1;32m    335\u001b[0m \u001b[38;5;124;03m    containing a JSON document).\u001b[39;00m\n\u001b[1;32m    336\u001b[0m \n\u001b[1;32m    337\u001b[0m \u001b[38;5;124;03m    \"\"\"\u001b[39;00m\n\u001b[0;32m--> 338\u001b[0m     obj, end \u001b[38;5;241m=\u001b[39m \u001b[38;5;28;43mself\u001b[39;49m\u001b[38;5;241;43m.\u001b[39;49m\u001b[43mraw_decode\u001b[49m\u001b[43m(\u001b[49m\u001b[43ms\u001b[49m\u001b[43m,\u001b[49m\u001b[43m \u001b[49m\u001b[43midx\u001b[49m\u001b[38;5;241;43m=\u001b[39;49m\u001b[43m_w\u001b[49m\u001b[43m(\u001b[49m\u001b[43ms\u001b[49m\u001b[43m,\u001b[49m\u001b[43m \u001b[49m\u001b[38;5;241;43m0\u001b[39;49m\u001b[43m)\u001b[49m\u001b[38;5;241;43m.\u001b[39;49m\u001b[43mend\u001b[49m\u001b[43m(\u001b[49m\u001b[43m)\u001b[49m\u001b[43m)\u001b[49m\n\u001b[1;32m    339\u001b[0m     end \u001b[38;5;241m=\u001b[39m _w(s, end)\u001b[38;5;241m.\u001b[39mend()\n\u001b[1;32m    340\u001b[0m     \u001b[38;5;28;01mif\u001b[39;00m end \u001b[38;5;241m!=\u001b[39m \u001b[38;5;28mlen\u001b[39m(s):\n",
      "File \u001b[0;32m/usr/lib/python3.12/json/decoder.py:356\u001b[0m, in \u001b[0;36mJSONDecoder.raw_decode\u001b[0;34m(self, s, idx)\u001b[0m\n\u001b[1;32m    354\u001b[0m     obj, end \u001b[38;5;241m=\u001b[39m \u001b[38;5;28mself\u001b[39m\u001b[38;5;241m.\u001b[39mscan_once(s, idx)\n\u001b[1;32m    355\u001b[0m \u001b[38;5;28;01mexcept\u001b[39;00m \u001b[38;5;167;01mStopIteration\u001b[39;00m \u001b[38;5;28;01mas\u001b[39;00m err:\n\u001b[0;32m--> 356\u001b[0m     \u001b[38;5;28;01mraise\u001b[39;00m JSONDecodeError(\u001b[38;5;124m\"\u001b[39m\u001b[38;5;124mExpecting value\u001b[39m\u001b[38;5;124m\"\u001b[39m, s, err\u001b[38;5;241m.\u001b[39mvalue) \u001b[38;5;28;01mfrom\u001b[39;00m\u001b[38;5;250m \u001b[39m\u001b[38;5;28;01mNone\u001b[39;00m\n\u001b[1;32m    357\u001b[0m \u001b[38;5;28;01mreturn\u001b[39;00m obj, end\n",
      "\u001b[0;31mJSONDecodeError\u001b[0m: Expecting value: line 1 column 1 (char 0)"
     ]
    }
   ],
   "source": [
    "import json\n",
    "\n",
    "# Load JSON data from file\n",
    "with open(\"data.json\", \"r\") as file:\n",
    "    json_data = json.load(file)\n",
    "\n",
    "# Extract dataset key dynamically\n",
    "dataset_key = list(json_data.keys())[0]\n",
    "data = json_data[dataset_key]\n",
    "\n",
    "# Initialize dictionaries to store actual and expected values\n",
    "actual_values = {}\n",
    "expected_values = {}\n",
    "\n",
    "# Loop through data to store values by time\n",
    "for entry in data:\n",
    "    time = entry[\"time\"]\n",
    "    mean_value = entry[\"mean\"]\n",
    "    \n",
    "    if entry[\"type\"] == \"actual\":\n",
    "        actual_values[time] = mean_value\n",
    "    elif entry[\"type\"] == \"expected\":\n",
    "        expected_values[time] = mean_value\n",
    "\n",
    "# Compute residuals\n",
    "residuals = {\n",
    "    time: abs(actual_values[time] - expected_values[time])\n",
    "    for time in actual_values if time in expected_values\n",
    "}\n",
    "\n",
    "# Print the computed residuals\n",
    "print(\"Residuals:\", residuals)\n"
   ]
  },
  {
   "cell_type": "code",
   "execution_count": null,
   "metadata": {},
   "outputs": [],
   "source": []
  }
 ],
 "metadata": {
  "kernelspec": {
   "display_name": ".venv",
   "language": "python",
   "name": "python3"
  },
  "language_info": {
   "codemirror_mode": {
    "name": "ipython",
    "version": 3
   },
   "file_extension": ".py",
   "mimetype": "text/x-python",
   "name": "python",
   "nbconvert_exporter": "python",
   "pygments_lexer": "ipython3",
   "version": "3.12.8"
  }
 },
 "nbformat": 4,
 "nbformat_minor": 2
}
