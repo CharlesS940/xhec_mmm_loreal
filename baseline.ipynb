{
 "cells": [
  {
   "cell_type": "markdown",
   "metadata": {},
   "source": [
    "# Statsmodels"
   ]
  },
  {
   "cell_type": "code",
   "execution_count": 3,
   "metadata": {},
   "outputs": [],
   "source": [
    "import pandas as pd"
   ]
  },
  {
   "cell_type": "code",
   "execution_count": 36,
   "metadata": {},
   "outputs": [],
   "source": [
    "df = pd.read_csv('data/merged_data.csv')\n",
    "\n",
    "df.drop(columns=[\"UK L'Oreal Paris Haircare Total Online Sellout Units\",\n",
    "                \"UK L'Oreal Paris Haircare Online Average Price (in pound)\",\n",
    "                 \"UK L'Oreal Paris Haircare Total Online Sellout Value (in pound)\"], inplace=True)\n",
    "\n",
    "df.rename(columns={\"UK L'Oreal Paris Haircare Total Offline Sellout Units\": \"offline_units\",\n",
    "                   \"UK L'Oreal Paris Haircare Offline Average Price (in pound)\": \"offline_average_price\",\n",
    "                   \"UK L'Oreal Paris Haircare Total Offline Sellout Value (in pound)\": \"offline_sellout_value\",\n",
    "                   \"UK L'Oreal Paris Haircare Total Weigheted Promotion Distribution (%)\": \"weighted_promotion_distribution\"},\n",
    "                    inplace=True)"
   ]
  },
  {
   "cell_type": "code",
   "execution_count": 37,
   "metadata": {},
   "outputs": [],
   "source": [
    "MMM_CATEGORIES = {\n",
    "    \"search\": [\"google\", \"amazon\"],\n",
    "    \"retail_media\": [\"amazon_retail\", \"tesco\", \"citrus\", \"the_hut_group\"],\n",
    "    \"video\": [\"google_video\", \"youtube\", \"bvod\", \"linear\"],\n",
    "    \"social\": [\"meta\", \"pinterest\", \"tik_tok\", \"meta_collab_ads\", \"influencer_management\"],\n",
    "    \"display\": [\"criteo\", \"testers_and_merchandising\"]\n",
    "}"
   ]
  },
  {
   "cell_type": "code",
   "execution_count": 38,
   "metadata": {},
   "outputs": [
    {
     "name": "stderr",
     "output_type": "stream",
     "text": [
      "C:\\Users\\charl\\AppData\\Local\\Temp\\ipykernel_16216\\1984364975.py:14: FutureWarning: Setting an item of incompatible dtype is deprecated and will raise an error in a future version of pandas. Value '537.2169434971748' has dtype incompatible with int64, please explicitly cast to a compatible dtype first.\n",
      "  df.at[index, f\"{category}_impression\"] += row[\"execution\"]\n",
      "C:\\Users\\charl\\AppData\\Local\\Temp\\ipykernel_16216\\1984364975.py:15: FutureWarning: Setting an item of incompatible dtype is deprecated and will raise an error in a future version of pandas. Value '107.43801653' has dtype incompatible with int64, please explicitly cast to a compatible dtype first.\n",
      "  df.at[index, f\"{category}_spend\"] += row[\"investment (in pound)\"]\n",
      "C:\\Users\\charl\\AppData\\Local\\Temp\\ipykernel_16216\\1984364975.py:14: FutureWarning: Setting an item of incompatible dtype is deprecated and will raise an error in a future version of pandas. Value '815102.08' has dtype incompatible with int64, please explicitly cast to a compatible dtype first.\n",
      "  df.at[index, f\"{category}_impression\"] += row[\"execution\"]\n",
      "C:\\Users\\charl\\AppData\\Local\\Temp\\ipykernel_16216\\1984364975.py:15: FutureWarning: Setting an item of incompatible dtype is deprecated and will raise an error in a future version of pandas. Value '16158.5130096' has dtype incompatible with int64, please explicitly cast to a compatible dtype first.\n",
      "  df.at[index, f\"{category}_spend\"] += row[\"investment (in pound)\"]\n",
      "C:\\Users\\charl\\AppData\\Local\\Temp\\ipykernel_16216\\1984364975.py:14: FutureWarning: Setting an item of incompatible dtype is deprecated and will raise an error in a future version of pandas. Value '193246.3' has dtype incompatible with int64, please explicitly cast to a compatible dtype first.\n",
      "  df.at[index, f\"{category}_impression\"] += row[\"execution\"]\n",
      "C:\\Users\\charl\\AppData\\Local\\Temp\\ipykernel_16216\\1984364975.py:15: FutureWarning: Setting an item of incompatible dtype is deprecated and will raise an error in a future version of pandas. Value '613.431' has dtype incompatible with int64, please explicitly cast to a compatible dtype first.\n",
      "  df.at[index, f\"{category}_spend\"] += row[\"investment (in pound)\"]\n",
      "C:\\Users\\charl\\AppData\\Local\\Temp\\ipykernel_16216\\1984364975.py:14: FutureWarning: Setting an item of incompatible dtype is deprecated and will raise an error in a future version of pandas. Value '4067.7' has dtype incompatible with int64, please explicitly cast to a compatible dtype first.\n",
      "  df.at[index, f\"{category}_impression\"] += row[\"execution\"]\n",
      "C:\\Users\\charl\\AppData\\Local\\Temp\\ipykernel_16216\\1984364975.py:15: FutureWarning: Setting an item of incompatible dtype is deprecated and will raise an error in a future version of pandas. Value '374.88467406000007' has dtype incompatible with int64, please explicitly cast to a compatible dtype first.\n",
      "  df.at[index, f\"{category}_spend\"] += row[\"investment (in pound)\"]\n",
      "C:\\Users\\charl\\AppData\\Local\\Temp\\ipykernel_16216\\1984364975.py:14: FutureWarning: Setting an item of incompatible dtype is deprecated and will raise an error in a future version of pandas. Value '156076.7' has dtype incompatible with int64, please explicitly cast to a compatible dtype first.\n",
      "  df.at[index, f\"{category}_impression\"] += row[\"execution\"]\n",
      "C:\\Users\\charl\\AppData\\Local\\Temp\\ipykernel_16216\\1984364975.py:15: FutureWarning: Setting an item of incompatible dtype is deprecated and will raise an error in a future version of pandas. Value '3053.20964' has dtype incompatible with int64, please explicitly cast to a compatible dtype first.\n",
      "  df.at[index, f\"{category}_spend\"] += row[\"investment (in pound)\"]\n"
     ]
    }
   ],
   "source": [
    "growth_columns = [\"growth_driver_l1\", \"growth_driver_l2\", \"growth_driver_l3\", \"growth_driver_l4\", \"growth_driver_l5\"]\n",
    "\n",
    "df['Starting Week'] = pd.to_datetime(df['Starting Week'])\n",
    "\n",
    "# Initialize columns to store execution and investment for each category\n",
    "for category in MMM_CATEGORIES.keys():\n",
    "    df[f\"{category}_impression\"] = 0\n",
    "    df[f\"{category}_spend\"] = 0\n",
    "\n",
    "for index, row in df.iterrows():\n",
    "    driver = row[\"growth_driver_l5\"]\n",
    "    for category, drivers in MMM_CATEGORIES.items():\n",
    "        if driver in drivers:\n",
    "            df.at[index, f\"{category}_impression\"] += row[\"execution\"]\n",
    "            df.at[index, f\"{category}_spend\"] += row[\"investment (in pound)\"]\n",
    "\n",
    "df = df.drop(columns=growth_columns + [\"metric\", \"Year_x\", \"Year_y\"])\n",
    "\n",
    "df_grouped = df.groupby(\"Starting Week\").agg({\n",
    "    'execution': 'first',\n",
    "    'offline_average_price': 'first',\n",
    "    'weighted_promotion_distribution': 'first',\n",
    "    'offline_sellout_value': 'first',\n",
    "    'offline_units': 'first',\n",
    "    'search_impression': 'sum',\n",
    "    'search_spend': 'sum',\n",
    "    'retail_media_impression': 'sum',\n",
    "    'retail_media_spend': 'sum',\n",
    "    'video_impression': 'sum',\n",
    "    'video_spend': 'sum',\n",
    "    'social_impression': 'sum',\n",
    "    'social_spend': 'sum',\n",
    "    'display_impression': 'sum',\n",
    "    'display_spend': 'sum'\n",
    "}).reset_index()"
   ]
  },
  {
   "cell_type": "code",
   "execution_count": 39,
   "metadata": {},
   "outputs": [],
   "source": [
    "import holidays\n",
    "\n",
    "# Get UK holidays for 2022 and 2023\n",
    "uk_holidays = holidays.UnitedKingdom(years=[2022, 2023])\n",
    "\n",
    "# Convert to DataFrame for better visualization\n",
    "holiday_data = pd.DataFrame(list(uk_holidays.items()), columns=[\"Date\", \"Holiday\"])\n",
    "\n",
    "# Sort the holidays by date\n",
    "holiday_data['Date'] = pd.to_datetime(holiday_data['Date'])\n",
    "holiday_data = holiday_data.sort_values(by='Date')\n",
    "\n",
    "# Add a week number column\n",
    "holiday_data['Week'] = holiday_data['Date'].dt.strftime('%Y-W%U')"
   ]
  },
  {
   "cell_type": "code",
   "execution_count": 40,
   "metadata": {},
   "outputs": [
    {
     "data": {
      "text/plain": [
       "12"
      ]
     },
     "execution_count": 40,
     "metadata": {},
     "output_type": "execute_result"
    }
   ],
   "source": [
    "# Add a column to df_grouped to indicate if there is a holiday that week\n",
    "df_grouped['is_holiday'] = df_grouped['Starting Week'].dt.strftime('%Y-W%U').isin(holiday_data['Week']).astype(int)\n",
    "\n",
    "# Display the updated DataFrame\n",
    "df_grouped[\"is_holiday\"].sum()"
   ]
  },
  {
   "cell_type": "code",
   "execution_count": 41,
   "metadata": {},
   "outputs": [
    {
     "ename": "ModuleNotFoundError",
     "evalue": "No module named 'statsmodels'",
     "output_type": "error",
     "traceback": [
      "\u001b[1;31m---------------------------------------------------------------------------\u001b[0m",
      "\u001b[1;31mModuleNotFoundError\u001b[0m                       Traceback (most recent call last)",
      "Cell \u001b[1;32mIn[41], line 1\u001b[0m\n\u001b[1;32m----> 1\u001b[0m \u001b[38;5;28;01mimport\u001b[39;00m\u001b[38;5;250m \u001b[39m\u001b[38;5;21;01mstatsmodels\u001b[39;00m\u001b[38;5;21;01m.\u001b[39;00m\u001b[38;5;21;01mapi\u001b[39;00m\u001b[38;5;250m \u001b[39m\u001b[38;5;28;01mas\u001b[39;00m\u001b[38;5;250m \u001b[39m\u001b[38;5;21;01msm\u001b[39;00m\n\u001b[0;32m      3\u001b[0m \u001b[38;5;66;03m# Define the target variable and the channels\u001b[39;00m\n\u001b[0;32m      4\u001b[0m target \u001b[38;5;241m=\u001b[39m \u001b[38;5;124m'\u001b[39m\u001b[38;5;124mexecution\u001b[39m\u001b[38;5;124m'\u001b[39m\n",
      "\u001b[1;31mModuleNotFoundError\u001b[0m: No module named 'statsmodels'"
     ]
    }
   ],
   "source": [
    "import statsmodels.api as sm\n",
    "\n",
    "# Define the target variable and the channels\n",
    "target = 'execution'\n",
    "channels = list(MMM_CATEGORIES.keys())\n",
    "\n",
    "# Prepare the data for the model\n",
    "X = df_grouped[channels]\n",
    "y = df_grouped[target]\n",
    "\n",
    "# Add a constant to the model (intercept)\n",
    "X = sm.add_constant(X)\n",
    "\n",
    "# Fit the OLS model\n",
    "model = sm.OLS(y, X).fit()\n",
    "\n",
    "# Print the model summary\n",
    "print(model.summary())"
   ]
  },
  {
   "cell_type": "markdown",
   "metadata": {},
   "source": [
    "# Meridian"
   ]
  },
  {
   "cell_type": "code",
   "execution_count": 42,
   "metadata": {},
   "outputs": [],
   "source": [
    "df_grouped[\"geo\"] = \"Geo0\"\n",
    "df_grouped.to_csv(\"data/offline_binned.csv\", index=False)"
   ]
  },
  {
   "cell_type": "code",
   "execution_count": 60,
   "metadata": {},
   "outputs": [
    {
     "name": "stderr",
     "output_type": "stream",
     "text": [
      "c:\\Users\\charl\\Documents\\xhec_mmm_loreal\\.venv\\Lib\\site-packages\\meridian\\data\\load.py:1020: FutureWarning: Downcasting behavior in `replace` is deprecated and will be removed in a future version. To retain the old behavior, explicitly call `result.infer_objects(copy=False)`. To opt-in to the future behavior, set `pd.set_option('future.no_silent_downcasting', True)`\n",
      "  self.df[geo_column_name] = self.df[geo_column_name].replace(\n",
      "c:\\Users\\charl\\Documents\\xhec_mmm_loreal\\.venv\\Lib\\site-packages\\meridian\\data\\load.py:201: FutureWarning: The return type of `Dataset.dims` will be changed to return a set of dimension names in future, in order to be more consistent with `DataArray.dims`. To access a mapping from dimension names to lengths, please use `Dataset.sizes`.\n",
      "  if (constants.GEO) not in self.dataset.dims.keys():\n",
      "c:\\Users\\charl\\Documents\\xhec_mmm_loreal\\.venv\\Lib\\site-packages\\meridian\\data\\load.py:206: UserWarning: The `population` argument is ignored in a nationally aggregated model. It will be reset to [1]\n",
      "  warnings.warn(\n",
      "c:\\Users\\charl\\Documents\\xhec_mmm_loreal\\.venv\\Lib\\site-packages\\meridian\\data\\load.py:231: FutureWarning: The return type of `Dataset.dims` will be changed to return a set of dimension names in future, in order to be more consistent with `DataArray.dims`. To access a mapping from dimension names to lengths, please use `Dataset.sizes`.\n",
      "  if constants.MEDIA_TIME not in self.dataset.dims.keys():\n"
     ]
    }
   ],
   "source": [
    "import numpy as np\n",
    "import pandas as pd\n",
    "import tensorflow as tf\n",
    "import tensorflow_probability as tfp\n",
    "import arviz as az\n",
    "\n",
    "import IPython\n",
    "\n",
    "from meridian import constants\n",
    "from meridian.data import load\n",
    "from meridian.data import test_utils\n",
    "from meridian.model import model\n",
    "from meridian.model import spec\n",
    "from meridian.model import prior_distribution\n",
    "from meridian.analysis import optimizer\n",
    "from meridian.analysis import analyzer\n",
    "from meridian.analysis import visualizer\n",
    "from meridian.analysis import summarizer\n",
    "from meridian.analysis import formatter\n",
    "\n",
    "coord_to_columns = load.CoordToColumns(\n",
    "    time='Starting Week',\n",
    "    geo='geo',\n",
    "    controls=['weighted_promotion_distribution'],\n",
    "    #population='population',\n",
    "    kpi='offline_units',\n",
    "    revenue_per_kpi='offline_average_price',\n",
    "    media=[\n",
    "        'search_impression',\n",
    "        'retail_media_impression',\n",
    "        'video_impression',\n",
    "        'social_impression',\n",
    "        'display_impression',\n",
    "    ],\n",
    "    media_spend=[\n",
    "        'search_spend',\n",
    "        'retail_media_spend',\n",
    "        'video_spend',\n",
    "        'social_spend',\n",
    "        'display_spend',\n",
    "    ],\n",
    "    #organic_media=['Organic_channel0_impression'],\n",
    "    #non_media_treatments=['Promo'],\n",
    ")\n",
    "\n",
    "correct_media_to_channel = {\n",
    "    'search_impression': 'search',\n",
    "    'retail_media_impression': 'retail_media',\n",
    "    'video_impression': 'video',\n",
    "    'social_impression': 'social',\n",
    "    'display_impression': 'display',\n",
    "}\n",
    "\n",
    "correct_media_spend_to_channel = {\n",
    "    'search_spend' : \"search\",\n",
    "    'retail_media_spend': \"retail_media\",\n",
    "    'video_spend': \"video\",\n",
    "    'social_spend': \"social\",\n",
    "    'display_spend': \"display\",\n",
    "}\n",
    "\n",
    "loader = load.CsvDataLoader(\n",
    "    csv_path=\"data/offline_binned.csv\",\n",
    "    kpi_type='non_revenue',\n",
    "    coord_to_columns=coord_to_columns,\n",
    "    media_to_channel=correct_media_to_channel,\n",
    "    media_spend_to_channel=correct_media_spend_to_channel,\n",
    ")\n",
    "data = loader.load()\n"
   ]
  },
  {
   "cell_type": "code",
   "execution_count": 69,
   "metadata": {},
   "outputs": [
    {
     "name": "stderr",
     "output_type": "stream",
     "text": [
      "c:\\Users\\charl\\Documents\\xhec_mmm_loreal\\.venv\\Lib\\site-packages\\meridian\\model\\model.py:67: UserWarning: In a nationally aggregated model, the `media_effects_dist` will be reset to `normal`.\n",
      "  warnings.warn(\n"
     ]
    }
   ],
   "source": [
    "roi_mu = 0.5     # Mu for ROI prior for each media channel.\n",
    "roi_sigma = 0.5  # Sigma for ROI prior for each media channel.\n",
    "prior = prior_distribution.PriorDistribution(\n",
    "    roi_m=tfp.distributions.LogNormal(roi_mu, roi_sigma, name=constants.ROI_M)\n",
    ")\n",
    "model_spec = spec.ModelSpec(prior=prior)\n",
    "\n",
    "mmm = model.Meridian(input_data=data, model_spec=model_spec)"
   ]
  },
  {
   "cell_type": "code",
   "execution_count": null,
   "metadata": {},
   "outputs": [
    {
     "name": "stderr",
     "output_type": "stream",
     "text": [
      "c:\\Users\\charl\\Documents\\xhec_mmm_loreal\\.venv\\Lib\\site-packages\\meridian\\model\\prior_distribution.py:846: UserWarning: Hierarchical distribution parameters must be deterministically zero for national models. tau_g_excl_baseline has been automatically set to Deterministic(0).\n",
      "  warnings.warn(\n",
      "c:\\Users\\charl\\Documents\\xhec_mmm_loreal\\.venv\\Lib\\site-packages\\meridian\\model\\prior_distribution.py:846: UserWarning: Hierarchical distribution parameters must be deterministically zero for national models. eta_m has been automatically set to Deterministic(0).\n",
      "  warnings.warn(\n",
      "c:\\Users\\charl\\Documents\\xhec_mmm_loreal\\.venv\\Lib\\site-packages\\meridian\\model\\prior_distribution.py:846: UserWarning: Hierarchical distribution parameters must be deterministically zero for national models. eta_rf has been automatically set to Deterministic(0).\n",
      "  warnings.warn(\n",
      "c:\\Users\\charl\\Documents\\xhec_mmm_loreal\\.venv\\Lib\\site-packages\\meridian\\model\\prior_distribution.py:846: UserWarning: Hierarchical distribution parameters must be deterministically zero for national models. eta_om has been automatically set to Deterministic(0).\n",
      "  warnings.warn(\n",
      "c:\\Users\\charl\\Documents\\xhec_mmm_loreal\\.venv\\Lib\\site-packages\\meridian\\model\\prior_distribution.py:846: UserWarning: Hierarchical distribution parameters must be deterministically zero for national models. eta_orf has been automatically set to Deterministic(0).\n",
      "  warnings.warn(\n",
      "c:\\Users\\charl\\Documents\\xhec_mmm_loreal\\.venv\\Lib\\site-packages\\meridian\\model\\prior_distribution.py:846: UserWarning: Hierarchical distribution parameters must be deterministically zero for national models. xi_c has been automatically set to Deterministic(0).\n",
      "  warnings.warn(\n",
      "c:\\Users\\charl\\Documents\\xhec_mmm_loreal\\.venv\\Lib\\site-packages\\meridian\\model\\prior_distribution.py:846: UserWarning: Hierarchical distribution parameters must be deterministically zero for national models. xi_n has been automatically set to Deterministic(0).\n",
      "  warnings.warn(\n"
     ]
    }
   ],
   "source": [
    "mmm.sample_prior(500)\n",
    "mmm.sample_posterior(n_chains=7, n_adapt=500, n_burnin=500, n_keep=1000)"
   ]
  },
  {
   "cell_type": "code",
   "execution_count": 63,
   "metadata": {},
   "outputs": [
    {
     "name": "stderr",
     "output_type": "stream",
     "text": [
      "c:\\Users\\charl\\Documents\\xhec_mmm_loreal\\.venv\\Lib\\site-packages\\meridian\\analysis\\analyzer.py:182: UserWarning: The `aggregate_geos` argument is ignored in the national model. It will be reset to `True`.\n",
      "  warnings.warn(\n",
      "c:\\Users\\charl\\Documents\\xhec_mmm_loreal\\.venv\\Lib\\site-packages\\altair\\utils\\core.py:384: FutureWarning: the convert_dtype parameter is deprecated and will be removed in a future version.  Do ``ser.astype(object).apply()`` instead if you want ``convert_dtype=False``.\n",
      "  col = df[col_name].apply(to_list_if_array, convert_dtype=False)\n",
      "c:\\Users\\charl\\Documents\\xhec_mmm_loreal\\.venv\\Lib\\site-packages\\altair\\utils\\core.py:384: FutureWarning: the convert_dtype parameter is deprecated and will be removed in a future version.  Do ``ser.astype(object).apply()`` instead if you want ``convert_dtype=False``.\n",
      "  col = df[col_name].apply(to_list_if_array, convert_dtype=False)\n"
     ]
    },
    {
     "data": {
      "text/html": [
       "\n",
       "<div id=\"altair-viz-4c9dc2ddb82942d5b5d23b6d54f2ba62\"></div>\n",
       "<script type=\"text/javascript\">\n",
       "  var VEGA_DEBUG = (typeof VEGA_DEBUG == \"undefined\") ? {} : VEGA_DEBUG;\n",
       "  (function(spec, embedOpt){\n",
       "    let outputDiv = document.currentScript.previousElementSibling;\n",
       "    if (outputDiv.id !== \"altair-viz-4c9dc2ddb82942d5b5d23b6d54f2ba62\") {\n",
       "      outputDiv = document.getElementById(\"altair-viz-4c9dc2ddb82942d5b5d23b6d54f2ba62\");\n",
       "    }\n",
       "    const paths = {\n",
       "      \"vega\": \"https://cdn.jsdelivr.net/npm//vega@5?noext\",\n",
       "      \"vega-lib\": \"https://cdn.jsdelivr.net/npm//vega-lib?noext\",\n",
       "      \"vega-lite\": \"https://cdn.jsdelivr.net/npm//vega-lite@4.17.0?noext\",\n",
       "      \"vega-embed\": \"https://cdn.jsdelivr.net/npm//vega-embed@6?noext\",\n",
       "    };\n",
       "\n",
       "    function maybeLoadScript(lib, version) {\n",
       "      var key = `${lib.replace(\"-\", \"\")}_version`;\n",
       "      return (VEGA_DEBUG[key] == version) ?\n",
       "        Promise.resolve(paths[lib]) :\n",
       "        new Promise(function(resolve, reject) {\n",
       "          var s = document.createElement('script');\n",
       "          document.getElementsByTagName(\"head\")[0].appendChild(s);\n",
       "          s.async = true;\n",
       "          s.onload = () => {\n",
       "            VEGA_DEBUG[key] = version;\n",
       "            return resolve(paths[lib]);\n",
       "          };\n",
       "          s.onerror = () => reject(`Error loading script: ${paths[lib]}`);\n",
       "          s.src = paths[lib];\n",
       "        });\n",
       "    }\n",
       "\n",
       "    function showError(err) {\n",
       "      outputDiv.innerHTML = `<div class=\"error\" style=\"color:red;\">${err}</div>`;\n",
       "      throw err;\n",
       "    }\n",
       "\n",
       "    function displayChart(vegaEmbed) {\n",
       "      vegaEmbed(outputDiv, spec, embedOpt)\n",
       "        .catch(err => showError(`Javascript Error: ${err.message}<br>This usually means there's a typo in your chart specification. See the javascript console for the full traceback.`));\n",
       "    }\n",
       "\n",
       "    if(typeof define === \"function\" && define.amd) {\n",
       "      requirejs.config({paths});\n",
       "      require([\"vega-embed\"], displayChart, err => showError(`Error loading script: ${err.message}`));\n",
       "    } else {\n",
       "      maybeLoadScript(\"vega\", \"5\")\n",
       "        .then(() => maybeLoadScript(\"vega-lite\", \"4.17.0\"))\n",
       "        .then(() => maybeLoadScript(\"vega-embed\", \"6\"))\n",
       "        .catch(showError)\n",
       "        .then(() => displayChart(vegaEmbed));\n",
       "    }\n",
       "  })({\"config\": {\"view\": {\"continuousWidth\": 400, \"continuousHeight\": 300}, \"axis\": {\"labelColor\": \"#5F6368\", \"labelFont\": \"Roboto\", \"labelFontSize\": 12, \"titleColor\": \"#5F6368\", \"titleFont\": \"Roboto\", \"titleFontSize\": 12, \"titleFontWeight\": \"normal\"}}, \"layer\": [{\"mark\": \"line\", \"encoding\": {\"color\": {\"field\": \"type\", \"scale\": {\"domain\": [\"expected\", \"actual\", \"baseline\"], \"range\": [\"#1A73E8\", \"#81C995\", \"#F9AB00\"]}, \"type\": \"nominal\"}, \"x\": {\"axis\": {\"domainColor\": \"#DADCE0\", \"format\": \"%Y %b\", \"grid\": false, \"tickCount\": 8}, \"field\": \"time\", \"title\": \"Time period\", \"type\": \"temporal\"}, \"y\": {\"axis\": {\"domain\": false, \"labelExpr\": \"replace(format(datum.value, '.3~s'), 'G', 'B')\", \"labelPadding\": 10, \"tickCount\": 5, \"ticks\": false, \"titleAlign\": \"left\", \"titleAngle\": 0, \"titleY\": -20}, \"field\": \"mean\", \"title\": \"Revenue\", \"type\": \"quantitative\"}}}, {\"mark\": {\"type\": \"area\", \"opacity\": 0.3}, \"encoding\": {\"color\": {\"field\": \"type\", \"legend\": null, \"scale\": {\"domain\": [\"expected\"], \"range\": [\"#1A73E8\"]}, \"type\": \"nominal\"}, \"x\": {\"field\": \"time\", \"type\": \"temporal\"}, \"y\": {\"field\": \"ci_hi\", \"type\": \"quantitative\"}, \"y2\": {\"field\": \"ci_lo\"}}}], \"data\": {\"name\": \"data-3bf88f065392f86e1ddc213bb5ab4a2b\"}, \"resolve\": {\"scale\": {\"color\": \"independent\"}}, \"title\": {\"text\": \"Expected revenue vs. actual revenue\", \"anchor\": \"start\", \"color\": \"#3C4043\", \"font\": \"Google Sans Display\", \"fontSize\": 18, \"fontWeight\": \"normal\", \"offset\": 10}, \"$schema\": \"https://vega.github.io/schema/vega-lite/v4.17.0.json\", \"datasets\": {\"data-3bf88f065392f86e1ddc213bb5ab4a2b\": [{\"time\": \"2022-01-03\", \"type\": \"actual\", \"ci_hi\": 1583364.875, \"ci_lo\": 1583364.875, \"mean\": 1583364.875}, {\"time\": \"2022-01-03\", \"type\": \"baseline\", \"ci_hi\": 1672678.7562499999, \"ci_lo\": 1452662.15625, \"mean\": 1567883.125}, {\"time\": \"2022-01-03\", \"type\": \"expected\", \"ci_hi\": 1698361.8124999998, \"ci_lo\": 1502387.1875, \"mean\": 1605022.0}, {\"time\": \"2022-01-10\", \"type\": \"actual\", \"ci_hi\": 1753588.25, \"ci_lo\": 1753588.25, \"mean\": 1753588.25}, {\"time\": \"2022-01-10\", \"type\": \"baseline\", \"ci_hi\": 1679326.96875, \"ci_lo\": 1466501.39375, \"mean\": 1578448.25}, {\"time\": \"2022-01-10\", \"type\": \"expected\", \"ci_hi\": 1716434.3, \"ci_lo\": 1538845.34375, \"mean\": 1632350.375}, {\"time\": \"2022-01-17\", \"type\": \"actual\", \"ci_hi\": 1690696.75, \"ci_lo\": 1690696.75, \"mean\": 1690696.75}, {\"time\": \"2022-01-17\", \"type\": \"baseline\", \"ci_hi\": 1715972.16875, \"ci_lo\": 1499443.39375, \"mean\": 1613574.0}, {\"time\": \"2022-01-17\", \"type\": \"expected\", \"ci_hi\": 1771518.4, \"ci_lo\": 1599656.675, \"mean\": 1690569.25}, {\"time\": \"2022-01-24\", \"type\": \"actual\", \"ci_hi\": 1748572.875, \"ci_lo\": 1748572.875, \"mean\": 1748572.875}, {\"time\": \"2022-01-24\", \"type\": \"baseline\", \"ci_hi\": 1794680.35, \"ci_lo\": 1576030.45625, \"mean\": 1690927.75}, {\"time\": \"2022-01-24\", \"type\": \"expected\", \"ci_hi\": 1889356.05625, \"ci_lo\": 1713781.96875, \"mean\": 1805637.0}, {\"time\": \"2022-01-31\", \"type\": \"actual\", \"ci_hi\": 1768055.875, \"ci_lo\": 1768055.875, \"mean\": 1768055.875}, {\"time\": \"2022-01-31\", \"type\": \"baseline\", \"ci_hi\": 1775085.56875, \"ci_lo\": 1568044.7875, \"mean\": 1677233.5}, {\"time\": \"2022-01-31\", \"type\": \"expected\", \"ci_hi\": 1891859.95625, \"ci_lo\": 1728417.59375, \"mean\": 1813923.0}, {\"time\": \"2022-02-07\", \"type\": \"actual\", \"ci_hi\": 1752389.625, \"ci_lo\": 1752389.625, \"mean\": 1752389.625}, {\"time\": \"2022-02-07\", \"type\": \"baseline\", \"ci_hi\": 1788522.54375, \"ci_lo\": 1583019.6875, \"mean\": 1691469.0}, {\"time\": \"2022-02-07\", \"type\": \"expected\", \"ci_hi\": 1894344.8375, \"ci_lo\": 1751137.65, \"mean\": 1827661.125}, {\"time\": \"2022-02-14\", \"type\": \"actual\", \"ci_hi\": 1669474.25, \"ci_lo\": 1669474.25, \"mean\": 1669474.25}, {\"time\": \"2022-02-14\", \"type\": \"baseline\", \"ci_hi\": 1787548.66875, \"ci_lo\": 1582157.69375, \"mean\": 1690546.75}, {\"time\": \"2022-02-14\", \"type\": \"expected\", \"ci_hi\": 1927039.7, \"ci_lo\": 1806825.09375, \"mean\": 1868860.5}, {\"time\": \"2022-02-21\", \"type\": \"actual\", \"ci_hi\": 1773309.25, \"ci_lo\": 1773309.25, \"mean\": 1773309.25}, {\"time\": \"2022-02-21\", \"type\": \"baseline\", \"ci_hi\": 1868361.3, \"ci_lo\": 1639035.91875, \"mean\": 1760635.5}, {\"time\": \"2022-02-21\", \"type\": \"expected\", \"ci_hi\": 2058880.5875, \"ci_lo\": 1911251.775, \"mean\": 1983510.375}, {\"time\": \"2022-02-28\", \"type\": \"actual\", \"ci_hi\": 1793336.875, \"ci_lo\": 1793336.875, \"mean\": 1793336.875}, {\"time\": \"2022-02-28\", \"type\": \"baseline\", \"ci_hi\": 1915919.83125, \"ci_lo\": 1678410.1, \"mean\": 1803952.0}, {\"time\": \"2022-02-28\", \"type\": \"expected\", \"ci_hi\": 2094573.48125, \"ci_lo\": 1971941.325, \"mean\": 2033969.125}, {\"time\": \"2022-03-07\", \"type\": \"actual\", \"ci_hi\": 1798604.625, \"ci_lo\": 1798604.625, \"mean\": 1798604.625}, {\"time\": \"2022-03-07\", \"type\": \"baseline\", \"ci_hi\": 1849914.84375, \"ci_lo\": 1637357.90625, \"mean\": 1749531.5}, {\"time\": \"2022-03-07\", \"type\": \"expected\", \"ci_hi\": 2010434.16875, \"ci_lo\": 1878520.30625, \"mean\": 1947100.25}, {\"time\": \"2022-03-14\", \"type\": \"actual\", \"ci_hi\": 1795010.125, \"ci_lo\": 1795010.125, \"mean\": 1795010.125}, {\"time\": \"2022-03-14\", \"type\": \"baseline\", \"ci_hi\": 1781823.04375, \"ci_lo\": 1560936.85, \"mean\": 1677690.875}, {\"time\": \"2022-03-14\", \"type\": \"expected\", \"ci_hi\": 1930969.525, \"ci_lo\": 1805835.225, \"mean\": 1869032.0}, {\"time\": \"2022-03-21\", \"type\": \"actual\", \"ci_hi\": 1892675.25, \"ci_lo\": 1892675.25, \"mean\": 1892675.25}, {\"time\": \"2022-03-21\", \"type\": \"baseline\", \"ci_hi\": 1810178.8812499999, \"ci_lo\": 1601055.09375, \"mean\": 1712587.625}, {\"time\": \"2022-03-21\", \"type\": \"expected\", \"ci_hi\": 1979547.66875, \"ci_lo\": 1864940.2875, \"mean\": 1924247.125}, {\"time\": \"2022-03-28\", \"type\": \"actual\", \"ci_hi\": 2092538.5, \"ci_lo\": 2092538.5, \"mean\": 2092538.5}, {\"time\": \"2022-03-28\", \"type\": \"baseline\", \"ci_hi\": 1830106.4874999998, \"ci_lo\": 1621481.625, \"mean\": 1732221.5}, {\"time\": \"2022-03-28\", \"type\": \"expected\", \"ci_hi\": 2035532.23125, \"ci_lo\": 1923876.85625, \"mean\": 1976905.125}, {\"time\": \"2022-04-04\", \"type\": \"actual\", \"ci_hi\": 2143666.25, \"ci_lo\": 2143666.25, \"mean\": 2143666.25}, {\"time\": \"2022-04-04\", \"type\": \"baseline\", \"ci_hi\": 1781039.15625, \"ci_lo\": 1572697.3125, \"mean\": 1683851.0}, {\"time\": \"2022-04-04\", \"type\": \"expected\", \"ci_hi\": 1999165.6312499999, \"ci_lo\": 1891782.11875, \"mean\": 1942991.0}, {\"time\": \"2022-04-11\", \"type\": \"actual\", \"ci_hi\": 2216701.5, \"ci_lo\": 2216701.5, \"mean\": 2216701.5}, {\"time\": \"2022-04-11\", \"type\": \"baseline\", \"ci_hi\": 1822456.15, \"ci_lo\": 1606702.21875, \"mean\": 1720550.75}, {\"time\": \"2022-04-11\", \"type\": \"expected\", \"ci_hi\": 2042246.96875, \"ci_lo\": 1915163.6, \"mean\": 1975876.125}, {\"time\": \"2022-04-18\", \"type\": \"actual\", \"ci_hi\": 2169350.25, \"ci_lo\": 2169350.25, \"mean\": 2169350.25}, {\"time\": \"2022-04-18\", \"type\": \"baseline\", \"ci_hi\": 1827832.675, \"ci_lo\": 1603291.56875, \"mean\": 1720771.0}, {\"time\": \"2022-04-18\", \"type\": \"expected\", \"ci_hi\": 2024620.60625, \"ci_lo\": 1883934.95625, \"mean\": 1952951.0}, {\"time\": \"2022-04-25\", \"type\": \"actual\", \"ci_hi\": 2382257.75, \"ci_lo\": 2382257.75, \"mean\": 2382257.75}, {\"time\": \"2022-04-25\", \"type\": \"baseline\", \"ci_hi\": 1734175.5375, \"ci_lo\": 1519196.10625, \"mean\": 1632830.375}, {\"time\": \"2022-04-25\", \"type\": \"expected\", \"ci_hi\": 1900377.65, \"ci_lo\": 1786348.03125, \"mean\": 1842597.625}, {\"time\": \"2022-05-02\", \"type\": \"actual\", \"ci_hi\": 2051429.875, \"ci_lo\": 2051429.875, \"mean\": 2051429.875}, {\"time\": \"2022-05-02\", \"type\": \"baseline\", \"ci_hi\": 1789581.25625, \"ci_lo\": 1584135.96875, \"mean\": 1693055.5}, {\"time\": \"2022-05-02\", \"type\": \"expected\", \"ci_hi\": 1950823.2062499998, \"ci_lo\": 1850046.0625, \"mean\": 1899686.375}, {\"time\": \"2022-05-09\", \"type\": \"actual\", \"ci_hi\": 1952048.75, \"ci_lo\": 1952048.75, \"mean\": 1952048.75}, {\"time\": \"2022-05-09\", \"type\": \"baseline\", \"ci_hi\": 1800312.7375, \"ci_lo\": 1594196.54375, \"mean\": 1703582.375}, {\"time\": \"2022-05-09\", \"type\": \"expected\", \"ci_hi\": 1957795.78125, \"ci_lo\": 1855984.24375, \"mean\": 1906482.625}, {\"time\": \"2022-05-16\", \"type\": \"actual\", \"ci_hi\": 1894197.5, \"ci_lo\": 1894197.5, \"mean\": 1894197.5}, {\"time\": \"2022-05-16\", \"type\": \"baseline\", \"ci_hi\": 1825976.4625, \"ci_lo\": 1616671.15625, \"mean\": 1727849.5}, {\"time\": \"2022-05-16\", \"type\": \"expected\", \"ci_hi\": 1971149.3875, \"ci_lo\": 1873049.4125, \"mean\": 1922052.0}, {\"time\": \"2022-05-23\", \"type\": \"actual\", \"ci_hi\": 1924118.375, \"ci_lo\": 1924118.375, \"mean\": 1924118.375}, {\"time\": \"2022-05-23\", \"type\": \"baseline\", \"ci_hi\": 1845119.84375, \"ci_lo\": 1630789.54375, \"mean\": 1745039.75}, {\"time\": \"2022-05-23\", \"type\": \"expected\", \"ci_hi\": 1971434.79375, \"ci_lo\": 1873327.6625, \"mean\": 1923113.125}, {\"time\": \"2022-05-30\", \"type\": \"actual\", \"ci_hi\": 1906675.0, \"ci_lo\": 1906675.0, \"mean\": 1906675.0}, {\"time\": \"2022-05-30\", \"type\": \"baseline\", \"ci_hi\": 1802430.89375, \"ci_lo\": 1575870.53125, \"mean\": 1695495.5}, {\"time\": \"2022-05-30\", \"type\": \"expected\", \"ci_hi\": 1915048.65625, \"ci_lo\": 1793427.58125, \"mean\": 1855030.75}, {\"time\": \"2022-06-06\", \"type\": \"actual\", \"ci_hi\": 1945317.375, \"ci_lo\": 1945317.375, \"mean\": 1945317.375}, {\"time\": \"2022-06-06\", \"type\": \"baseline\", \"ci_hi\": 1792493.43125, \"ci_lo\": 1568771.6, \"mean\": 1686644.25}, {\"time\": \"2022-06-06\", \"type\": \"expected\", \"ci_hi\": 1902844.8125, \"ci_lo\": 1778173.64375, \"mean\": 1841684.75}, {\"time\": \"2022-06-13\", \"type\": \"actual\", \"ci_hi\": 1906532.0, \"ci_lo\": 1906532.0, \"mean\": 1906532.0}, {\"time\": \"2022-06-13\", \"type\": \"baseline\", \"ci_hi\": 1833669.9, \"ci_lo\": 1623579.76875, \"mean\": 1735066.375}, {\"time\": \"2022-06-13\", \"type\": \"expected\", \"ci_hi\": 1936731.05625, \"ci_lo\": 1821679.05625, \"mean\": 1880616.375}, {\"time\": \"2022-06-20\", \"type\": \"actual\", \"ci_hi\": 1950761.75, \"ci_lo\": 1950761.75, \"mean\": 1950761.75}, {\"time\": \"2022-06-20\", \"type\": \"baseline\", \"ci_hi\": 1833275.8187499999, \"ci_lo\": 1615626.49375, \"mean\": 1731717.5}, {\"time\": \"2022-06-20\", \"type\": \"expected\", \"ci_hi\": 1945890.35625, \"ci_lo\": 1821056.05, \"mean\": 1886133.625}, {\"time\": \"2022-06-27\", \"type\": \"actual\", \"ci_hi\": 2342323.0, \"ci_lo\": 2342323.0, \"mean\": 2342323.0}, {\"time\": \"2022-06-27\", \"type\": \"baseline\", \"ci_hi\": 1833861.0375, \"ci_lo\": 1618285.21875, \"mean\": 1733523.125}, {\"time\": \"2022-06-27\", \"type\": \"expected\", \"ci_hi\": 1965268.9375, \"ci_lo\": 1841880.79375, \"mean\": 1907200.625}, {\"time\": \"2022-07-04\", \"type\": \"actual\", \"ci_hi\": 2290299.75, \"ci_lo\": 2290299.75, \"mean\": 2290299.75}, {\"time\": \"2022-07-04\", \"type\": \"baseline\", \"ci_hi\": 1819227.6937499999, \"ci_lo\": 1611842.89375, \"mean\": 1721922.375}, {\"time\": \"2022-07-04\", \"type\": \"expected\", \"ci_hi\": 1982299.2374999998, \"ci_lo\": 1862657.05625, \"mean\": 1923659.875}, {\"time\": \"2022-07-11\", \"type\": \"actual\", \"ci_hi\": 2205407.25, \"ci_lo\": 2205407.25, \"mean\": 2205407.25}, {\"time\": \"2022-07-11\", \"type\": \"baseline\", \"ci_hi\": 1797392.1312499999, \"ci_lo\": 1564372.90625, \"mean\": 1686913.0}, {\"time\": \"2022-07-11\", \"type\": \"expected\", \"ci_hi\": 1995029.45, \"ci_lo\": 1842689.70625, \"mean\": 1918070.375}, {\"time\": \"2022-07-18\", \"type\": \"actual\", \"ci_hi\": 2231353.75, \"ci_lo\": 2231353.75, \"mean\": 2231353.75}, {\"time\": \"2022-07-18\", \"type\": \"baseline\", \"ci_hi\": 1824236.9875, \"ci_lo\": 1599438.9875, \"mean\": 1718418.875}, {\"time\": \"2022-07-18\", \"type\": \"expected\", \"ci_hi\": 2036681.55, \"ci_lo\": 1906910.8375, \"mean\": 1970464.75}, {\"time\": \"2022-07-25\", \"type\": \"actual\", \"ci_hi\": 2199271.0, \"ci_lo\": 2199271.0, \"mean\": 2199271.0}, {\"time\": \"2022-07-25\", \"type\": \"baseline\", \"ci_hi\": 1887198.1124999998, \"ci_lo\": 1668310.025, \"mean\": 1783814.875}, {\"time\": \"2022-07-25\", \"type\": \"expected\", \"ci_hi\": 2108661.7125, \"ci_lo\": 1981801.6625, \"mean\": 2040972.375}, {\"time\": \"2022-08-01\", \"type\": \"actual\", \"ci_hi\": 2096307.25, \"ci_lo\": 2096307.25, \"mean\": 2096307.25}, {\"time\": \"2022-08-01\", \"type\": \"baseline\", \"ci_hi\": 1864081.10625, \"ci_lo\": 1648268.9875, \"mean\": 1762553.0}, {\"time\": \"2022-08-01\", \"type\": \"expected\", \"ci_hi\": 2045493.21875, \"ci_lo\": 1910799.375, \"mean\": 1979017.75}, {\"time\": \"2022-08-08\", \"type\": \"actual\", \"ci_hi\": 2016241.5, \"ci_lo\": 2016241.5, \"mean\": 2016241.5}, {\"time\": \"2022-08-08\", \"type\": \"baseline\", \"ci_hi\": 1874327.33125, \"ci_lo\": 1655711.24375, \"mean\": 1771009.125}, {\"time\": \"2022-08-08\", \"type\": \"expected\", \"ci_hi\": 2040358.2249999999, \"ci_lo\": 1890686.94375, \"mean\": 1968186.375}, {\"time\": \"2022-08-15\", \"type\": \"actual\", \"ci_hi\": 1964329.875, \"ci_lo\": 1964329.875, \"mean\": 1964329.875}, {\"time\": \"2022-08-15\", \"type\": \"baseline\", \"ci_hi\": 1910923.9125, \"ci_lo\": 1692461.7125, \"mean\": 1808148.75}, {\"time\": \"2022-08-15\", \"type\": \"expected\", \"ci_hi\": 2070679.78125, \"ci_lo\": 1919148.93125, \"mean\": 2000022.0}, {\"time\": \"2022-08-22\", \"type\": \"actual\", \"ci_hi\": 1888598.375, \"ci_lo\": 1888598.375, \"mean\": 1888598.375}, {\"time\": \"2022-08-22\", \"type\": \"baseline\", \"ci_hi\": 1994791.9874999998, \"ci_lo\": 1730172.55, \"mean\": 1868454.375}, {\"time\": \"2022-08-22\", \"type\": \"expected\", \"ci_hi\": 2166635.225, \"ci_lo\": 1950850.6375, \"mean\": 2062492.5}, {\"time\": \"2022-08-29\", \"type\": \"actual\", \"ci_hi\": 1919326.5, \"ci_lo\": 1919326.5, \"mean\": 1919326.5}, {\"time\": \"2022-08-29\", \"type\": \"baseline\", \"ci_hi\": 2091256.125, \"ci_lo\": 1832010.60625, \"mean\": 1969041.875}, {\"time\": \"2022-08-29\", \"type\": \"expected\", \"ci_hi\": 2245065.9875, \"ci_lo\": 2043761.6625, \"mean\": 2148572.75}, {\"time\": \"2022-09-05\", \"type\": \"actual\", \"ci_hi\": 1900280.25, \"ci_lo\": 1900280.25, \"mean\": 1900280.25}, {\"time\": \"2022-09-05\", \"type\": \"baseline\", \"ci_hi\": 2150154.5625, \"ci_lo\": 1889862.45625, \"mean\": 2026424.0}, {\"time\": \"2022-09-05\", \"type\": \"expected\", \"ci_hi\": 2277210.7874999996, \"ci_lo\": 2069478.58125, \"mean\": 2178045.5}, {\"time\": \"2022-09-12\", \"type\": \"actual\", \"ci_hi\": 1913706.625, \"ci_lo\": 1913706.625, \"mean\": 1913706.625}, {\"time\": \"2022-09-12\", \"type\": \"baseline\", \"ci_hi\": 2141259.975, \"ci_lo\": 1890537.425, \"mean\": 2022956.5}, {\"time\": \"2022-09-12\", \"type\": \"expected\", \"ci_hi\": 2242207.075, \"ci_lo\": 2036848.79375, \"mean\": 2145541.5}, {\"time\": \"2022-09-19\", \"type\": \"actual\", \"ci_hi\": 2006992.0, \"ci_lo\": 2006992.0, \"mean\": 2006992.0}, {\"time\": \"2022-09-19\", \"type\": \"baseline\", \"ci_hi\": 2153689.9875, \"ci_lo\": 1902489.85625, \"mean\": 2034968.875}, {\"time\": \"2022-09-19\", \"type\": \"expected\", \"ci_hi\": 2260341.45, \"ci_lo\": 2087913.4375, \"mean\": 2180287.0}, {\"time\": \"2022-09-26\", \"type\": \"actual\", \"ci_hi\": 2134574.0, \"ci_lo\": 2134574.0, \"mean\": 2134574.0}, {\"time\": \"2022-09-26\", \"type\": \"baseline\", \"ci_hi\": 2093334.89375, \"ci_lo\": 1850171.85, \"mean\": 1979784.875}, {\"time\": \"2022-09-26\", \"type\": \"expected\", \"ci_hi\": 2197770.4, \"ci_lo\": 2034747.8625, \"mean\": 2123261.0}, {\"time\": \"2022-10-03\", \"type\": \"actual\", \"ci_hi\": 2046510.75, \"ci_lo\": 2046510.75, \"mean\": 2046510.75}, {\"time\": \"2022-10-03\", \"type\": \"baseline\", \"ci_hi\": 2067295.71875, \"ci_lo\": 1784725.4125, \"mean\": 1932015.875}, {\"time\": \"2022-10-03\", \"type\": \"expected\", \"ci_hi\": 2155310.6125, \"ci_lo\": 1933121.78125, \"mean\": 2047616.25}, {\"time\": \"2022-10-10\", \"type\": \"actual\", \"ci_hi\": 1930840.625, \"ci_lo\": 1930840.625, \"mean\": 1930840.625}, {\"time\": \"2022-10-10\", \"type\": \"baseline\", \"ci_hi\": 2075679.7875, \"ci_lo\": 1771395.34375, \"mean\": 1929468.875}, {\"time\": \"2022-10-10\", \"type\": \"expected\", \"ci_hi\": 2203620.375, \"ci_lo\": 1956200.775, \"mean\": 2083211.0}, {\"time\": \"2022-10-17\", \"type\": \"actual\", \"ci_hi\": 1992331.875, \"ci_lo\": 1992331.875, \"mean\": 1992331.875}, {\"time\": \"2022-10-17\", \"type\": \"baseline\", \"ci_hi\": 2131347.0749999997, \"ci_lo\": 1867757.73125, \"mean\": 2005719.75}, {\"time\": \"2022-10-17\", \"type\": \"expected\", \"ci_hi\": 2283533.4, \"ci_lo\": 2084251.66875, \"mean\": 2186913.25}, {\"time\": \"2022-10-24\", \"type\": \"actual\", \"ci_hi\": 2143103.25, \"ci_lo\": 2143103.25, \"mean\": 2143103.25}, {\"time\": \"2022-10-24\", \"type\": \"baseline\", \"ci_hi\": 2050145.75, \"ci_lo\": 1815144.65, \"mean\": 1939971.375}, {\"time\": \"2022-10-24\", \"type\": \"expected\", \"ci_hi\": 2211159.125, \"ci_lo\": 2044192.4375, \"mean\": 2133190.25}, {\"time\": \"2022-10-31\", \"type\": \"actual\", \"ci_hi\": 2017805.375, \"ci_lo\": 2017805.375, \"mean\": 2017805.375}, {\"time\": \"2022-10-31\", \"type\": \"baseline\", \"ci_hi\": 2093979.48125, \"ci_lo\": 1849743.8875, \"mean\": 1978547.0}, {\"time\": \"2022-10-31\", \"type\": \"expected\", \"ci_hi\": 2274650.35, \"ci_lo\": 2095522.6125, \"mean\": 2188329.5}, {\"time\": \"2022-11-07\", \"type\": \"actual\", \"ci_hi\": 1999588.5, \"ci_lo\": 1999588.5, \"mean\": 1999588.5}, {\"time\": \"2022-11-07\", \"type\": \"baseline\", \"ci_hi\": 2089508.5, \"ci_lo\": 1822460.5, \"mean\": 1961726.0}, {\"time\": \"2022-11-07\", \"type\": \"expected\", \"ci_hi\": 2250462.0625, \"ci_lo\": 2047755.3875, \"mean\": 2150282.75}, {\"time\": \"2022-11-14\", \"type\": \"actual\", \"ci_hi\": 1990701.625, \"ci_lo\": 1990701.625, \"mean\": 1990701.625}, {\"time\": \"2022-11-14\", \"type\": \"baseline\", \"ci_hi\": 1959411.375, \"ci_lo\": 1731150.6, \"mean\": 1852870.375}, {\"time\": \"2022-11-14\", \"type\": \"expected\", \"ci_hi\": 2101128.175, \"ci_lo\": 1952235.3, \"mean\": 2031224.875}, {\"time\": \"2022-11-21\", \"type\": \"actual\", \"ci_hi\": 1911488.75, \"ci_lo\": 1911488.75, \"mean\": 1911488.75}, {\"time\": \"2022-11-21\", \"type\": \"baseline\", \"ci_hi\": 1970859.50625, \"ci_lo\": 1741264.96875, \"mean\": 1863691.5}, {\"time\": \"2022-11-21\", \"type\": \"expected\", \"ci_hi\": 2112026.8249999997, \"ci_lo\": 1965274.35625, \"mean\": 2044072.25}, {\"time\": \"2022-11-28\", \"type\": \"actual\", \"ci_hi\": 1986787.375, \"ci_lo\": 1986787.375, \"mean\": 1986787.375}, {\"time\": \"2022-11-28\", \"type\": \"baseline\", \"ci_hi\": 2044998.0687499999, \"ci_lo\": 1797435.9124999999, \"mean\": 1927319.25}, {\"time\": \"2022-11-28\", \"type\": \"expected\", \"ci_hi\": 2200451.9875, \"ci_lo\": 2024082.2875, \"mean\": 2114504.75}, {\"time\": \"2022-12-05\", \"type\": \"actual\", \"ci_hi\": 1898280.75, \"ci_lo\": 1898280.75, \"mean\": 1898280.75}, {\"time\": \"2022-12-05\", \"type\": \"baseline\", \"ci_hi\": 2017536.0375, \"ci_lo\": 1778687.325, \"mean\": 1904726.25}, {\"time\": \"2022-12-05\", \"type\": \"expected\", \"ci_hi\": 2157574.5625, \"ci_lo\": 1995662.2, \"mean\": 2079724.0}, {\"time\": \"2022-12-12\", \"type\": \"actual\", \"ci_hi\": 2210139.0, \"ci_lo\": 2210139.0, \"mean\": 2210139.0}, {\"time\": \"2022-12-12\", \"type\": \"baseline\", \"ci_hi\": 2048585.34375, \"ci_lo\": 1813095.89375, \"mean\": 1937737.75}, {\"time\": \"2022-12-12\", \"type\": \"expected\", \"ci_hi\": 2170859.9625, \"ci_lo\": 2017816.9875, \"mean\": 2100213.5}, {\"time\": \"2022-12-19\", \"type\": \"actual\", \"ci_hi\": 2585718.25, \"ci_lo\": 2585718.25, \"mean\": 2585718.25}, {\"time\": \"2022-12-19\", \"type\": \"baseline\", \"ci_hi\": 2067476.16875, \"ci_lo\": 1824053.75625, \"mean\": 1952687.5}, {\"time\": \"2022-12-19\", \"type\": \"expected\", \"ci_hi\": 2186251.35, \"ci_lo\": 2020319.875, \"mean\": 2109082.0}, {\"time\": \"2022-12-26\", \"type\": \"actual\", \"ci_hi\": 1689646.5, \"ci_lo\": 1689646.5, \"mean\": 1689646.5}, {\"time\": \"2022-12-26\", \"type\": \"baseline\", \"ci_hi\": 2203603.4124999996, \"ci_lo\": 1940239.9375, \"mean\": 2078976.75}, {\"time\": \"2022-12-26\", \"type\": \"expected\", \"ci_hi\": 2321177.975, \"ci_lo\": 2133502.4875, \"mean\": 2233956.5}, {\"time\": \"2023-01-02\", \"type\": \"actual\", \"ci_hi\": 1927893.375, \"ci_lo\": 1927893.375, \"mean\": 1927893.375}, {\"time\": \"2023-01-02\", \"type\": \"baseline\", \"ci_hi\": 2145158.1375, \"ci_lo\": 1864969.79375, \"mean\": 2011790.75}, {\"time\": \"2023-01-02\", \"type\": \"expected\", \"ci_hi\": 2307384.8375, \"ci_lo\": 2120829.9625, \"mean\": 2215667.0}, {\"time\": \"2023-01-09\", \"type\": \"actual\", \"ci_hi\": 1928235.375, \"ci_lo\": 1928235.375, \"mean\": 1928235.375}, {\"time\": \"2023-01-09\", \"type\": \"baseline\", \"ci_hi\": 2204145.4625, \"ci_lo\": 1914222.175, \"mean\": 2066050.375}, {\"time\": \"2023-01-09\", \"type\": \"expected\", \"ci_hi\": 2357116.7875, \"ci_lo\": 2163178.9375, \"mean\": 2261546.25}, {\"time\": \"2023-01-16\", \"type\": \"actual\", \"ci_hi\": 1848236.0, \"ci_lo\": 1848236.0, \"mean\": 1848236.0}, {\"time\": \"2023-01-16\", \"type\": \"baseline\", \"ci_hi\": 2243496.6999999997, \"ci_lo\": 1955273.50625, \"mean\": 2107003.5}, {\"time\": \"2023-01-16\", \"type\": \"expected\", \"ci_hi\": 2404788.3625, \"ci_lo\": 2210926.5375, \"mean\": 2310622.75}, {\"time\": \"2023-01-23\", \"type\": \"actual\", \"ci_hi\": 1915716.25, \"ci_lo\": 1915716.25, \"mean\": 1915716.25}, {\"time\": \"2023-01-23\", \"type\": \"baseline\", \"ci_hi\": 2224940.75, \"ci_lo\": 1955595.175, \"mean\": 2096909.875}, {\"time\": \"2023-01-23\", \"type\": \"expected\", \"ci_hi\": 2386622.725, \"ci_lo\": 2194558.8125, \"mean\": 2291153.25}, {\"time\": \"2023-01-30\", \"type\": \"actual\", \"ci_hi\": 2075693.25, \"ci_lo\": 2075693.25, \"mean\": 2075693.25}, {\"time\": \"2023-01-30\", \"type\": \"baseline\", \"ci_hi\": 2278344.8625, \"ci_lo\": 2007557.95625, \"mean\": 2150082.0}, {\"time\": \"2023-01-30\", \"type\": \"expected\", \"ci_hi\": 2512932.2249999996, \"ci_lo\": 2344503.975, \"mean\": 2428809.5}, {\"time\": \"2023-02-06\", \"type\": \"actual\", \"ci_hi\": 1953737.5, \"ci_lo\": 1953737.5, \"mean\": 1953737.5}, {\"time\": \"2023-02-06\", \"type\": \"baseline\", \"ci_hi\": 2211449.4375, \"ci_lo\": 1958262.375, \"mean\": 2092636.875}, {\"time\": \"2023-02-06\", \"type\": \"expected\", \"ci_hi\": 2451544.7875, \"ci_lo\": 2325607.4625, \"mean\": 2387046.75}, {\"time\": \"2023-02-13\", \"type\": \"actual\", \"ci_hi\": 1944203.375, \"ci_lo\": 1944203.375, \"mean\": 1944203.375}, {\"time\": \"2023-02-13\", \"type\": \"baseline\", \"ci_hi\": 2223543.2125, \"ci_lo\": 1968971.7375, \"mean\": 2104076.75}, {\"time\": \"2023-02-13\", \"type\": \"expected\", \"ci_hi\": 2484088.1875, \"ci_lo\": 2356538.275, \"mean\": 2417955.25}, {\"time\": \"2023-02-20\", \"type\": \"actual\", \"ci_hi\": 1998070.125, \"ci_lo\": 1998070.125, \"mean\": 1998070.125}, {\"time\": \"2023-02-20\", \"type\": \"baseline\", \"ci_hi\": 2290499.9625, \"ci_lo\": 2018568.24375, \"mean\": 2163616.25}, {\"time\": \"2023-02-20\", \"type\": \"expected\", \"ci_hi\": 2571360.35, \"ci_lo\": 2432135.1375, \"mean\": 2499449.5}, {\"time\": \"2023-02-27\", \"type\": \"actual\", \"ci_hi\": 2203825.0, \"ci_lo\": 2203825.0, \"mean\": 2203825.0}, {\"time\": \"2023-02-27\", \"type\": \"baseline\", \"ci_hi\": 2329241.6, \"ci_lo\": 2045426.60625, \"mean\": 2196122.5}, {\"time\": \"2023-02-27\", \"type\": \"expected\", \"ci_hi\": 2598376.8125, \"ci_lo\": 2452667.6125, \"mean\": 2524633.75}, {\"time\": \"2023-03-06\", \"type\": \"actual\", \"ci_hi\": 2287831.0, \"ci_lo\": 2287831.0, \"mean\": 2287831.0}, {\"time\": \"2023-03-06\", \"type\": \"baseline\", \"ci_hi\": 2391643.15, \"ci_lo\": 2116841.1625, \"mean\": 2261863.25}, {\"time\": \"2023-03-06\", \"type\": \"expected\", \"ci_hi\": 2674923.875, \"ci_lo\": 2526108.5125, \"mean\": 2597510.25}, {\"time\": \"2023-03-13\", \"type\": \"actual\", \"ci_hi\": 2594343.75, \"ci_lo\": 2594343.75, \"mean\": 2594343.75}, {\"time\": \"2023-03-13\", \"type\": \"baseline\", \"ci_hi\": 2307107.5, \"ci_lo\": 2010711.975, \"mean\": 2166749.0}, {\"time\": \"2023-03-13\", \"type\": \"expected\", \"ci_hi\": 2595277.225, \"ci_lo\": 2412620.8375, \"mean\": 2502590.0}, {\"time\": \"2023-03-20\", \"type\": \"actual\", \"ci_hi\": 2750705.0, \"ci_lo\": 2750705.0, \"mean\": 2750705.0}, {\"time\": \"2023-03-20\", \"type\": \"baseline\", \"ci_hi\": 2256892.6374999997, \"ci_lo\": 1992886.6125, \"mean\": 2133738.75}, {\"time\": \"2023-03-20\", \"type\": \"expected\", \"ci_hi\": 2577289.0875, \"ci_lo\": 2424477.4875, \"mean\": 2497840.25}, {\"time\": \"2023-03-27\", \"type\": \"actual\", \"ci_hi\": 2823909.5, \"ci_lo\": 2823909.5, \"mean\": 2823909.5}, {\"time\": \"2023-03-27\", \"type\": \"baseline\", \"ci_hi\": 2236657.9625, \"ci_lo\": 1980584.85, \"mean\": 2116487.25}, {\"time\": \"2023-03-27\", \"type\": \"expected\", \"ci_hi\": 2567971.225, \"ci_lo\": 2409802.2875, \"mean\": 2483848.25}, {\"time\": \"2023-04-03\", \"type\": \"actual\", \"ci_hi\": 2608238.25, \"ci_lo\": 2608238.25, \"mean\": 2608238.25}, {\"time\": \"2023-04-03\", \"type\": \"baseline\", \"ci_hi\": 2238393.925, \"ci_lo\": 1978380.59375, \"mean\": 2116977.75}, {\"time\": \"2023-04-03\", \"type\": \"expected\", \"ci_hi\": 2567020.5749999997, \"ci_lo\": 2406492.4875, \"mean\": 2482491.5}, {\"time\": \"2023-04-10\", \"type\": \"actual\", \"ci_hi\": 2488520.0, \"ci_lo\": 2488520.0, \"mean\": 2488520.0}, {\"time\": \"2023-04-10\", \"type\": \"baseline\", \"ci_hi\": 2205788.15, \"ci_lo\": 1950775.0, \"mean\": 2085707.875}, {\"time\": \"2023-04-10\", \"type\": \"expected\", \"ci_hi\": 2520475.3, \"ci_lo\": 2360949.225, \"mean\": 2436644.5}, {\"time\": \"2023-04-17\", \"type\": \"actual\", \"ci_hi\": 2399761.0, \"ci_lo\": 2399761.0, \"mean\": 2399761.0}, {\"time\": \"2023-04-17\", \"type\": \"baseline\", \"ci_hi\": 2267966.1875, \"ci_lo\": 1999470.05, \"mean\": 2141157.5}, {\"time\": \"2023-04-17\", \"type\": \"expected\", \"ci_hi\": 2571203.6125, \"ci_lo\": 2401163.6375, \"mean\": 2484600.5}, {\"time\": \"2023-04-24\", \"type\": \"actual\", \"ci_hi\": 2598297.0, \"ci_lo\": 2598297.0, \"mean\": 2598297.0}, {\"time\": \"2023-04-24\", \"type\": \"baseline\", \"ci_hi\": 2266614.375, \"ci_lo\": 1979360.29375, \"mean\": 2130451.75}, {\"time\": \"2023-04-24\", \"type\": \"expected\", \"ci_hi\": 2554291.1875, \"ci_lo\": 2368385.3375, \"mean\": 2459660.75}, {\"time\": \"2023-05-01\", \"type\": \"actual\", \"ci_hi\": 2455083.75, \"ci_lo\": 2455083.75, \"mean\": 2455083.75}, {\"time\": \"2023-05-01\", \"type\": \"baseline\", \"ci_hi\": 2290114.0375, \"ci_lo\": 2027920.93125, \"mean\": 2167074.5}, {\"time\": \"2023-05-01\", \"type\": \"expected\", \"ci_hi\": 2558242.9625, \"ci_lo\": 2423769.25, \"mean\": 2488332.5}, {\"time\": \"2023-05-08\", \"type\": \"actual\", \"ci_hi\": 2173314.0, \"ci_lo\": 2173314.0, \"mean\": 2173314.0}, {\"time\": \"2023-05-08\", \"type\": \"baseline\", \"ci_hi\": 2249926.7125, \"ci_lo\": 1991292.7125, \"mean\": 2128190.5}, {\"time\": \"2023-05-08\", \"type\": \"expected\", \"ci_hi\": 2515512.5375, \"ci_lo\": 2386477.3625, \"mean\": 2448777.25}, {\"time\": \"2023-05-15\", \"type\": \"actual\", \"ci_hi\": 2109883.0, \"ci_lo\": 2109883.0, \"mean\": 2109883.0}, {\"time\": \"2023-05-15\", \"type\": \"baseline\", \"ci_hi\": 2227431.3375, \"ci_lo\": 1972718.81875, \"mean\": 2108133.5}, {\"time\": \"2023-05-15\", \"type\": \"expected\", \"ci_hi\": 2502248.8125, \"ci_lo\": 2375671.4, \"mean\": 2435966.5}, {\"time\": \"2023-05-22\", \"type\": \"actual\", \"ci_hi\": 2224470.25, \"ci_lo\": 2224470.25, \"mean\": 2224470.25}, {\"time\": \"2023-05-22\", \"type\": \"baseline\", \"ci_hi\": 2194657.475, \"ci_lo\": 1935590.25, \"mean\": 2073927.875}, {\"time\": \"2023-05-22\", \"type\": \"expected\", \"ci_hi\": 2467936.775, \"ci_lo\": 2337532.6375, \"mean\": 2400394.0}, {\"time\": \"2023-05-29\", \"type\": \"actual\", \"ci_hi\": 2349594.0, \"ci_lo\": 2349594.0, \"mean\": 2349594.0}, {\"time\": \"2023-05-29\", \"type\": \"baseline\", \"ci_hi\": 2255804.3874999997, \"ci_lo\": 1967897.13125, \"mean\": 2119435.0}, {\"time\": \"2023-05-29\", \"type\": \"expected\", \"ci_hi\": 2536999.8125, \"ci_lo\": 2361989.775, \"mean\": 2448034.75}, {\"time\": \"2023-06-05\", \"type\": \"actual\", \"ci_hi\": 2309400.5, \"ci_lo\": 2309400.5, \"mean\": 2309400.5}, {\"time\": \"2023-06-05\", \"type\": \"baseline\", \"ci_hi\": 2298872.075, \"ci_lo\": 2018757.5062499999, \"mean\": 2167491.0}, {\"time\": \"2023-06-05\", \"type\": \"expected\", \"ci_hi\": 2574759.425, \"ci_lo\": 2425472.0375, \"mean\": 2497734.25}, {\"time\": \"2023-06-12\", \"type\": \"actual\", \"ci_hi\": 2318686.5, \"ci_lo\": 2318686.5, \"mean\": 2318686.5}, {\"time\": \"2023-06-12\", \"type\": \"baseline\", \"ci_hi\": 2357207.8375, \"ci_lo\": 2086241.55625, \"mean\": 2229667.5}, {\"time\": \"2023-06-12\", \"type\": \"expected\", \"ci_hi\": 2640646.9875, \"ci_lo\": 2498767.15, \"mean\": 2566351.75}, {\"time\": \"2023-06-19\", \"type\": \"actual\", \"ci_hi\": 2416271.0, \"ci_lo\": 2416271.0, \"mean\": 2416271.0}, {\"time\": \"2023-06-19\", \"type\": \"baseline\", \"ci_hi\": 2341890.275, \"ci_lo\": 2072079.63125, \"mean\": 2215958.75}, {\"time\": \"2023-06-19\", \"type\": \"expected\", \"ci_hi\": 2630586.925, \"ci_lo\": 2486776.9125, \"mean\": 2553849.25}, {\"time\": \"2023-06-26\", \"type\": \"actual\", \"ci_hi\": 2613592.75, \"ci_lo\": 2613592.75, \"mean\": 2613592.75}, {\"time\": \"2023-06-26\", \"type\": \"baseline\", \"ci_hi\": 2358437.9125, \"ci_lo\": 2076529.46875, \"mean\": 2226949.25}, {\"time\": \"2023-06-26\", \"type\": \"expected\", \"ci_hi\": 2627012.425, \"ci_lo\": 2468915.25, \"mean\": 2544418.5}, {\"time\": \"2023-07-03\", \"type\": \"actual\", \"ci_hi\": 2554774.25, \"ci_lo\": 2554774.25, \"mean\": 2554774.25}, {\"time\": \"2023-07-03\", \"type\": \"baseline\", \"ci_hi\": 2317251.5875, \"ci_lo\": 2050997.3375, \"mean\": 2191508.25}, {\"time\": \"2023-07-03\", \"type\": \"expected\", \"ci_hi\": 2568547.0125, \"ci_lo\": 2430321.725, \"mean\": 2496274.5}, {\"time\": \"2023-07-10\", \"type\": \"actual\", \"ci_hi\": 2724541.5, \"ci_lo\": 2724541.5, \"mean\": 2724541.5}, {\"time\": \"2023-07-10\", \"type\": \"baseline\", \"ci_hi\": 2256457.0375, \"ci_lo\": 1976732.1375, \"mean\": 2124589.25}, {\"time\": \"2023-07-10\", \"type\": \"expected\", \"ci_hi\": 2530628.3125, \"ci_lo\": 2371538.6875, \"mean\": 2448324.0}, {\"time\": \"2023-07-17\", \"type\": \"actual\", \"ci_hi\": 2648907.5, \"ci_lo\": 2648907.5, \"mean\": 2648907.5}, {\"time\": \"2023-07-17\", \"type\": \"baseline\", \"ci_hi\": 2226355.7875, \"ci_lo\": 1955077.20625, \"mean\": 2099114.75}, {\"time\": \"2023-07-17\", \"type\": \"expected\", \"ci_hi\": 2493144.8, \"ci_lo\": 2347209.8, \"mean\": 2418013.25}, {\"time\": \"2023-07-24\", \"type\": \"actual\", \"ci_hi\": 2648605.75, \"ci_lo\": 2648605.75, \"mean\": 2648605.75}, {\"time\": \"2023-07-24\", \"type\": \"baseline\", \"ci_hi\": 2229754.0625, \"ci_lo\": 1971970.225, \"mean\": 2108371.5}, {\"time\": \"2023-07-24\", \"type\": \"expected\", \"ci_hi\": 2486699.6374999997, \"ci_lo\": 2355287.55, \"mean\": 2419320.5}, {\"time\": \"2023-07-31\", \"type\": \"actual\", \"ci_hi\": 2553348.25, \"ci_lo\": 2553348.25, \"mean\": 2553348.25}, {\"time\": \"2023-07-31\", \"type\": \"baseline\", \"ci_hi\": 2185258.2624999997, \"ci_lo\": 1932618.53125, \"mean\": 2066297.125}, {\"time\": \"2023-07-31\", \"type\": \"expected\", \"ci_hi\": 2436777.7875, \"ci_lo\": 2310608.7125, \"mean\": 2371691.75}, {\"time\": \"2023-08-07\", \"type\": \"actual\", \"ci_hi\": 2405538.25, \"ci_lo\": 2405538.25, \"mean\": 2405538.25}, {\"time\": \"2023-08-07\", \"type\": \"baseline\", \"ci_hi\": 2206802.725, \"ci_lo\": 1950845.0625, \"mean\": 2085912.25}, {\"time\": \"2023-08-07\", \"type\": \"expected\", \"ci_hi\": 2429741.0875, \"ci_lo\": 2297852.45, \"mean\": 2363231.0}, {\"time\": \"2023-08-14\", \"type\": \"actual\", \"ci_hi\": 2464536.0, \"ci_lo\": 2464536.0, \"mean\": 2464536.0}, {\"time\": \"2023-08-14\", \"type\": \"baseline\", \"ci_hi\": 2207011.6625, \"ci_lo\": 1954029.65, \"mean\": 2088407.125}, {\"time\": \"2023-08-14\", \"type\": \"expected\", \"ci_hi\": 2403357.0875, \"ci_lo\": 2277835.625, \"mean\": 2342281.75}, {\"time\": \"2023-08-21\", \"type\": \"actual\", \"ci_hi\": 2576757.5, \"ci_lo\": 2576757.5, \"mean\": 2576757.5}, {\"time\": \"2023-08-21\", \"type\": \"baseline\", \"ci_hi\": 2253221.3749999995, \"ci_lo\": 1965643.88125, \"mean\": 2116997.0}, {\"time\": \"2023-08-21\", \"type\": \"expected\", \"ci_hi\": 2438913.8375, \"ci_lo\": 2262300.2625, \"mean\": 2351880.25}, {\"time\": \"2023-08-28\", \"type\": \"actual\", \"ci_hi\": 2469402.0, \"ci_lo\": 2469402.0, \"mean\": 2469402.0}, {\"time\": \"2023-08-28\", \"type\": \"baseline\", \"ci_hi\": 2291463.875, \"ci_lo\": 2010206.34375, \"mean\": 2159345.75}, {\"time\": \"2023-08-28\", \"type\": \"expected\", \"ci_hi\": 2460159.8, \"ci_lo\": 2297932.175, \"mean\": 2381298.75}, {\"time\": \"2023-09-04\", \"type\": \"actual\", \"ci_hi\": 2443770.0, \"ci_lo\": 2443770.0, \"mean\": 2443770.0}, {\"time\": \"2023-09-04\", \"type\": \"baseline\", \"ci_hi\": 2350751.5, \"ci_lo\": 2073976.4, \"mean\": 2220235.75}, {\"time\": \"2023-09-04\", \"type\": \"expected\", \"ci_hi\": 2529249.625, \"ci_lo\": 2380077.1, \"mean\": 2454437.5}, {\"time\": \"2023-09-11\", \"type\": \"actual\", \"ci_hi\": 2590013.25, \"ci_lo\": 2590013.25, \"mean\": 2590013.25}, {\"time\": \"2023-09-11\", \"type\": \"baseline\", \"ci_hi\": 2287603.1625, \"ci_lo\": 2022758.10625, \"mean\": 2163010.0}, {\"time\": \"2023-09-11\", \"type\": \"expected\", \"ci_hi\": 2468329.0, \"ci_lo\": 2336694.65, \"mean\": 2403181.25}, {\"time\": \"2023-09-18\", \"type\": \"actual\", \"ci_hi\": 2469941.5, \"ci_lo\": 2469941.5, \"mean\": 2469941.5}, {\"time\": \"2023-09-18\", \"type\": \"baseline\", \"ci_hi\": 2299029.925, \"ci_lo\": 2032862.0125, \"mean\": 2173816.5}, {\"time\": \"2023-09-18\", \"type\": \"expected\", \"ci_hi\": 2483273.325, \"ci_lo\": 2344858.8375, \"mean\": 2414182.5}, {\"time\": \"2023-09-25\", \"type\": \"actual\", \"ci_hi\": 2562620.0, \"ci_lo\": 2562620.0, \"mean\": 2562620.0}, {\"time\": \"2023-09-25\", \"type\": \"baseline\", \"ci_hi\": 2310300.9375, \"ci_lo\": 2043399.7, \"mean\": 2185745.5}, {\"time\": \"2023-09-25\", \"type\": \"expected\", \"ci_hi\": 2479029.6625, \"ci_lo\": 2348742.6375, \"mean\": 2416485.25}, {\"time\": \"2023-10-02\", \"type\": \"actual\", \"ci_hi\": 2424553.25, \"ci_lo\": 2424553.25, \"mean\": 2424553.25}, {\"time\": \"2023-10-02\", \"type\": \"baseline\", \"ci_hi\": 2340541.45, \"ci_lo\": 2011682.43125, \"mean\": 2183016.5}, {\"time\": \"2023-10-02\", \"type\": \"expected\", \"ci_hi\": 2539439.55, \"ci_lo\": 2318792.575, \"mean\": 2429535.0}, {\"time\": \"2023-10-09\", \"type\": \"actual\", \"ci_hi\": 2425451.5, \"ci_lo\": 2425451.5, \"mean\": 2425451.5}, {\"time\": \"2023-10-09\", \"type\": \"baseline\", \"ci_hi\": 2363414.5, \"ci_lo\": 2013643.875, \"mean\": 2195039.0}, {\"time\": \"2023-10-09\", \"type\": \"expected\", \"ci_hi\": 2579938.3125, \"ci_lo\": 2339239.3875, \"mean\": 2458818.75}, {\"time\": \"2023-10-16\", \"type\": \"actual\", \"ci_hi\": 2333596.25, \"ci_lo\": 2333596.25, \"mean\": 2333596.25}, {\"time\": \"2023-10-16\", \"type\": \"baseline\", \"ci_hi\": 2350505.85, \"ci_lo\": 2061756.68125, \"mean\": 2212835.0}, {\"time\": \"2023-10-16\", \"type\": \"expected\", \"ci_hi\": 2553903.85, \"ci_lo\": 2382157.425, \"mean\": 2468152.25}, {\"time\": \"2023-10-23\", \"type\": \"actual\", \"ci_hi\": 2539446.0, \"ci_lo\": 2539446.0, \"mean\": 2539446.0}, {\"time\": \"2023-10-23\", \"type\": \"baseline\", \"ci_hi\": 2240947.4375, \"ci_lo\": 1985488.21875, \"mean\": 2121088.5}, {\"time\": \"2023-10-23\", \"type\": \"expected\", \"ci_hi\": 2426170.5875, \"ci_lo\": 2320480.275, \"mean\": 2372516.5}, {\"time\": \"2023-10-30\", \"type\": \"actual\", \"ci_hi\": 2568289.25, \"ci_lo\": 2568289.25, \"mean\": 2568289.25}, {\"time\": \"2023-10-30\", \"type\": \"baseline\", \"ci_hi\": 2221304.125, \"ci_lo\": 1950677.625, \"mean\": 2092884.875}, {\"time\": \"2023-10-30\", \"type\": \"expected\", \"ci_hi\": 2415453.5, \"ci_lo\": 2262023.6, \"mean\": 2338947.25}, {\"time\": \"2023-11-06\", \"type\": \"actual\", \"ci_hi\": 2469416.25, \"ci_lo\": 2469416.25, \"mean\": 2469416.25}, {\"time\": \"2023-11-06\", \"type\": \"baseline\", \"ci_hi\": 2227493.1125, \"ci_lo\": 1939790.5125, \"mean\": 2089945.25}, {\"time\": \"2023-11-06\", \"type\": \"expected\", \"ci_hi\": 2398045.3125, \"ci_lo\": 2209934.25, \"mean\": 2304512.75}, {\"time\": \"2023-11-13\", \"type\": \"actual\", \"ci_hi\": 2458116.75, \"ci_lo\": 2458116.75, \"mean\": 2458116.75}, {\"time\": \"2023-11-13\", \"type\": \"baseline\", \"ci_hi\": 2194531.475, \"ci_lo\": 1938880.41875, \"mean\": 2075208.5}, {\"time\": \"2023-11-13\", \"type\": \"expected\", \"ci_hi\": 2350472.95, \"ci_lo\": 2220385.65, \"mean\": 2288306.75}, {\"time\": \"2023-11-20\", \"type\": \"actual\", \"ci_hi\": 2525190.25, \"ci_lo\": 2525190.25, \"mean\": 2525190.25}, {\"time\": \"2023-11-20\", \"type\": \"baseline\", \"ci_hi\": 2224950.8875, \"ci_lo\": 1967211.28125, \"mean\": 2104902.75}, {\"time\": \"2023-11-20\", \"type\": \"expected\", \"ci_hi\": 2384227.475, \"ci_lo\": 2247384.675, \"mean\": 2318865.75}, {\"time\": \"2023-11-27\", \"type\": \"actual\", \"ci_hi\": 2472870.5, \"ci_lo\": 2472870.5, \"mean\": 2472870.5}, {\"time\": \"2023-11-27\", \"type\": \"baseline\", \"ci_hi\": 2310887.75, \"ci_lo\": 2021914.38125, \"mean\": 2173478.0}, {\"time\": \"2023-11-27\", \"type\": \"expected\", \"ci_hi\": 2484007.85, \"ci_lo\": 2281720.4, \"mean\": 2384785.5}, {\"time\": \"2023-12-04\", \"type\": \"actual\", \"ci_hi\": 2464104.5, \"ci_lo\": 2464104.5, \"mean\": 2464104.5}, {\"time\": \"2023-12-04\", \"type\": \"baseline\", \"ci_hi\": 2261221.175, \"ci_lo\": 1993523.425, \"mean\": 2134783.25}, {\"time\": \"2023-12-04\", \"type\": \"expected\", \"ci_hi\": 2427458.575, \"ci_lo\": 2247120.6125, \"mean\": 2338761.25}, {\"time\": \"2023-12-11\", \"type\": \"actual\", \"ci_hi\": 2686708.75, \"ci_lo\": 2686708.75, \"mean\": 2686708.75}, {\"time\": \"2023-12-11\", \"type\": \"baseline\", \"ci_hi\": 2274117.175, \"ci_lo\": 2004892.675, \"mean\": 2146964.25}, {\"time\": \"2023-12-11\", \"type\": \"expected\", \"ci_hi\": 2427490.025, \"ci_lo\": 2240256.4375, \"mean\": 2335373.25}, {\"time\": \"2023-12-18\", \"type\": \"actual\", \"ci_hi\": 3397529.25, \"ci_lo\": 3397529.25, \"mean\": 3397529.25}, {\"time\": \"2023-12-18\", \"type\": \"baseline\", \"ci_hi\": 2378658.875, \"ci_lo\": 2088861.45625, \"mean\": 2241148.75}, {\"time\": \"2023-12-18\", \"type\": \"expected\", \"ci_hi\": 2527096.3125, \"ci_lo\": 2311588.2, \"mean\": 2421243.25}, {\"time\": \"2023-12-25\", \"type\": \"actual\", \"ci_hi\": 2002780.0, \"ci_lo\": 2002780.0, \"mean\": 2002780.0}, {\"time\": \"2023-12-25\", \"type\": \"baseline\", \"ci_hi\": 2462853.0749999997, \"ci_lo\": 2168505.35, \"mean\": 2323562.0}, {\"time\": \"2023-12-25\", \"type\": \"expected\", \"ci_hi\": 2607778.675, \"ci_lo\": 2374482.825, \"mean\": 2496371.5}]}}, {\"mode\": \"vega-lite\"});\n",
       "</script>"
      ],
      "text/plain": [
       "alt.LayerChart(...)"
      ]
     },
     "execution_count": 63,
     "metadata": {},
     "output_type": "execute_result"
    }
   ],
   "source": [
    "model_fit = visualizer.ModelFit(mmm)\n",
    "model_fit.plot_model_fit()"
   ]
  },
  {
   "cell_type": "code",
   "execution_count": 67,
   "metadata": {},
   "outputs": [],
   "source": [
    "mmm_summarizer = summarizer.Summarizer(mmm)\n"
   ]
  },
  {
   "cell_type": "code",
   "execution_count": 68,
   "metadata": {},
   "outputs": [
    {
     "name": "stderr",
     "output_type": "stream",
     "text": [
      "c:\\Users\\charl\\Documents\\xhec_mmm_loreal\\.venv\\Lib\\site-packages\\meridian\\analysis\\analyzer.py:182: UserWarning: The `aggregate_geos` argument is ignored in the national model. It will be reset to `True`.\n",
      "  warnings.warn(\n",
      "c:\\Users\\charl\\Documents\\xhec_mmm_loreal\\.venv\\Lib\\site-packages\\altair\\utils\\core.py:384: FutureWarning: the convert_dtype parameter is deprecated and will be removed in a future version.  Do ``ser.astype(object).apply()`` instead if you want ``convert_dtype=False``.\n",
      "  col = df[col_name].apply(to_list_if_array, convert_dtype=False)\n",
      "c:\\Users\\charl\\Documents\\xhec_mmm_loreal\\.venv\\Lib\\site-packages\\altair\\utils\\core.py:384: FutureWarning: the convert_dtype parameter is deprecated and will be removed in a future version.  Do ``ser.astype(object).apply()`` instead if you want ``convert_dtype=False``.\n",
      "  col = df[col_name].apply(to_list_if_array, convert_dtype=False)\n",
      "c:\\Users\\charl\\Documents\\xhec_mmm_loreal\\.venv\\Lib\\site-packages\\meridian\\analysis\\analyzer.py:182: UserWarning: The `aggregate_geos` argument is ignored in the national model. It will be reset to `True`.\n",
      "  warnings.warn(\n",
      "c:\\Users\\charl\\Documents\\xhec_mmm_loreal\\.venv\\Lib\\site-packages\\altair\\utils\\core.py:384: FutureWarning: the convert_dtype parameter is deprecated and will be removed in a future version.  Do ``ser.astype(object).apply()`` instead if you want ``convert_dtype=False``.\n",
      "  col = df[col_name].apply(to_list_if_array, convert_dtype=False)\n",
      "c:\\Users\\charl\\Documents\\xhec_mmm_loreal\\.venv\\Lib\\site-packages\\altair\\utils\\core.py:384: FutureWarning: the convert_dtype parameter is deprecated and will be removed in a future version.  Do ``ser.astype(object).apply()`` instead if you want ``convert_dtype=False``.\n",
      "  col = df[col_name].apply(to_list_if_array, convert_dtype=False)\n",
      "c:\\Users\\charl\\Documents\\xhec_mmm_loreal\\.venv\\Lib\\site-packages\\altair\\utils\\core.py:384: FutureWarning: the convert_dtype parameter is deprecated and will be removed in a future version.  Do ``ser.astype(object).apply()`` instead if you want ``convert_dtype=False``.\n",
      "  col = df[col_name].apply(to_list_if_array, convert_dtype=False)\n",
      "c:\\Users\\charl\\Documents\\xhec_mmm_loreal\\.venv\\Lib\\site-packages\\altair\\utils\\core.py:384: FutureWarning: the convert_dtype parameter is deprecated and will be removed in a future version.  Do ``ser.astype(object).apply()`` instead if you want ``convert_dtype=False``.\n",
      "  col = df[col_name].apply(to_list_if_array, convert_dtype=False)\n",
      "c:\\Users\\charl\\Documents\\xhec_mmm_loreal\\.venv\\Lib\\site-packages\\altair\\utils\\core.py:384: FutureWarning: the convert_dtype parameter is deprecated and will be removed in a future version.  Do ``ser.astype(object).apply()`` instead if you want ``convert_dtype=False``.\n",
      "  col = df[col_name].apply(to_list_if_array, convert_dtype=False)\n",
      "c:\\Users\\charl\\Documents\\xhec_mmm_loreal\\.venv\\Lib\\site-packages\\altair\\utils\\core.py:384: FutureWarning: the convert_dtype parameter is deprecated and will be removed in a future version.  Do ``ser.astype(object).apply()`` instead if you want ``convert_dtype=False``.\n",
      "  col = df[col_name].apply(to_list_if_array, convert_dtype=False)\n",
      "c:\\Users\\charl\\Documents\\xhec_mmm_loreal\\.venv\\Lib\\site-packages\\altair\\utils\\core.py:384: FutureWarning: the convert_dtype parameter is deprecated and will be removed in a future version.  Do ``ser.astype(object).apply()`` instead if you want ``convert_dtype=False``.\n",
      "  col = df[col_name].apply(to_list_if_array, convert_dtype=False)\n",
      "c:\\Users\\charl\\Documents\\xhec_mmm_loreal\\.venv\\Lib\\site-packages\\altair\\utils\\core.py:384: FutureWarning: the convert_dtype parameter is deprecated and will be removed in a future version.  Do ``ser.astype(object).apply()`` instead if you want ``convert_dtype=False``.\n",
      "  col = df[col_name].apply(to_list_if_array, convert_dtype=False)\n",
      "c:\\Users\\charl\\Documents\\xhec_mmm_loreal\\.venv\\Lib\\site-packages\\altair\\utils\\core.py:384: FutureWarning: the convert_dtype parameter is deprecated and will be removed in a future version.  Do ``ser.astype(object).apply()`` instead if you want ``convert_dtype=False``.\n",
      "  col = df[col_name].apply(to_list_if_array, convert_dtype=False)\n",
      "c:\\Users\\charl\\Documents\\xhec_mmm_loreal\\.venv\\Lib\\site-packages\\altair\\utils\\core.py:384: FutureWarning: the convert_dtype parameter is deprecated and will be removed in a future version.  Do ``ser.astype(object).apply()`` instead if you want ``convert_dtype=False``.\n",
      "  col = df[col_name].apply(to_list_if_array, convert_dtype=False)\n",
      "c:\\Users\\charl\\Documents\\xhec_mmm_loreal\\.venv\\Lib\\site-packages\\altair\\utils\\core.py:384: FutureWarning: the convert_dtype parameter is deprecated and will be removed in a future version.  Do ``ser.astype(object).apply()`` instead if you want ``convert_dtype=False``.\n",
      "  col = df[col_name].apply(to_list_if_array, convert_dtype=False)\n"
     ]
    }
   ],
   "source": [
    "mmm_summarizer.output_model_results_summary('summary_output.html', filepath='output')"
   ]
  },
  {
   "cell_type": "code",
   "execution_count": null,
   "metadata": {},
   "outputs": [],
   "source": []
  }
 ],
 "metadata": {
  "kernelspec": {
   "display_name": ".venv",
   "language": "python",
   "name": "python3"
  },
  "language_info": {
   "codemirror_mode": {
    "name": "ipython",
    "version": 3
   },
   "file_extension": ".py",
   "mimetype": "text/x-python",
   "name": "python",
   "nbconvert_exporter": "python",
   "pygments_lexer": "ipython3",
   "version": "3.11.0"
  }
 },
 "nbformat": 4,
 "nbformat_minor": 2
}
